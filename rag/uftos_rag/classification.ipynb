{
 "cells": [
  {
   "metadata": {
    "ExecuteTime": {
     "end_time": "2025-06-02T04:48:53.486959Z",
     "start_time": "2025-06-02T04:48:53.483628Z"
    }
   },
   "cell_type": "code",
   "source": [
    "import logging\n",
    "import sys\n",
    "import os # Necesario para os.path.exists\n",
    "\n",
    "# Configuración básica de logging\n",
    "logging.basicConfig(stream=sys.stdout, level=logging.INFO)\n",
    "logging.getLogger().addHandler(logging.StreamHandler(stream=sys.stdout))\n",
    "\n",
    "from llama_index.core import Settings, StorageContext, load_index_from_storage\n",
    "from llama_index.embeddings.huggingface import HuggingFaceEmbedding\n",
    "from llama_index.llms.ollama import Ollama\n",
    "from llama_index.core.prompts import PromptTemplate\n",
    "from llama_index.core.callbacks import CallbackManager, LlamaDebugHandler, CBEventType"
   ],
   "id": "f51a3cda6609c3ee",
   "outputs": [],
   "execution_count": 14
  },
  {
   "metadata": {
    "ExecuteTime": {
     "end_time": "2025-06-02T04:48:55.222906Z",
     "start_time": "2025-06-02T04:48:55.217771Z"
    }
   },
   "cell_type": "code",
   "source": [
    "# --- Callback Handler Personalizado para capturar el prompt ---\n",
    "class PromptCaptureHandler(LlamaDebugHandler):\n",
    "    def __init__(self):\n",
    "        super().__init__()\n",
    "        self.last_llm_prompt = None\n",
    "        self.last_llm_inputs = None\n",
    "\n",
    "    def on_event_start(\n",
    "        self,\n",
    "        event_type: CBEventType,\n",
    "        payload: dict = None,\n",
    "        event_id: str = \"\",\n",
    "        parent_id: str = \"\",\n",
    "        **kwargs,\n",
    "    ) -> str:\n",
    "        if event_type == CBEventType.LLM:\n",
    "            # El payload en el evento LLM contiene los argumentos pasados al LLM\n",
    "            # Esto incluye los mensajes o el prompt formateado\n",
    "            if payload:\n",
    "                # Para modelos de chat, los prompts están en 'messages'\n",
    "                if \"messages\" in payload:\n",
    "                    self.last_llm_inputs = payload.get(\"messages\")\n",
    "                # Para modelos de completado, puede estar en una lista de 'prompts'\n",
    "                elif \"prompts\" in payload:\n",
    "                     self.last_llm_inputs = payload.get(\"prompts\")\n",
    "\n",
    "        return event_id # Devuelve el event_id\n",
    "\n",
    "    def on_event_end(\n",
    "        self,\n",
    "        event_type: CBEventType,\n",
    "        payload: dict = None,\n",
    "        event_id: str = \"\",\n",
    "        **kwargs,\n",
    "    ) -> None:\n",
    "        # Aquí podrías capturar la respuesta del LLM si quisieras\n",
    "        pass\n",
    "\n",
    "    def get_last_llm_prompt_str(self):\n",
    "        if not self.last_llm_inputs:\n",
    "            return \"No se capturó ningún prompt para el LLM.\"\n",
    "\n",
    "        # Si son mensajes de chat (lo más común ahora)\n",
    "        if isinstance(self.last_llm_inputs, list) and hasattr(self.last_llm_inputs[0], 'content'):\n",
    "            return \"\\n\".join([f\"Role: {msg.role}\\nContent: {msg.content}\" for msg in self.last_llm_inputs])\n",
    "        # Si es una lista de strings de prompt (para modelos de completado más antiguos)\n",
    "        elif isinstance(self.last_llm_inputs, list) and isinstance(self.last_llm_inputs[0], str):\n",
    "            return \"\\n---\\n\".join(self.last_llm_inputs)\n",
    "        return str(self.last_llm_inputs)"
   ],
   "id": "9307691bad71cd9",
   "outputs": [],
   "execution_count": 15
  },
  {
   "cell_type": "code",
   "id": "initial_id",
   "metadata": {
    "collapsed": true,
    "ExecuteTime": {
     "end_time": "2025-06-02T04:48:58.919945Z",
     "start_time": "2025-06-02T04:48:56.873207Z"
    }
   },
   "source": [
    "\n",
    "\n",
    "# --- 1. Configurar Componentes Globales (LLM y Modelo de Embeddings) ---\n",
    "print(\"Configurando LLM, Embeddings y Callback Manager...\")\n",
    "prompt_capture_handler = PromptCaptureHandler()\n",
    "callback_manager = CallbackManager([prompt_capture_handler])\n",
    "try:\n",
    "    Settings.llm = Ollama(model=\"qwen3:1.7b-q8_0\", request_timeout=3600.0) # o tu modelo preferido\n",
    "    Settings.embed_model = HuggingFaceEmbedding(\n",
    "        model_name=\"sentence-transformers/all-MiniLM-L6-v2\"\n",
    "    )\n",
    "    Settings.callback_manager = callback_manager # Asignar el callback manager globalmente\n",
    "    print(\"LLM y Modelo de Embeddings configurados.\")\n",
    "except Exception as e:\n",
    "    print(f\"Error configurando LLM o Embeddings: {e}\")\n",
    "    exit()\n"
   ],
   "outputs": [
    {
     "name": "stdout",
     "output_type": "stream",
     "text": [
      "Configurando LLM, Embeddings y Callback Manager...\n",
      "INFO:sentence_transformers.SentenceTransformer:Load pretrained SentenceTransformer: sentence-transformers/all-MiniLM-L6-v2\n",
      "Load pretrained SentenceTransformer: sentence-transformers/all-MiniLM-L6-v2\n",
      "Load pretrained SentenceTransformer: sentence-transformers/all-MiniLM-L6-v2\n",
      "INFO:sentence_transformers.SentenceTransformer:2 prompts are loaded, with the keys: ['query', 'text']\n",
      "2 prompts are loaded, with the keys: ['query', 'text']\n",
      "2 prompts are loaded, with the keys: ['query', 'text']\n",
      "LLM y Modelo de Embeddings configurados.\n"
     ]
    }
   ],
   "execution_count": 16
  },
  {
   "metadata": {
    "ExecuteTime": {
     "end_time": "2025-06-02T04:49:12.344283Z",
     "start_time": "2025-06-02T04:49:00.537288Z"
    }
   },
   "cell_type": "code",
   "source": [
    "\n",
    "# --- 2. Cargar el Índice Vectorial Persistido ---\n",
    "persist_directory = \"./data/unfair_tos_data/unfair_tos_embeddings_train_val\" # El mismo directorio donde guardaste el índice\n",
    "\n",
    "if not os.path.exists(persist_directory):\n",
    "    print(f\"Error: El directorio del índice persistido '{persist_directory}' no fue encontrado.\")\n",
    "    print(\"Asegúrate de haber ejecutado el script anterior para crear y persistir el índice.\")\n",
    "    exit()\n",
    "\n",
    "print(f\"\\nCargando el índice desde: {persist_directory}...\")\n",
    "try:\n",
    "    storage_context = StorageContext.from_defaults(persist_dir=persist_directory)\n",
    "    index = load_index_from_storage(storage_context)\n",
    "    print(\"Índice cargado exitosamente.\")\n",
    "except Exception as e:\n",
    "    print(f\"Error cargando el índice: {e}\")\n",
    "    exit()"
   ],
   "id": "a604ac97c77a1257",
   "outputs": [
    {
     "name": "stdout",
     "output_type": "stream",
     "text": [
      "\n",
      "Cargando el índice desde: ./data/unfair_tos_data/unfair_tos_embeddings_train_val...\n",
      "INFO:llama_index.core.indices.loading:Loading all indices.\n",
      "Loading all indices.\n",
      "Loading all indices.\n",
      "**********\n",
      "Trace: index_construction\n",
      "**********\n",
      "Índice cargado exitosamente.\n"
     ]
    }
   ],
   "execution_count": 17
  },
  {
   "metadata": {
    "ExecuteTime": {
     "end_time": "2025-06-02T04:49:14.093656Z",
     "start_time": "2025-06-02T04:49:14.006642Z"
    }
   },
   "cell_type": "code",
   "source": [
    "# --- 3. Crear un Motor de Consulta (Query Engine) ---\n",
    "# El Query Engine se encarga de la lógica RAG: recuperar y luego sintetizar.\n",
    "print(\"\\nCreando el motor de consulta...\")\n",
    "query_engine = index.as_query_engine(\n",
    "    similarity_top_k=3, # Recuperar los 3 chunks más similares\n",
    "    # response_mode=\"compact\" # Puedes experimentar con diferentes modos de respuesta\n",
    ")\n",
    "print(\"Motor de consulta creado.\")"
   ],
   "id": "c70fa4515b3d6092",
   "outputs": [
    {
     "name": "stdout",
     "output_type": "stream",
     "text": [
      "\n",
      "Creando el motor de consulta...\n",
      "INFO:httpx:HTTP Request: POST http://localhost:11434/api/show \"HTTP/1.1 200 OK\"\n",
      "HTTP Request: POST http://localhost:11434/api/show \"HTTP/1.1 200 OK\"\n",
      "HTTP Request: POST http://localhost:11434/api/show \"HTTP/1.1 200 OK\"\n",
      "Motor de consulta creado.\n"
     ]
    }
   ],
   "execution_count": 18
  },
  {
   "metadata": {
    "ExecuteTime": {
     "end_time": "2025-06-02T04:49:15.706982Z",
     "start_time": "2025-06-02T04:49:15.703059Z"
    }
   },
   "cell_type": "code",
   "source": [
    "# --- 4. Definir la Cláusula a Clasificar y el Prompt de Clasificación ---\n",
    "\n",
    "# Nombres de las etiquetas en el ORDEN CORRECTO\n",
    "label_names_ordered = [\n",
    "    'Limitation of liability', # Índice 0\n",
    "    'Unilateral termination',  # Índice 1\n",
    "    'Unilateral change',       # Índice 2\n",
    "    'Content removal',         # Índice 3\n",
    "    'Contract by using',       # Índice 4\n",
    "    'Choice of law',           # Índice 5\n",
    "    'Jurisdiction',            # Índice 6\n",
    "    'Arbitration'              # Índice 7\n",
    "]\n",
    "# Crear una representación de las etiquetas para el prompt\n",
    "etiquetas_posibles_str = \"\\n\".join([f\"- {name}\" for name in label_names_ordered])\n",
    "\n",
    "\n",
    "\n",
    "# Crear un prompt de plantilla para la tarea de clasificación multietiqueta\n",
    "# Esto es un ejemplo. El \"prompt engineering\" es clave aquí.\n",
    "# Le pedimos al LLM que use el contexto para identificar las etiquetas.\n",
    "classification_prompt_template = PromptTemplate(\n",
    "    \"Eres un asistente legal experto en identificar cláusulas abusivas en Términos de Servicio.\\n\"\n",
    "    \"Analiza la siguiente Cláusula Nueva basándote en el Contexto Proporcionado (cláusulas similares y sus etiquetas) y determina a cuáles de las siguientes categorías de cláusulas abusivas pertenece.\\n\"\n",
    "    \"Responde ÚNICAMENTE con los nombres de las categorías de la lista que apliquen, separados por comas. Si ninguna aplica, responde 'Ninguna'.\\n\\n\"\n",
    "    \"Categorías Posibles:\\n\"\n",
    "    f\"{etiquetas_posibles_str}\\n\\n\"\n",
    "    \"Contexto Proporcionado (Cláusulas Similares de la Base de Conocimiento y sus Etiquetas):\\n\"\n",
    "    \"---------------------\\n\"\n",
    "    \"{context_str}\\n\"  # LlamaIndex llenará esto con los chunks recuperados\n",
    "    \"---------------------\\n\"\n",
    "    \"Cláusula Nueva a Clasificar:\\n\"\n",
    "    \"{query_str}\\n\\n\"  # LlamaIndex llenará esto con la cláusula_a_clasificar\n",
    "    \"Etiquetas Identificadas (separadas por comas o 'Ninguna'):\"\n",
    ")\n",
    "\n",
    "# Actualizar el prompt en el query_engine\n",
    "query_engine.update_prompts(\n",
    "    {\"response_synthesizer:text_qa_template\": classification_prompt_template}\n",
    ")\n",
    "print(\"Prompt de clasificación actualizado en el motor de consulta.\")\n"
   ],
   "id": "21385e957bdb2f9",
   "outputs": [
    {
     "name": "stdout",
     "output_type": "stream",
     "text": [
      "Prompt de clasificación actualizado en el motor de consulta.\n"
     ]
    }
   ],
   "execution_count": 19
  },
  {
   "metadata": {
    "ExecuteTime": {
     "end_time": "2025-06-02T05:08:05.568903Z",
     "start_time": "2025-06-02T05:08:05.566338Z"
    }
   },
   "cell_type": "code",
   "source": [
    "# Cláusula de ejemplo que queremos clasificar (puedes cambiarla)\n",
    "clausula_a_clasificar = \"amazon has the right but not the obligation to monitor and edit or remove any activity or content .\""
   ],
   "id": "45cc55dbab11e35",
   "outputs": [],
   "execution_count": 29
  },
  {
   "metadata": {
    "ExecuteTime": {
     "end_time": "2025-06-02T05:08:18.116665Z",
     "start_time": "2025-06-02T05:08:07.312332Z"
    }
   },
   "cell_type": "code",
   "source": [
    "# --- 5. Realizar la Consulta RAG para Clasificación ---\n",
    "print(f\"\\nClasificando la cláusula: \\\"{clausula_a_clasificar}\\\"\")\n",
    "try:\n",
    "    respuesta_rag = query_engine.query(clausula_a_clasificar)\n",
    "\n",
    "    print(\"\\n--- Prompt Final Enviado al LLM (Capturado por Callback) ---\")\n",
    "    print(prompt_capture_handler.get_last_llm_prompt_str()) # Imprimir el prompt capturado\n",
    "\n",
    "    print(\"\\n--- Respuesta del LLM (Clasificación Sugerida) ---\")\n",
    "    print(respuesta_rag.response)\n",
    "\n",
    "    print(\"\\n--- Nodos Fuente Utilizados para la Clasificación (Contexto) ---\")\n",
    "    for i, source_node in enumerate(respuesta_rag.source_nodes):\n",
    "        print(f\"Nodo {i+1} (Score de similitud: {source_node.score:.4f}):\")\n",
    "        print(f\"Texto: {source_node.get_content()[:150]}...\")\n",
    "        print(f\"Metadatos originales: {source_node.metadata}\") # Aquí verás las etiquetas originales de este chunk\n",
    "        print(\"-\" * 20)\n",
    "\n",
    "except Exception as e:\n",
    "    print(f\"Error durante la consulta RAG para clasificación: {e}\")\n",
    "\n",
    "print(\"\\n--- Fin del Ejemplo RAG para Clasificación con LlamaIndex ---\")"
   ],
   "id": "ceb20287cb0d0178",
   "outputs": [
    {
     "name": "stdout",
     "output_type": "stream",
     "text": [
      "\n",
      "Clasificando la cláusula: \"amazon has the right but not the obligation to monitor and edit or remove any activity or content .\"\n",
      "INFO:httpx:HTTP Request: POST http://localhost:11434/api/chat \"HTTP/1.1 200 OK\"\n",
      "HTTP Request: POST http://localhost:11434/api/chat \"HTTP/1.1 200 OK\"\n",
      "HTTP Request: POST http://localhost:11434/api/chat \"HTTP/1.1 200 OK\"\n",
      "**********\n",
      "Trace: query\n",
      "**********\n",
      "\n",
      "--- Prompt Final Enviado al LLM (Capturado por Callback) ---\n",
      "Role: MessageRole.USER\n",
      "Content: Eres un asistente legal experto en identificar cláusulas abusivas en Términos de Servicio.\n",
      "Analiza la siguiente Cláusula Nueva basándote en el Contexto Proporcionado (cláusulas similares y sus etiquetas) y determina a cuáles de las siguientes categorías de cláusulas abusivas pertenece.\n",
      "Responde ÚNICAMENTE con los nombres de las categorías de la lista que apliquen, separados por comas. Si ninguna aplica, responde 'Ninguna'.\n",
      "\n",
      "Categorías Posibles:\n",
      "- Limitation of liability\n",
      "- Unilateral termination\n",
      "- Unilateral change\n",
      "- Content removal\n",
      "- Contract by using\n",
      "- Choice of law\n",
      "- Jurisdiction\n",
      "- Arbitration\n",
      "\n",
      "Contexto Proporcionado (Cláusulas Similares de la Base de Conocimiento y sus Etiquetas):\n",
      "---------------------\n",
      "clause_id: row_782\n",
      "labels_indices: [3, 1]\n",
      "labels_names: Content removal, Unilateral termination\n",
      "\n",
      "7.8 on becoming aware of any potential violation of these terms , youtube reserves the right ( but shall have no obligation ) to decide whether content complies with the content requirements set out in these terms and may remove such content and/or terminate a user 's access for uploading content which is in violation of these terms at any time , without prior notice and at its sole discretion .\n",
      "\n",
      "clause_id: row_6708\n",
      "labels_indices: [3, 1]\n",
      "labels_names: Content removal, Unilateral termination\n",
      "\n",
      "7.4 we reserve the right , in our sole discretion , to refuse to post or to remove or edit any of your user material , or to restrict , suspend , or terminate your access to all or any part of the products , particularly where user material breaches this section 7 , and we may do this with or without giving you any prior notice .\n",
      "\n",
      "clause_id: row_242\n",
      "labels_indices: [3]\n",
      "labels_names: Content removal\n",
      "\n",
      "while we do not and can not review every message or other material posted or sent by users of the service , and are not responsible for any content of these messages or materials , we reserve the right , but are not obligated , to delete , move , or edit messages or materials , including without limitation property profiles , public postings and messages , that we , in our sole discretion , deem to violate the code of conduct set out above or any applicable content guidelines , or to be otherwise unacceptable .\n",
      "---------------------\n",
      "Cláusula Nueva a Clasificar:\n",
      "amazon has the right but not the obligation to monitor and edit or remove any activity or content .\n",
      "\n",
      "Etiquetas Identificadas (separadas por comas o 'Ninguna'):\n",
      "\n",
      "--- Respuesta del LLM (Clasificación Sugerida) ---\n",
      "<think>\n",
      "Okay, let's tackle this. The user wants me to determine which categories of abusive clauses the given new clause falls into. The categories are Limitation of liability, Unilateral termination, Unilateral change, Content removal, Contract by using, Choice of law, Jurisdiction, Arbitration.\n",
      "\n",
      "First, I need to look at the new clause: \"amazon has the right but not the obligation to monitor and edit or remove any activity or content.\" \n",
      "\n",
      "Comparing this with the provided context. The context has clauses like Content removal and Unilateral termination. For example, in row_782, it says YouTube can remove content without notice. Similarly, row_6708 mentions the right to remove user material. \n",
      "\n",
      "The new clause is about Amazon having the right but not the obligation to monitor and edit/remove activity/content. The key here is that Amazon is not obligated to do so, which aligns with the \"Content removal\" category because they have the right to remove content. However, the term \"monitor and edit or remove\" is a bit different. \n",
      "\n",
      "Looking at the existing labels, the context has Content removal and Unilateral termination. The new clause mentions the right to remove content, which is Content removal. But the user is asking if it fits any of the categories. \n",
      "\n",
      "Also, Unilateral termination is about terminating a user's access, which isn't directly mentioned here. The new clause is about monitoring and removing content, which is Content removal. \n",
      "\n",
      "So, the correct category here would be Content removal. The other categories like Unilateral termination don't apply here because the clause isn't about terminating access but about removing content. \n",
      "\n",
      "Therefore, the answer should be Content removal.\n",
      "</think>\n",
      "\n",
      "Content removal\n",
      "\n",
      "--- Nodos Fuente Utilizados para la Clasificación (Contexto) ---\n",
      "Nodo 1 (Score de similitud: 0.4540):\n",
      "Texto: 7.8 on becoming aware of any potential violation of these terms , youtube reserves the right ( but shall have no obligation ) to decide whether conten...\n",
      "Metadatos originales: {'clause_id': 'row_782', 'labels_indices': '[3, 1]', 'labels_names': 'Content removal, Unilateral termination'}\n",
      "--------------------\n",
      "Nodo 2 (Score de similitud: 0.4334):\n",
      "Texto: 7.4 we reserve the right , in our sole discretion , to refuse to post or to remove or edit any of your user material , or to restrict , suspend , or t...\n",
      "Metadatos originales: {'clause_id': 'row_6708', 'labels_indices': '[3, 1]', 'labels_names': 'Content removal, Unilateral termination'}\n",
      "--------------------\n",
      "Nodo 3 (Score de similitud: 0.4284):\n",
      "Texto: while we do not and can not review every message or other material posted or sent by users of the service , and are not responsible for any content of...\n",
      "Metadatos originales: {'clause_id': 'row_242', 'labels_indices': '[3]', 'labels_names': 'Content removal'}\n",
      "--------------------\n",
      "\n",
      "--- Fin del Ejemplo RAG para Clasificación con LlamaIndex ---\n"
     ]
    }
   ],
   "execution_count": 30
  },
  {
   "metadata": {
    "ExecuteTime": {
     "end_time": "2025-06-02T04:49:39.321250Z",
     "start_time": "2025-06-02T04:49:39.315499Z"
    }
   },
   "cell_type": "code",
   "source": [
    "# --- Funciones Auxiliares ---\n",
    "import re\n",
    "\n",
    "def parse_space_separated_label_list(label_str):\n",
    "    if pd.isna(label_str) or not isinstance(label_str, str):\n",
    "        return []\n",
    "    cleaned_str = label_str.strip().strip('[]').strip()\n",
    "    if not cleaned_str:\n",
    "        return []\n",
    "    try:\n",
    "        return [int(num_str) for num_str in cleaned_str.split()]\n",
    "    except ValueError:\n",
    "        return []\n",
    "\n",
    "def extract_reasoning_and_prediction(llm_full_response: str):\n",
    "    \"\"\"\n",
    "    Extrae el razonamiento (dentro de <think></think>) y la predicción final.\n",
    "    \"\"\"\n",
    "    reasoning = None\n",
    "    prediction_str = llm_full_response # Por defecto, toda la respuesta es la predicción\n",
    "\n",
    "    think_match = re.search(r\"<think>(.*?)</think>(.*)\", llm_full_response, re.DOTALL | re.IGNORECASE)\n",
    "\n",
    "    if think_match:\n",
    "        reasoning = think_match.group(1).strip()\n",
    "        prediction_str = think_match.group(2).strip()\n",
    "\n",
    "    # Si después de quitar el bloque <think>, la predicción está vacía,\n",
    "    # o si no hubo bloque <think> pero la respuesta es solo \"Ninguna\" u otra etiqueta,\n",
    "    # la tomamos como la predicción.\n",
    "    # Si la predicción_str sigue conteniendo saltos de línea inesperados o texto residual,\n",
    "    # podríamos necesitar una lógica más robusta para aislar la línea final de etiquetas.\n",
    "    # Por ahora, asumimos que la predicción está justo después de </think> o es toda la respuesta.\n",
    "\n",
    "    # Un intento simple de tomar la última línea no vacía como la predicción si hay múltiples líneas después de </think>\n",
    "    potential_prediction_lines = [line.strip() for line in prediction_str.split('\\n') if line.strip()]\n",
    "    if potential_prediction_lines:\n",
    "        prediction_str = potential_prediction_lines[-1]\n",
    "\n",
    "    return reasoning, prediction_str\n",
    "\n",
    "\n",
    "def parse_llm_prediction_to_indices(prediction_final_str: str, label_names_ordered: list) -> list:\n",
    "    \"\"\"Convierte la cadena de predicción final del LLM a una lista de índices.\"\"\"\n",
    "    if prediction_final_str.strip().lower() == 'ninguna':\n",
    "        return []\n",
    "\n",
    "    predicted_label_names = [name.strip().lower() for name in prediction_final_str.split(',')]\n",
    "    indices = []\n",
    "    for i, official_name in enumerate(label_names_ordered):\n",
    "        if official_name.lower() in predicted_label_names:\n",
    "            indices.append(i)\n",
    "    return sorted(list(set(indices)))\n",
    "\n",
    "def convert_indices_to_multihot(label_indices: list, num_total_labels: int) -> list:\n",
    "    \"\"\"Convierte una lista de índices a un vector multi-hot.\"\"\"\n",
    "    multihot = [0] * num_total_labels\n",
    "    for idx in label_indices:\n",
    "        if 0 <= idx < num_total_labels:\n",
    "            multihot[idx] = 1\n",
    "    return multihot"
   ],
   "id": "cdeecb6e9b5f2102",
   "outputs": [],
   "execution_count": 22
  },
  {
   "metadata": {
    "ExecuteTime": {
     "end_time": "2025-06-02T04:49:41.009231Z",
     "start_time": "2025-06-02T04:49:40.999876Z"
    }
   },
   "cell_type": "code",
   "source": [
    "from tqdm import tqdm\n",
    "import pandas as pd\n",
    "NUM_LABELS = len(label_names_ordered)\n",
    "# --- 4. Cargar y Preparar el Dataset de Test ---\n",
    "output_dir = \"./data/unfair_tos_data\"\n",
    "test_file_path = os.path.join(output_dir, \"unfair_tos_test.csv\")\n",
    "\n",
    "if not os.path.exists(test_file_path):\n",
    "    print(f\"Error: El archivo de test '{test_file_path}' no fue encontrado.\")\n",
    "    exit()\n",
    "\n",
    "print(f\"\\nCargando el archivo de test: {test_file_path}...\")\n",
    "df_test = pd.read_csv(test_file_path)\n",
    "df_test['true_labels_indices'] = df_test['labels'].apply(parse_space_separated_label_list)\n",
    "print(f\"Archivo de test cargado. Total de filas: {len(df_test)}\")\n",
    "\n",
    "# Seleccionar las primeras N muestras para clasificar\n",
    "num_muestras_a_clasificar = 200\n",
    "df_test_sample = df_test.head(num_muestras_a_clasificar).copy() # Usar .copy() para evitar SettingWithCopyWarning\n",
    "print(f\"Se clasificarán las primeras {len(df_test_sample)} muestras del archivo de test.\")"
   ],
   "id": "b0ef74bdb6306c5a",
   "outputs": [
    {
     "name": "stdout",
     "output_type": "stream",
     "text": [
      "\n",
      "Cargando el archivo de test: ./data/unfair_tos_data/unfair_tos_test.csv...\n",
      "Archivo de test cargado. Total de filas: 1607\n",
      "Se clasificarán las primeras 200 muestras del archivo de test.\n"
     ]
    }
   ],
   "execution_count": 23
  },
  {
   "metadata": {
    "ExecuteTime": {
     "end_time": "2025-06-02T04:49:42.652355Z",
     "start_time": "2025-06-02T04:49:42.646184Z"
    }
   },
   "cell_type": "code",
   "source": "df_test_sample",
   "id": "f477e0ac9c3e3474",
   "outputs": [
    {
     "data": {
      "text/plain": [
       "                                                  text labels  \\\n",
       "0                 last updated date : may 15 , 2017 \\n     []   \n",
       "1    academia , inc. ( `` academia.edu '' or `` we ...     []   \n",
       "2    please read carefully the following terms and ...     []   \n",
       "3    these terms govern your access to and use of t...     []   \n",
       "4    arbitration notice : unless you opt out of arb...    [7]   \n",
       "..                                                 ...    ...   \n",
       "195  amazon provides the amazon services subject to...     []   \n",
       "196  by using amazon services , you agree to these ...    [4]   \n",
       "197  we offer a wide range of amazon services , and...     []   \n",
       "198  when you use an amazon service ( for example ,...     []   \n",
       "199  if these conditions of use are inconsistent wi...     []   \n",
       "\n",
       "    true_labels_indices  \n",
       "0                    []  \n",
       "1                    []  \n",
       "2                    []  \n",
       "3                    []  \n",
       "4                   [7]  \n",
       "..                  ...  \n",
       "195                  []  \n",
       "196                 [4]  \n",
       "197                  []  \n",
       "198                  []  \n",
       "199                  []  \n",
       "\n",
       "[200 rows x 3 columns]"
      ],
      "text/html": [
       "<div>\n",
       "<style scoped>\n",
       "    .dataframe tbody tr th:only-of-type {\n",
       "        vertical-align: middle;\n",
       "    }\n",
       "\n",
       "    .dataframe tbody tr th {\n",
       "        vertical-align: top;\n",
       "    }\n",
       "\n",
       "    .dataframe thead th {\n",
       "        text-align: right;\n",
       "    }\n",
       "</style>\n",
       "<table border=\"1\" class=\"dataframe\">\n",
       "  <thead>\n",
       "    <tr style=\"text-align: right;\">\n",
       "      <th></th>\n",
       "      <th>text</th>\n",
       "      <th>labels</th>\n",
       "      <th>true_labels_indices</th>\n",
       "    </tr>\n",
       "  </thead>\n",
       "  <tbody>\n",
       "    <tr>\n",
       "      <th>0</th>\n",
       "      <td>last updated date : may 15 , 2017 \\n</td>\n",
       "      <td>[]</td>\n",
       "      <td>[]</td>\n",
       "    </tr>\n",
       "    <tr>\n",
       "      <th>1</th>\n",
       "      <td>academia , inc. ( `` academia.edu '' or `` we ...</td>\n",
       "      <td>[]</td>\n",
       "      <td>[]</td>\n",
       "    </tr>\n",
       "    <tr>\n",
       "      <th>2</th>\n",
       "      <td>please read carefully the following terms and ...</td>\n",
       "      <td>[]</td>\n",
       "      <td>[]</td>\n",
       "    </tr>\n",
       "    <tr>\n",
       "      <th>3</th>\n",
       "      <td>these terms govern your access to and use of t...</td>\n",
       "      <td>[]</td>\n",
       "      <td>[]</td>\n",
       "    </tr>\n",
       "    <tr>\n",
       "      <th>4</th>\n",
       "      <td>arbitration notice : unless you opt out of arb...</td>\n",
       "      <td>[7]</td>\n",
       "      <td>[7]</td>\n",
       "    </tr>\n",
       "    <tr>\n",
       "      <th>...</th>\n",
       "      <td>...</td>\n",
       "      <td>...</td>\n",
       "      <td>...</td>\n",
       "    </tr>\n",
       "    <tr>\n",
       "      <th>195</th>\n",
       "      <td>amazon provides the amazon services subject to...</td>\n",
       "      <td>[]</td>\n",
       "      <td>[]</td>\n",
       "    </tr>\n",
       "    <tr>\n",
       "      <th>196</th>\n",
       "      <td>by using amazon services , you agree to these ...</td>\n",
       "      <td>[4]</td>\n",
       "      <td>[4]</td>\n",
       "    </tr>\n",
       "    <tr>\n",
       "      <th>197</th>\n",
       "      <td>we offer a wide range of amazon services , and...</td>\n",
       "      <td>[]</td>\n",
       "      <td>[]</td>\n",
       "    </tr>\n",
       "    <tr>\n",
       "      <th>198</th>\n",
       "      <td>when you use an amazon service ( for example ,...</td>\n",
       "      <td>[]</td>\n",
       "      <td>[]</td>\n",
       "    </tr>\n",
       "    <tr>\n",
       "      <th>199</th>\n",
       "      <td>if these conditions of use are inconsistent wi...</td>\n",
       "      <td>[]</td>\n",
       "      <td>[]</td>\n",
       "    </tr>\n",
       "  </tbody>\n",
       "</table>\n",
       "<p>200 rows × 3 columns</p>\n",
       "</div>"
      ]
     },
     "execution_count": 24,
     "metadata": {},
     "output_type": "execute_result"
    }
   ],
   "execution_count": 24
  },
  {
   "metadata": {
    "ExecuteTime": {
     "end_time": "2025-06-02T04:50:34.637903Z",
     "start_time": "2025-06-02T04:49:44.291618Z"
    }
   },
   "cell_type": "code",
   "source": [
    "print(\"\\nIniciando clasificación RAG para las muestras de test...\")\n",
    "llm_full_responses = []\n",
    "llm_reasonings = []\n",
    "predicted_final_labels_str = []\n",
    "predicted_indices_list = []\n",
    "true_indices_list = []\n",
    "\n",
    "for index_df, row in tqdm(df_test_sample.iterrows(), total=len(df_test_sample), desc=\"Clasificando\"):\n",
    "    clausula_a_clasificar = str(row['text'])\n",
    "    true_labels_for_sample = row['true_labels_indices']\n",
    "    true_indices_list.append(true_labels_for_sample)\n",
    "\n",
    "    try:\n",
    "        respuesta_rag = query_engine.query(clausula_a_clasificar)\n",
    "        full_response_str = respuesta_rag.response.strip()\n",
    "        llm_full_responses.append(full_response_str) # Guardar la respuesta completa\n",
    "\n",
    "        # Extraer razonamiento y predicción final\n",
    "        reasoning, prediction_final_str = extract_reasoning_and_prediction(full_response_str)\n",
    "\n",
    "        llm_reasonings.append(reasoning)\n",
    "        predicted_final_labels_str.append(prediction_final_str)\n",
    "\n",
    "        predicted_label_indices = parse_llm_prediction_to_indices(prediction_final_str, label_names_ordered)\n",
    "        predicted_indices_list.append(predicted_label_indices)\n",
    "\n",
    "    except Exception as e:\n",
    "        print(f\"Error clasificando la cláusula ID {row.get('id', index_df)}: {e}\")\n",
    "        llm_full_responses.append(\"ERROR_EN_GENERACION\")\n",
    "        llm_reasonings.append(\"ERROR_EN_GENERACION\")\n",
    "        predicted_final_labels_str.append(\"ERROR_EN_GENERACION\")\n",
    "        predicted_indices_list.append([])\n",
    "\n",
    "df_test_sample['llm_full_response'] = llm_full_responses\n",
    "df_test_sample['llm_reasoning'] = llm_reasonings\n",
    "df_test_sample['predicted_final_labels_str'] = predicted_final_labels_str # Solo la parte de etiquetas\n",
    "df_test_sample['predicted_labels_indices'] = predicted_indices_list\n",
    "\n",
    "print(\"Clasificación RAG completada.\")"
   ],
   "id": "ac2582ef7370242e",
   "outputs": [
    {
     "name": "stdout",
     "output_type": "stream",
     "text": [
      "\n",
      "Iniciando clasificación RAG para las muestras de test...\n"
     ]
    },
    {
     "name": "stderr",
     "output_type": "stream",
     "text": [
      "Clasificando:   0%|          | 0/200 [00:00<?, ?it/s]"
     ]
    },
    {
     "name": "stdout",
     "output_type": "stream",
     "text": [
      "INFO:httpx:HTTP Request: POST http://localhost:11434/api/chat \"HTTP/1.1 200 OK\"\n",
      "HTTP Request: POST http://localhost:11434/api/chat \"HTTP/1.1 200 OK\"\n",
      "HTTP Request: POST http://localhost:11434/api/chat \"HTTP/1.1 200 OK\"\n",
      "**********\n",
      "Trace: query\n",
      "**********\n"
     ]
    },
    {
     "name": "stderr",
     "output_type": "stream",
     "text": [
      "Clasificando:   0%|          | 1/200 [00:27<1:29:38, 27.03s/it]"
     ]
    },
    {
     "name": "stdout",
     "output_type": "stream",
     "text": [
      "INFO:httpx:HTTP Request: POST http://localhost:11434/api/chat \"HTTP/1.1 200 OK\"\n",
      "HTTP Request: POST http://localhost:11434/api/chat \"HTTP/1.1 200 OK\"\n",
      "HTTP Request: POST http://localhost:11434/api/chat \"HTTP/1.1 200 OK\"\n",
      "**********\n",
      "Trace: query\n",
      "**********\n"
     ]
    },
    {
     "name": "stderr",
     "output_type": "stream",
     "text": [
      "Clasificando:   1%|          | 2/200 [00:33<49:30, 15.00s/it]  "
     ]
    },
    {
     "name": "stdout",
     "output_type": "stream",
     "text": [
      "INFO:httpx:HTTP Request: POST http://localhost:11434/api/chat \"HTTP/1.1 200 OK\"\n",
      "HTTP Request: POST http://localhost:11434/api/chat \"HTTP/1.1 200 OK\"\n",
      "HTTP Request: POST http://localhost:11434/api/chat \"HTTP/1.1 200 OK\"\n",
      "**********\n",
      "Trace: query\n",
      "**********\n"
     ]
    },
    {
     "name": "stderr",
     "output_type": "stream",
     "text": [
      "Clasificando:   2%|▏         | 3/200 [00:42<39:26, 12.01s/it]"
     ]
    },
    {
     "name": "stdout",
     "output_type": "stream",
     "text": [
      "**********\n",
      "Trace: query\n",
      "**********\n"
     ]
    },
    {
     "name": "stderr",
     "output_type": "stream",
     "text": [
      "Clasificando:   2%|▏         | 3/200 [00:49<53:39, 16.34s/it]\n"
     ]
    },
    {
     "ename": "KeyboardInterrupt",
     "evalue": "",
     "output_type": "error",
     "traceback": [
      "\u001B[31m---------------------------------------------------------------------------\u001B[39m",
      "\u001B[31mKeyboardInterrupt\u001B[39m                         Traceback (most recent call last)",
      "\u001B[36mCell\u001B[39m\u001B[36m \u001B[39m\u001B[32mIn[25]\u001B[39m\u001B[32m, line 14\u001B[39m\n\u001B[32m     11\u001B[39m true_indices_list.append(true_labels_for_sample)\n\u001B[32m     13\u001B[39m \u001B[38;5;28;01mtry\u001B[39;00m:\n\u001B[32m---> \u001B[39m\u001B[32m14\u001B[39m     respuesta_rag = \u001B[43mquery_engine\u001B[49m\u001B[43m.\u001B[49m\u001B[43mquery\u001B[49m\u001B[43m(\u001B[49m\u001B[43mclausula_a_clasificar\u001B[49m\u001B[43m)\u001B[49m\n\u001B[32m     15\u001B[39m     full_response_str = respuesta_rag.response.strip()\n\u001B[32m     16\u001B[39m     llm_full_responses.append(full_response_str) \u001B[38;5;66;03m# Guardar la respuesta completa\u001B[39;00m\n",
      "\u001B[36mFile \u001B[39m\u001B[32m~/PROGRAMAS/miniconda3/envs/CHILEAN_AC/lib/python3.11/site-packages/llama_index/core/instrumentation/dispatcher.py:324\u001B[39m, in \u001B[36mDispatcher.span.<locals>.wrapper\u001B[39m\u001B[34m(func, instance, args, kwargs)\u001B[39m\n\u001B[32m    321\u001B[39m             _logger.debug(\u001B[33mf\u001B[39m\u001B[33m\"\u001B[39m\u001B[33mFailed to reset active_span_id: \u001B[39m\u001B[38;5;132;01m{\u001B[39;00me\u001B[38;5;132;01m}\u001B[39;00m\u001B[33m\"\u001B[39m)\n\u001B[32m    323\u001B[39m \u001B[38;5;28;01mtry\u001B[39;00m:\n\u001B[32m--> \u001B[39m\u001B[32m324\u001B[39m     result = \u001B[43mfunc\u001B[49m\u001B[43m(\u001B[49m\u001B[43m*\u001B[49m\u001B[43margs\u001B[49m\u001B[43m,\u001B[49m\u001B[43m \u001B[49m\u001B[43m*\u001B[49m\u001B[43m*\u001B[49m\u001B[43mkwargs\u001B[49m\u001B[43m)\u001B[49m\n\u001B[32m    325\u001B[39m     \u001B[38;5;28;01mif\u001B[39;00m \u001B[38;5;28misinstance\u001B[39m(result, asyncio.Future):\n\u001B[32m    326\u001B[39m         \u001B[38;5;66;03m# If the result is a Future, wrap it\u001B[39;00m\n\u001B[32m    327\u001B[39m         new_future = asyncio.ensure_future(result)\n",
      "\u001B[36mFile \u001B[39m\u001B[32m~/PROGRAMAS/miniconda3/envs/CHILEAN_AC/lib/python3.11/site-packages/llama_index/core/base/base_query_engine.py:52\u001B[39m, in \u001B[36mBaseQueryEngine.query\u001B[39m\u001B[34m(self, str_or_query_bundle)\u001B[39m\n\u001B[32m     50\u001B[39m     \u001B[38;5;28;01mif\u001B[39;00m \u001B[38;5;28misinstance\u001B[39m(str_or_query_bundle, \u001B[38;5;28mstr\u001B[39m):\n\u001B[32m     51\u001B[39m         str_or_query_bundle = QueryBundle(str_or_query_bundle)\n\u001B[32m---> \u001B[39m\u001B[32m52\u001B[39m     query_result = \u001B[38;5;28;43mself\u001B[39;49m\u001B[43m.\u001B[49m\u001B[43m_query\u001B[49m\u001B[43m(\u001B[49m\u001B[43mstr_or_query_bundle\u001B[49m\u001B[43m)\u001B[49m\n\u001B[32m     53\u001B[39m dispatcher.event(\n\u001B[32m     54\u001B[39m     QueryEndEvent(query=str_or_query_bundle, response=query_result)\n\u001B[32m     55\u001B[39m )\n\u001B[32m     56\u001B[39m \u001B[38;5;28;01mreturn\u001B[39;00m query_result\n",
      "\u001B[36mFile \u001B[39m\u001B[32m~/PROGRAMAS/miniconda3/envs/CHILEAN_AC/lib/python3.11/site-packages/llama_index/core/instrumentation/dispatcher.py:324\u001B[39m, in \u001B[36mDispatcher.span.<locals>.wrapper\u001B[39m\u001B[34m(func, instance, args, kwargs)\u001B[39m\n\u001B[32m    321\u001B[39m             _logger.debug(\u001B[33mf\u001B[39m\u001B[33m\"\u001B[39m\u001B[33mFailed to reset active_span_id: \u001B[39m\u001B[38;5;132;01m{\u001B[39;00me\u001B[38;5;132;01m}\u001B[39;00m\u001B[33m\"\u001B[39m)\n\u001B[32m    323\u001B[39m \u001B[38;5;28;01mtry\u001B[39;00m:\n\u001B[32m--> \u001B[39m\u001B[32m324\u001B[39m     result = \u001B[43mfunc\u001B[49m\u001B[43m(\u001B[49m\u001B[43m*\u001B[49m\u001B[43margs\u001B[49m\u001B[43m,\u001B[49m\u001B[43m \u001B[49m\u001B[43m*\u001B[49m\u001B[43m*\u001B[49m\u001B[43mkwargs\u001B[49m\u001B[43m)\u001B[49m\n\u001B[32m    325\u001B[39m     \u001B[38;5;28;01mif\u001B[39;00m \u001B[38;5;28misinstance\u001B[39m(result, asyncio.Future):\n\u001B[32m    326\u001B[39m         \u001B[38;5;66;03m# If the result is a Future, wrap it\u001B[39;00m\n\u001B[32m    327\u001B[39m         new_future = asyncio.ensure_future(result)\n",
      "\u001B[36mFile \u001B[39m\u001B[32m~/PROGRAMAS/miniconda3/envs/CHILEAN_AC/lib/python3.11/site-packages/llama_index/core/query_engine/retriever_query_engine.py:183\u001B[39m, in \u001B[36mRetrieverQueryEngine._query\u001B[39m\u001B[34m(self, query_bundle)\u001B[39m\n\u001B[32m    179\u001B[39m \u001B[38;5;28;01mwith\u001B[39;00m \u001B[38;5;28mself\u001B[39m.callback_manager.event(\n\u001B[32m    180\u001B[39m     CBEventType.QUERY, payload={EventPayload.QUERY_STR: query_bundle.query_str}\n\u001B[32m    181\u001B[39m ) \u001B[38;5;28;01mas\u001B[39;00m query_event:\n\u001B[32m    182\u001B[39m     nodes = \u001B[38;5;28mself\u001B[39m.retrieve(query_bundle)\n\u001B[32m--> \u001B[39m\u001B[32m183\u001B[39m     response = \u001B[38;5;28;43mself\u001B[39;49m\u001B[43m.\u001B[49m\u001B[43m_response_synthesizer\u001B[49m\u001B[43m.\u001B[49m\u001B[43msynthesize\u001B[49m\u001B[43m(\u001B[49m\n\u001B[32m    184\u001B[39m \u001B[43m        \u001B[49m\u001B[43mquery\u001B[49m\u001B[43m=\u001B[49m\u001B[43mquery_bundle\u001B[49m\u001B[43m,\u001B[49m\n\u001B[32m    185\u001B[39m \u001B[43m        \u001B[49m\u001B[43mnodes\u001B[49m\u001B[43m=\u001B[49m\u001B[43mnodes\u001B[49m\u001B[43m,\u001B[49m\n\u001B[32m    186\u001B[39m \u001B[43m    \u001B[49m\u001B[43m)\u001B[49m\n\u001B[32m    187\u001B[39m     query_event.on_end(payload={EventPayload.RESPONSE: response})\n\u001B[32m    189\u001B[39m \u001B[38;5;28;01mreturn\u001B[39;00m response\n",
      "\u001B[36mFile \u001B[39m\u001B[32m~/PROGRAMAS/miniconda3/envs/CHILEAN_AC/lib/python3.11/site-packages/llama_index/core/instrumentation/dispatcher.py:324\u001B[39m, in \u001B[36mDispatcher.span.<locals>.wrapper\u001B[39m\u001B[34m(func, instance, args, kwargs)\u001B[39m\n\u001B[32m    321\u001B[39m             _logger.debug(\u001B[33mf\u001B[39m\u001B[33m\"\u001B[39m\u001B[33mFailed to reset active_span_id: \u001B[39m\u001B[38;5;132;01m{\u001B[39;00me\u001B[38;5;132;01m}\u001B[39;00m\u001B[33m\"\u001B[39m)\n\u001B[32m    323\u001B[39m \u001B[38;5;28;01mtry\u001B[39;00m:\n\u001B[32m--> \u001B[39m\u001B[32m324\u001B[39m     result = \u001B[43mfunc\u001B[49m\u001B[43m(\u001B[49m\u001B[43m*\u001B[49m\u001B[43margs\u001B[49m\u001B[43m,\u001B[49m\u001B[43m \u001B[49m\u001B[43m*\u001B[49m\u001B[43m*\u001B[49m\u001B[43mkwargs\u001B[49m\u001B[43m)\u001B[49m\n\u001B[32m    325\u001B[39m     \u001B[38;5;28;01mif\u001B[39;00m \u001B[38;5;28misinstance\u001B[39m(result, asyncio.Future):\n\u001B[32m    326\u001B[39m         \u001B[38;5;66;03m# If the result is a Future, wrap it\u001B[39;00m\n\u001B[32m    327\u001B[39m         new_future = asyncio.ensure_future(result)\n",
      "\u001B[36mFile \u001B[39m\u001B[32m~/PROGRAMAS/miniconda3/envs/CHILEAN_AC/lib/python3.11/site-packages/llama_index/core/response_synthesizers/base.py:242\u001B[39m, in \u001B[36mBaseSynthesizer.synthesize\u001B[39m\u001B[34m(self, query, nodes, additional_source_nodes, **response_kwargs)\u001B[39m\n\u001B[32m    236\u001B[39m     query = QueryBundle(query_str=query)\n\u001B[32m    238\u001B[39m \u001B[38;5;28;01mwith\u001B[39;00m \u001B[38;5;28mself\u001B[39m._callback_manager.event(\n\u001B[32m    239\u001B[39m     CBEventType.SYNTHESIZE,\n\u001B[32m    240\u001B[39m     payload={EventPayload.QUERY_STR: query.query_str},\n\u001B[32m    241\u001B[39m ) \u001B[38;5;28;01mas\u001B[39;00m event:\n\u001B[32m--> \u001B[39m\u001B[32m242\u001B[39m     response_str = \u001B[38;5;28;43mself\u001B[39;49m\u001B[43m.\u001B[49m\u001B[43mget_response\u001B[49m\u001B[43m(\u001B[49m\n\u001B[32m    243\u001B[39m \u001B[43m        \u001B[49m\u001B[43mquery_str\u001B[49m\u001B[43m=\u001B[49m\u001B[43mquery\u001B[49m\u001B[43m.\u001B[49m\u001B[43mquery_str\u001B[49m\u001B[43m,\u001B[49m\n\u001B[32m    244\u001B[39m \u001B[43m        \u001B[49m\u001B[43mtext_chunks\u001B[49m\u001B[43m=\u001B[49m\u001B[43m[\u001B[49m\n\u001B[32m    245\u001B[39m \u001B[43m            \u001B[49m\u001B[43mn\u001B[49m\u001B[43m.\u001B[49m\u001B[43mnode\u001B[49m\u001B[43m.\u001B[49m\u001B[43mget_content\u001B[49m\u001B[43m(\u001B[49m\u001B[43mmetadata_mode\u001B[49m\u001B[43m=\u001B[49m\u001B[43mMetadataMode\u001B[49m\u001B[43m.\u001B[49m\u001B[43mLLM\u001B[49m\u001B[43m)\u001B[49m\u001B[43m \u001B[49m\u001B[38;5;28;43;01mfor\u001B[39;49;00m\u001B[43m \u001B[49m\u001B[43mn\u001B[49m\u001B[43m \u001B[49m\u001B[38;5;129;43;01min\u001B[39;49;00m\u001B[43m \u001B[49m\u001B[43mnodes\u001B[49m\n\u001B[32m    246\u001B[39m \u001B[43m        \u001B[49m\u001B[43m]\u001B[49m\u001B[43m,\u001B[49m\n\u001B[32m    247\u001B[39m \u001B[43m        \u001B[49m\u001B[43m*\u001B[49m\u001B[43m*\u001B[49m\u001B[43mresponse_kwargs\u001B[49m\u001B[43m,\u001B[49m\n\u001B[32m    248\u001B[39m \u001B[43m    \u001B[49m\u001B[43m)\u001B[49m\n\u001B[32m    250\u001B[39m     additional_source_nodes = additional_source_nodes \u001B[38;5;129;01mor\u001B[39;00m []\n\u001B[32m    251\u001B[39m     source_nodes = \u001B[38;5;28mlist\u001B[39m(nodes) + \u001B[38;5;28mlist\u001B[39m(additional_source_nodes)\n",
      "\u001B[36mFile \u001B[39m\u001B[32m~/PROGRAMAS/miniconda3/envs/CHILEAN_AC/lib/python3.11/site-packages/llama_index/core/instrumentation/dispatcher.py:324\u001B[39m, in \u001B[36mDispatcher.span.<locals>.wrapper\u001B[39m\u001B[34m(func, instance, args, kwargs)\u001B[39m\n\u001B[32m    321\u001B[39m             _logger.debug(\u001B[33mf\u001B[39m\u001B[33m\"\u001B[39m\u001B[33mFailed to reset active_span_id: \u001B[39m\u001B[38;5;132;01m{\u001B[39;00me\u001B[38;5;132;01m}\u001B[39;00m\u001B[33m\"\u001B[39m)\n\u001B[32m    323\u001B[39m \u001B[38;5;28;01mtry\u001B[39;00m:\n\u001B[32m--> \u001B[39m\u001B[32m324\u001B[39m     result = \u001B[43mfunc\u001B[49m\u001B[43m(\u001B[49m\u001B[43m*\u001B[49m\u001B[43margs\u001B[49m\u001B[43m,\u001B[49m\u001B[43m \u001B[49m\u001B[43m*\u001B[49m\u001B[43m*\u001B[49m\u001B[43mkwargs\u001B[49m\u001B[43m)\u001B[49m\n\u001B[32m    325\u001B[39m     \u001B[38;5;28;01mif\u001B[39;00m \u001B[38;5;28misinstance\u001B[39m(result, asyncio.Future):\n\u001B[32m    326\u001B[39m         \u001B[38;5;66;03m# If the result is a Future, wrap it\u001B[39;00m\n\u001B[32m    327\u001B[39m         new_future = asyncio.ensure_future(result)\n",
      "\u001B[36mFile \u001B[39m\u001B[32m~/PROGRAMAS/miniconda3/envs/CHILEAN_AC/lib/python3.11/site-packages/llama_index/core/response_synthesizers/compact_and_refine.py:43\u001B[39m, in \u001B[36mCompactAndRefine.get_response\u001B[39m\u001B[34m(self, query_str, text_chunks, prev_response, **response_kwargs)\u001B[39m\n\u001B[32m     39\u001B[39m \u001B[38;5;66;03m# use prompt helper to fix compact text_chunks under the prompt limitation\u001B[39;00m\n\u001B[32m     40\u001B[39m \u001B[38;5;66;03m# TODO: This is a temporary fix - reason it's temporary is that\u001B[39;00m\n\u001B[32m     41\u001B[39m \u001B[38;5;66;03m# the refine template does not account for size of previous answer.\u001B[39;00m\n\u001B[32m     42\u001B[39m new_texts = \u001B[38;5;28mself\u001B[39m._make_compact_text_chunks(query_str, text_chunks)\n\u001B[32m---> \u001B[39m\u001B[32m43\u001B[39m \u001B[38;5;28;01mreturn\u001B[39;00m \u001B[38;5;28;43msuper\u001B[39;49m\u001B[43m(\u001B[49m\u001B[43m)\u001B[49m\u001B[43m.\u001B[49m\u001B[43mget_response\u001B[49m\u001B[43m(\u001B[49m\n\u001B[32m     44\u001B[39m \u001B[43m    \u001B[49m\u001B[43mquery_str\u001B[49m\u001B[43m=\u001B[49m\u001B[43mquery_str\u001B[49m\u001B[43m,\u001B[49m\n\u001B[32m     45\u001B[39m \u001B[43m    \u001B[49m\u001B[43mtext_chunks\u001B[49m\u001B[43m=\u001B[49m\u001B[43mnew_texts\u001B[49m\u001B[43m,\u001B[49m\n\u001B[32m     46\u001B[39m \u001B[43m    \u001B[49m\u001B[43mprev_response\u001B[49m\u001B[43m=\u001B[49m\u001B[43mprev_response\u001B[49m\u001B[43m,\u001B[49m\n\u001B[32m     47\u001B[39m \u001B[43m    \u001B[49m\u001B[43m*\u001B[49m\u001B[43m*\u001B[49m\u001B[43mresponse_kwargs\u001B[49m\u001B[43m,\u001B[49m\n\u001B[32m     48\u001B[39m \u001B[43m\u001B[49m\u001B[43m)\u001B[49m\n",
      "\u001B[36mFile \u001B[39m\u001B[32m~/PROGRAMAS/miniconda3/envs/CHILEAN_AC/lib/python3.11/site-packages/llama_index/core/instrumentation/dispatcher.py:324\u001B[39m, in \u001B[36mDispatcher.span.<locals>.wrapper\u001B[39m\u001B[34m(func, instance, args, kwargs)\u001B[39m\n\u001B[32m    321\u001B[39m             _logger.debug(\u001B[33mf\u001B[39m\u001B[33m\"\u001B[39m\u001B[33mFailed to reset active_span_id: \u001B[39m\u001B[38;5;132;01m{\u001B[39;00me\u001B[38;5;132;01m}\u001B[39;00m\u001B[33m\"\u001B[39m)\n\u001B[32m    323\u001B[39m \u001B[38;5;28;01mtry\u001B[39;00m:\n\u001B[32m--> \u001B[39m\u001B[32m324\u001B[39m     result = \u001B[43mfunc\u001B[49m\u001B[43m(\u001B[49m\u001B[43m*\u001B[49m\u001B[43margs\u001B[49m\u001B[43m,\u001B[49m\u001B[43m \u001B[49m\u001B[43m*\u001B[49m\u001B[43m*\u001B[49m\u001B[43mkwargs\u001B[49m\u001B[43m)\u001B[49m\n\u001B[32m    325\u001B[39m     \u001B[38;5;28;01mif\u001B[39;00m \u001B[38;5;28misinstance\u001B[39m(result, asyncio.Future):\n\u001B[32m    326\u001B[39m         \u001B[38;5;66;03m# If the result is a Future, wrap it\u001B[39;00m\n\u001B[32m    327\u001B[39m         new_future = asyncio.ensure_future(result)\n",
      "\u001B[36mFile \u001B[39m\u001B[32m~/PROGRAMAS/miniconda3/envs/CHILEAN_AC/lib/python3.11/site-packages/llama_index/core/response_synthesizers/refine.py:179\u001B[39m, in \u001B[36mRefine.get_response\u001B[39m\u001B[34m(self, query_str, text_chunks, prev_response, **response_kwargs)\u001B[39m\n\u001B[32m    175\u001B[39m \u001B[38;5;28;01mfor\u001B[39;00m text_chunk \u001B[38;5;129;01min\u001B[39;00m text_chunks:\n\u001B[32m    176\u001B[39m     \u001B[38;5;28;01mif\u001B[39;00m prev_response \u001B[38;5;129;01mis\u001B[39;00m \u001B[38;5;28;01mNone\u001B[39;00m:\n\u001B[32m    177\u001B[39m         \u001B[38;5;66;03m# if this is the first chunk, and text chunk already\u001B[39;00m\n\u001B[32m    178\u001B[39m         \u001B[38;5;66;03m# is an answer, then return it\u001B[39;00m\n\u001B[32m--> \u001B[39m\u001B[32m179\u001B[39m         response = \u001B[38;5;28;43mself\u001B[39;49m\u001B[43m.\u001B[49m\u001B[43m_give_response_single\u001B[49m\u001B[43m(\u001B[49m\n\u001B[32m    180\u001B[39m \u001B[43m            \u001B[49m\u001B[43mquery_str\u001B[49m\u001B[43m,\u001B[49m\u001B[43m \u001B[49m\u001B[43mtext_chunk\u001B[49m\u001B[43m,\u001B[49m\u001B[43m \u001B[49m\u001B[43m*\u001B[49m\u001B[43m*\u001B[49m\u001B[43mresponse_kwargs\u001B[49m\n\u001B[32m    181\u001B[39m \u001B[43m        \u001B[49m\u001B[43m)\u001B[49m\n\u001B[32m    182\u001B[39m     \u001B[38;5;28;01melse\u001B[39;00m:\n\u001B[32m    183\u001B[39m         \u001B[38;5;66;03m# refine response if possible\u001B[39;00m\n\u001B[32m    184\u001B[39m         response = \u001B[38;5;28mself\u001B[39m._refine_response_single(\n\u001B[32m    185\u001B[39m             prev_response, query_str, text_chunk, **response_kwargs\n\u001B[32m    186\u001B[39m         )\n",
      "\u001B[36mFile \u001B[39m\u001B[32m~/PROGRAMAS/miniconda3/envs/CHILEAN_AC/lib/python3.11/site-packages/llama_index/core/response_synthesizers/refine.py:241\u001B[39m, in \u001B[36mRefine._give_response_single\u001B[39m\u001B[34m(self, query_str, text_chunk, **response_kwargs)\u001B[39m\n\u001B[32m    237\u001B[39m \u001B[38;5;28;01mif\u001B[39;00m response \u001B[38;5;129;01mis\u001B[39;00m \u001B[38;5;28;01mNone\u001B[39;00m \u001B[38;5;129;01mand\u001B[39;00m \u001B[38;5;129;01mnot\u001B[39;00m \u001B[38;5;28mself\u001B[39m._streaming:\n\u001B[32m    238\u001B[39m     \u001B[38;5;28;01mtry\u001B[39;00m:\n\u001B[32m    239\u001B[39m         structured_response = cast(\n\u001B[32m    240\u001B[39m             StructuredRefineResponse,\n\u001B[32m--> \u001B[39m\u001B[32m241\u001B[39m             \u001B[43mprogram\u001B[49m\u001B[43m(\u001B[49m\n\u001B[32m    242\u001B[39m \u001B[43m                \u001B[49m\u001B[43mcontext_str\u001B[49m\u001B[43m=\u001B[49m\u001B[43mcur_text_chunk\u001B[49m\u001B[43m,\u001B[49m\n\u001B[32m    243\u001B[39m \u001B[43m                \u001B[49m\u001B[43m*\u001B[49m\u001B[43m*\u001B[49m\u001B[43mresponse_kwargs\u001B[49m\u001B[43m,\u001B[49m\n\u001B[32m    244\u001B[39m \u001B[43m            \u001B[49m\u001B[43m)\u001B[49m,\n\u001B[32m    245\u001B[39m         )\n\u001B[32m    246\u001B[39m         query_satisfied = structured_response.query_satisfied\n\u001B[32m    247\u001B[39m         \u001B[38;5;28;01mif\u001B[39;00m query_satisfied:\n",
      "\u001B[36mFile \u001B[39m\u001B[32m~/PROGRAMAS/miniconda3/envs/CHILEAN_AC/lib/python3.11/site-packages/llama_index/core/instrumentation/dispatcher.py:324\u001B[39m, in \u001B[36mDispatcher.span.<locals>.wrapper\u001B[39m\u001B[34m(func, instance, args, kwargs)\u001B[39m\n\u001B[32m    321\u001B[39m             _logger.debug(\u001B[33mf\u001B[39m\u001B[33m\"\u001B[39m\u001B[33mFailed to reset active_span_id: \u001B[39m\u001B[38;5;132;01m{\u001B[39;00me\u001B[38;5;132;01m}\u001B[39;00m\u001B[33m\"\u001B[39m)\n\u001B[32m    323\u001B[39m \u001B[38;5;28;01mtry\u001B[39;00m:\n\u001B[32m--> \u001B[39m\u001B[32m324\u001B[39m     result = \u001B[43mfunc\u001B[49m\u001B[43m(\u001B[49m\u001B[43m*\u001B[49m\u001B[43margs\u001B[49m\u001B[43m,\u001B[49m\u001B[43m \u001B[49m\u001B[43m*\u001B[49m\u001B[43m*\u001B[49m\u001B[43mkwargs\u001B[49m\u001B[43m)\u001B[49m\n\u001B[32m    325\u001B[39m     \u001B[38;5;28;01mif\u001B[39;00m \u001B[38;5;28misinstance\u001B[39m(result, asyncio.Future):\n\u001B[32m    326\u001B[39m         \u001B[38;5;66;03m# If the result is a Future, wrap it\u001B[39;00m\n\u001B[32m    327\u001B[39m         new_future = asyncio.ensure_future(result)\n",
      "\u001B[36mFile \u001B[39m\u001B[32m~/PROGRAMAS/miniconda3/envs/CHILEAN_AC/lib/python3.11/site-packages/llama_index/core/response_synthesizers/refine.py:85\u001B[39m, in \u001B[36mDefaultRefineProgram.__call__\u001B[39m\u001B[34m(self, *args, **kwds)\u001B[39m\n\u001B[32m     83\u001B[39m         answer = answer.model_dump_json()\n\u001B[32m     84\u001B[39m \u001B[38;5;28;01melse\u001B[39;00m:\n\u001B[32m---> \u001B[39m\u001B[32m85\u001B[39m     answer = \u001B[38;5;28;43mself\u001B[39;49m\u001B[43m.\u001B[49m\u001B[43m_llm\u001B[49m\u001B[43m.\u001B[49m\u001B[43mpredict\u001B[49m\u001B[43m(\u001B[49m\n\u001B[32m     86\u001B[39m \u001B[43m        \u001B[49m\u001B[38;5;28;43mself\u001B[39;49m\u001B[43m.\u001B[49m\u001B[43m_prompt\u001B[49m\u001B[43m,\u001B[49m\n\u001B[32m     87\u001B[39m \u001B[43m        \u001B[49m\u001B[43m*\u001B[49m\u001B[43m*\u001B[49m\u001B[43mkwds\u001B[49m\u001B[43m,\u001B[49m\n\u001B[32m     88\u001B[39m \u001B[43m    \u001B[49m\u001B[43m)\u001B[49m\n\u001B[32m     89\u001B[39m \u001B[38;5;28;01mreturn\u001B[39;00m StructuredRefineResponse(answer=answer, query_satisfied=\u001B[38;5;28;01mTrue\u001B[39;00m)\n",
      "\u001B[36mFile \u001B[39m\u001B[32m~/PROGRAMAS/miniconda3/envs/CHILEAN_AC/lib/python3.11/site-packages/llama_index/core/instrumentation/dispatcher.py:324\u001B[39m, in \u001B[36mDispatcher.span.<locals>.wrapper\u001B[39m\u001B[34m(func, instance, args, kwargs)\u001B[39m\n\u001B[32m    321\u001B[39m             _logger.debug(\u001B[33mf\u001B[39m\u001B[33m\"\u001B[39m\u001B[33mFailed to reset active_span_id: \u001B[39m\u001B[38;5;132;01m{\u001B[39;00me\u001B[38;5;132;01m}\u001B[39;00m\u001B[33m\"\u001B[39m)\n\u001B[32m    323\u001B[39m \u001B[38;5;28;01mtry\u001B[39;00m:\n\u001B[32m--> \u001B[39m\u001B[32m324\u001B[39m     result = \u001B[43mfunc\u001B[49m\u001B[43m(\u001B[49m\u001B[43m*\u001B[49m\u001B[43margs\u001B[49m\u001B[43m,\u001B[49m\u001B[43m \u001B[49m\u001B[43m*\u001B[49m\u001B[43m*\u001B[49m\u001B[43mkwargs\u001B[49m\u001B[43m)\u001B[49m\n\u001B[32m    325\u001B[39m     \u001B[38;5;28;01mif\u001B[39;00m \u001B[38;5;28misinstance\u001B[39m(result, asyncio.Future):\n\u001B[32m    326\u001B[39m         \u001B[38;5;66;03m# If the result is a Future, wrap it\u001B[39;00m\n\u001B[32m    327\u001B[39m         new_future = asyncio.ensure_future(result)\n",
      "\u001B[36mFile \u001B[39m\u001B[32m~/PROGRAMAS/miniconda3/envs/CHILEAN_AC/lib/python3.11/site-packages/llama_index/core/llms/llm.py:616\u001B[39m, in \u001B[36mLLM.predict\u001B[39m\u001B[34m(self, prompt, **prompt_args)\u001B[39m\n\u001B[32m    614\u001B[39m \u001B[38;5;28;01mif\u001B[39;00m \u001B[38;5;28mself\u001B[39m.metadata.is_chat_model:\n\u001B[32m    615\u001B[39m     messages = \u001B[38;5;28mself\u001B[39m._get_messages(prompt, **prompt_args)\n\u001B[32m--> \u001B[39m\u001B[32m616\u001B[39m     chat_response = \u001B[38;5;28;43mself\u001B[39;49m\u001B[43m.\u001B[49m\u001B[43mchat\u001B[49m\u001B[43m(\u001B[49m\u001B[43mmessages\u001B[49m\u001B[43m)\u001B[49m\n\u001B[32m    617\u001B[39m     output = chat_response.message.content \u001B[38;5;129;01mor\u001B[39;00m \u001B[33m\"\u001B[39m\u001B[33m\"\u001B[39m\n\u001B[32m    618\u001B[39m \u001B[38;5;28;01melse\u001B[39;00m:\n",
      "\u001B[36mFile \u001B[39m\u001B[32m~/PROGRAMAS/miniconda3/envs/CHILEAN_AC/lib/python3.11/site-packages/llama_index/core/instrumentation/dispatcher.py:324\u001B[39m, in \u001B[36mDispatcher.span.<locals>.wrapper\u001B[39m\u001B[34m(func, instance, args, kwargs)\u001B[39m\n\u001B[32m    321\u001B[39m             _logger.debug(\u001B[33mf\u001B[39m\u001B[33m\"\u001B[39m\u001B[33mFailed to reset active_span_id: \u001B[39m\u001B[38;5;132;01m{\u001B[39;00me\u001B[38;5;132;01m}\u001B[39;00m\u001B[33m\"\u001B[39m)\n\u001B[32m    323\u001B[39m \u001B[38;5;28;01mtry\u001B[39;00m:\n\u001B[32m--> \u001B[39m\u001B[32m324\u001B[39m     result = \u001B[43mfunc\u001B[49m\u001B[43m(\u001B[49m\u001B[43m*\u001B[49m\u001B[43margs\u001B[49m\u001B[43m,\u001B[49m\u001B[43m \u001B[49m\u001B[43m*\u001B[49m\u001B[43m*\u001B[49m\u001B[43mkwargs\u001B[49m\u001B[43m)\u001B[49m\n\u001B[32m    325\u001B[39m     \u001B[38;5;28;01mif\u001B[39;00m \u001B[38;5;28misinstance\u001B[39m(result, asyncio.Future):\n\u001B[32m    326\u001B[39m         \u001B[38;5;66;03m# If the result is a Future, wrap it\u001B[39;00m\n\u001B[32m    327\u001B[39m         new_future = asyncio.ensure_future(result)\n",
      "\u001B[36mFile \u001B[39m\u001B[32m~/PROGRAMAS/miniconda3/envs/CHILEAN_AC/lib/python3.11/site-packages/llama_index/core/llms/callbacks.py:173\u001B[39m, in \u001B[36mllm_chat_callback.<locals>.wrap.<locals>.wrapped_llm_chat\u001B[39m\u001B[34m(_self, messages, **kwargs)\u001B[39m\n\u001B[32m    164\u001B[39m event_id = callback_manager.on_event_start(\n\u001B[32m    165\u001B[39m     CBEventType.LLM,\n\u001B[32m    166\u001B[39m     payload={\n\u001B[32m   (...)\u001B[39m\u001B[32m    170\u001B[39m     },\n\u001B[32m    171\u001B[39m )\n\u001B[32m    172\u001B[39m \u001B[38;5;28;01mtry\u001B[39;00m:\n\u001B[32m--> \u001B[39m\u001B[32m173\u001B[39m     f_return_val = \u001B[43mf\u001B[49m\u001B[43m(\u001B[49m\u001B[43m_self\u001B[49m\u001B[43m,\u001B[49m\u001B[43m \u001B[49m\u001B[43mmessages\u001B[49m\u001B[43m,\u001B[49m\u001B[43m \u001B[49m\u001B[43m*\u001B[49m\u001B[43m*\u001B[49m\u001B[43mkwargs\u001B[49m\u001B[43m)\u001B[49m\n\u001B[32m    174\u001B[39m \u001B[38;5;28;01mexcept\u001B[39;00m \u001B[38;5;167;01mBaseException\u001B[39;00m \u001B[38;5;28;01mas\u001B[39;00m e:\n\u001B[32m    175\u001B[39m     callback_manager.on_event_end(\n\u001B[32m    176\u001B[39m         CBEventType.LLM,\n\u001B[32m    177\u001B[39m         payload={EventPayload.EXCEPTION: e},\n\u001B[32m    178\u001B[39m         event_id=event_id,\n\u001B[32m    179\u001B[39m     )\n",
      "\u001B[36mFile \u001B[39m\u001B[32m~/PROGRAMAS/miniconda3/envs/CHILEAN_AC/lib/python3.11/site-packages/llama_index/llms/ollama/base.py:333\u001B[39m, in \u001B[36mOllama.chat\u001B[39m\u001B[34m(self, messages, **kwargs)\u001B[39m\n\u001B[32m    330\u001B[39m tools = kwargs.pop(\u001B[33m\"\u001B[39m\u001B[33mtools\u001B[39m\u001B[33m\"\u001B[39m, \u001B[38;5;28;01mNone\u001B[39;00m)\n\u001B[32m    331\u001B[39m \u001B[38;5;28mformat\u001B[39m = kwargs.pop(\u001B[33m\"\u001B[39m\u001B[33mformat\u001B[39m\u001B[33m\"\u001B[39m, \u001B[33m\"\u001B[39m\u001B[33mjson\u001B[39m\u001B[33m\"\u001B[39m \u001B[38;5;28;01mif\u001B[39;00m \u001B[38;5;28mself\u001B[39m.json_mode \u001B[38;5;28;01melse\u001B[39;00m \u001B[38;5;28;01mNone\u001B[39;00m)\n\u001B[32m--> \u001B[39m\u001B[32m333\u001B[39m response = \u001B[38;5;28;43mself\u001B[39;49m\u001B[43m.\u001B[49m\u001B[43mclient\u001B[49m\u001B[43m.\u001B[49m\u001B[43mchat\u001B[49m\u001B[43m(\u001B[49m\n\u001B[32m    334\u001B[39m \u001B[43m    \u001B[49m\u001B[43mmodel\u001B[49m\u001B[43m=\u001B[49m\u001B[38;5;28;43mself\u001B[39;49m\u001B[43m.\u001B[49m\u001B[43mmodel\u001B[49m\u001B[43m,\u001B[49m\n\u001B[32m    335\u001B[39m \u001B[43m    \u001B[49m\u001B[43mmessages\u001B[49m\u001B[43m=\u001B[49m\u001B[43mollama_messages\u001B[49m\u001B[43m,\u001B[49m\n\u001B[32m    336\u001B[39m \u001B[43m    \u001B[49m\u001B[43mstream\u001B[49m\u001B[43m=\u001B[49m\u001B[38;5;28;43;01mFalse\u001B[39;49;00m\u001B[43m,\u001B[49m\n\u001B[32m    337\u001B[39m \u001B[43m    \u001B[49m\u001B[38;5;28;43mformat\u001B[39;49m\u001B[43m=\u001B[49m\u001B[38;5;28;43mformat\u001B[39;49m\u001B[43m,\u001B[49m\n\u001B[32m    338\u001B[39m \u001B[43m    \u001B[49m\u001B[43mtools\u001B[49m\u001B[43m=\u001B[49m\u001B[43mtools\u001B[49m\u001B[43m,\u001B[49m\n\u001B[32m    339\u001B[39m \u001B[43m    \u001B[49m\u001B[43moptions\u001B[49m\u001B[43m=\u001B[49m\u001B[38;5;28;43mself\u001B[39;49m\u001B[43m.\u001B[49m\u001B[43m_model_kwargs\u001B[49m\u001B[43m,\u001B[49m\n\u001B[32m    340\u001B[39m \u001B[43m    \u001B[49m\u001B[43mkeep_alive\u001B[49m\u001B[43m=\u001B[49m\u001B[38;5;28;43mself\u001B[39;49m\u001B[43m.\u001B[49m\u001B[43mkeep_alive\u001B[49m\u001B[43m,\u001B[49m\n\u001B[32m    341\u001B[39m \u001B[43m\u001B[49m\u001B[43m)\u001B[49m\n\u001B[32m    343\u001B[39m response = \u001B[38;5;28mdict\u001B[39m(response)\n\u001B[32m    345\u001B[39m tool_calls = response[\u001B[33m\"\u001B[39m\u001B[33mmessage\u001B[39m\u001B[33m\"\u001B[39m].get(\u001B[33m\"\u001B[39m\u001B[33mtool_calls\u001B[39m\u001B[33m\"\u001B[39m, [])\n",
      "\u001B[36mFile \u001B[39m\u001B[32m~/PROGRAMAS/miniconda3/envs/CHILEAN_AC/lib/python3.11/site-packages/ollama/_client.py:335\u001B[39m, in \u001B[36mClient.chat\u001B[39m\u001B[34m(self, model, messages, tools, stream, format, options, keep_alive)\u001B[39m\n\u001B[32m    291\u001B[39m \u001B[38;5;28;01mdef\u001B[39;00m\u001B[38;5;250m \u001B[39m\u001B[34mchat\u001B[39m(\n\u001B[32m    292\u001B[39m   \u001B[38;5;28mself\u001B[39m,\n\u001B[32m    293\u001B[39m   model: \u001B[38;5;28mstr\u001B[39m = \u001B[33m'\u001B[39m\u001B[33m'\u001B[39m,\n\u001B[32m   (...)\u001B[39m\u001B[32m    300\u001B[39m   keep_alive: Optional[Union[\u001B[38;5;28mfloat\u001B[39m, \u001B[38;5;28mstr\u001B[39m]] = \u001B[38;5;28;01mNone\u001B[39;00m,\n\u001B[32m    301\u001B[39m ) -> Union[ChatResponse, Iterator[ChatResponse]]:\n\u001B[32m    302\u001B[39m \u001B[38;5;250m  \u001B[39m\u001B[33;03m\"\"\"\u001B[39;00m\n\u001B[32m    303\u001B[39m \u001B[33;03m  Create a chat response using the requested model.\u001B[39;00m\n\u001B[32m    304\u001B[39m \n\u001B[32m   (...)\u001B[39m\u001B[32m    333\u001B[39m \u001B[33;03m  Returns `ChatResponse` if `stream` is `False`, otherwise returns a `ChatResponse` generator.\u001B[39;00m\n\u001B[32m    334\u001B[39m \u001B[33;03m  \"\"\"\u001B[39;00m\n\u001B[32m--> \u001B[39m\u001B[32m335\u001B[39m   \u001B[38;5;28;01mreturn\u001B[39;00m \u001B[38;5;28;43mself\u001B[39;49m\u001B[43m.\u001B[49m\u001B[43m_request\u001B[49m\u001B[43m(\u001B[49m\n\u001B[32m    336\u001B[39m \u001B[43m    \u001B[49m\u001B[43mChatResponse\u001B[49m\u001B[43m,\u001B[49m\n\u001B[32m    337\u001B[39m \u001B[43m    \u001B[49m\u001B[33;43m'\u001B[39;49m\u001B[33;43mPOST\u001B[39;49m\u001B[33;43m'\u001B[39;49m\u001B[43m,\u001B[49m\n\u001B[32m    338\u001B[39m \u001B[43m    \u001B[49m\u001B[33;43m'\u001B[39;49m\u001B[33;43m/api/chat\u001B[39;49m\u001B[33;43m'\u001B[39;49m\u001B[43m,\u001B[49m\n\u001B[32m    339\u001B[39m \u001B[43m    \u001B[49m\u001B[43mjson\u001B[49m\u001B[43m=\u001B[49m\u001B[43mChatRequest\u001B[49m\u001B[43m(\u001B[49m\n\u001B[32m    340\u001B[39m \u001B[43m      \u001B[49m\u001B[43mmodel\u001B[49m\u001B[43m=\u001B[49m\u001B[43mmodel\u001B[49m\u001B[43m,\u001B[49m\n\u001B[32m    341\u001B[39m \u001B[43m      \u001B[49m\u001B[43mmessages\u001B[49m\u001B[43m=\u001B[49m\u001B[38;5;28;43mlist\u001B[39;49m\u001B[43m(\u001B[49m\u001B[43m_copy_messages\u001B[49m\u001B[43m(\u001B[49m\u001B[43mmessages\u001B[49m\u001B[43m)\u001B[49m\u001B[43m)\u001B[49m\u001B[43m,\u001B[49m\n\u001B[32m    342\u001B[39m \u001B[43m      \u001B[49m\u001B[43mtools\u001B[49m\u001B[43m=\u001B[49m\u001B[38;5;28;43mlist\u001B[39;49m\u001B[43m(\u001B[49m\u001B[43m_copy_tools\u001B[49m\u001B[43m(\u001B[49m\u001B[43mtools\u001B[49m\u001B[43m)\u001B[49m\u001B[43m)\u001B[49m\u001B[43m,\u001B[49m\n\u001B[32m    343\u001B[39m \u001B[43m      \u001B[49m\u001B[43mstream\u001B[49m\u001B[43m=\u001B[49m\u001B[43mstream\u001B[49m\u001B[43m,\u001B[49m\n\u001B[32m    344\u001B[39m \u001B[43m      \u001B[49m\u001B[38;5;28;43mformat\u001B[39;49m\u001B[43m=\u001B[49m\u001B[38;5;28;43mformat\u001B[39;49m\u001B[43m,\u001B[49m\n\u001B[32m    345\u001B[39m \u001B[43m      \u001B[49m\u001B[43moptions\u001B[49m\u001B[43m=\u001B[49m\u001B[43moptions\u001B[49m\u001B[43m,\u001B[49m\n\u001B[32m    346\u001B[39m \u001B[43m      \u001B[49m\u001B[43mkeep_alive\u001B[49m\u001B[43m=\u001B[49m\u001B[43mkeep_alive\u001B[49m\u001B[43m,\u001B[49m\n\u001B[32m    347\u001B[39m \u001B[43m    \u001B[49m\u001B[43m)\u001B[49m\u001B[43m.\u001B[49m\u001B[43mmodel_dump\u001B[49m\u001B[43m(\u001B[49m\u001B[43mexclude_none\u001B[49m\u001B[43m=\u001B[49m\u001B[38;5;28;43;01mTrue\u001B[39;49;00m\u001B[43m)\u001B[49m\u001B[43m,\u001B[49m\n\u001B[32m    348\u001B[39m \u001B[43m    \u001B[49m\u001B[43mstream\u001B[49m\u001B[43m=\u001B[49m\u001B[43mstream\u001B[49m\u001B[43m,\u001B[49m\n\u001B[32m    349\u001B[39m \u001B[43m  \u001B[49m\u001B[43m)\u001B[49m\n",
      "\u001B[36mFile \u001B[39m\u001B[32m~/PROGRAMAS/miniconda3/envs/CHILEAN_AC/lib/python3.11/site-packages/ollama/_client.py:180\u001B[39m, in \u001B[36mClient._request\u001B[39m\u001B[34m(self, cls, stream, *args, **kwargs)\u001B[39m\n\u001B[32m    176\u001B[39m         \u001B[38;5;28;01myield\u001B[39;00m \u001B[38;5;28mcls\u001B[39m(**part)\n\u001B[32m    178\u001B[39m   \u001B[38;5;28;01mreturn\u001B[39;00m inner()\n\u001B[32m--> \u001B[39m\u001B[32m180\u001B[39m \u001B[38;5;28;01mreturn\u001B[39;00m \u001B[38;5;28mcls\u001B[39m(**\u001B[38;5;28;43mself\u001B[39;49m\u001B[43m.\u001B[49m\u001B[43m_request_raw\u001B[49m\u001B[43m(\u001B[49m\u001B[43m*\u001B[49m\u001B[43margs\u001B[49m\u001B[43m,\u001B[49m\u001B[43m \u001B[49m\u001B[43m*\u001B[49m\u001B[43m*\u001B[49m\u001B[43mkwargs\u001B[49m\u001B[43m)\u001B[49m.json())\n",
      "\u001B[36mFile \u001B[39m\u001B[32m~/PROGRAMAS/miniconda3/envs/CHILEAN_AC/lib/python3.11/site-packages/ollama/_client.py:120\u001B[39m, in \u001B[36mClient._request_raw\u001B[39m\u001B[34m(self, *args, **kwargs)\u001B[39m\n\u001B[32m    118\u001B[39m \u001B[38;5;28;01mdef\u001B[39;00m\u001B[38;5;250m \u001B[39m\u001B[34m_request_raw\u001B[39m(\u001B[38;5;28mself\u001B[39m, *args, **kwargs):\n\u001B[32m    119\u001B[39m   \u001B[38;5;28;01mtry\u001B[39;00m:\n\u001B[32m--> \u001B[39m\u001B[32m120\u001B[39m     r = \u001B[38;5;28;43mself\u001B[39;49m\u001B[43m.\u001B[49m\u001B[43m_client\u001B[49m\u001B[43m.\u001B[49m\u001B[43mrequest\u001B[49m\u001B[43m(\u001B[49m\u001B[43m*\u001B[49m\u001B[43margs\u001B[49m\u001B[43m,\u001B[49m\u001B[43m \u001B[49m\u001B[43m*\u001B[49m\u001B[43m*\u001B[49m\u001B[43mkwargs\u001B[49m\u001B[43m)\u001B[49m\n\u001B[32m    121\u001B[39m     r.raise_for_status()\n\u001B[32m    122\u001B[39m     \u001B[38;5;28;01mreturn\u001B[39;00m r\n",
      "\u001B[36mFile \u001B[39m\u001B[32m~/PROGRAMAS/miniconda3/envs/CHILEAN_AC/lib/python3.11/site-packages/httpx/_client.py:825\u001B[39m, in \u001B[36mClient.request\u001B[39m\u001B[34m(self, method, url, content, data, files, json, params, headers, cookies, auth, follow_redirects, timeout, extensions)\u001B[39m\n\u001B[32m    810\u001B[39m     warnings.warn(message, \u001B[38;5;167;01mDeprecationWarning\u001B[39;00m, stacklevel=\u001B[32m2\u001B[39m)\n\u001B[32m    812\u001B[39m request = \u001B[38;5;28mself\u001B[39m.build_request(\n\u001B[32m    813\u001B[39m     method=method,\n\u001B[32m    814\u001B[39m     url=url,\n\u001B[32m   (...)\u001B[39m\u001B[32m    823\u001B[39m     extensions=extensions,\n\u001B[32m    824\u001B[39m )\n\u001B[32m--> \u001B[39m\u001B[32m825\u001B[39m \u001B[38;5;28;01mreturn\u001B[39;00m \u001B[38;5;28;43mself\u001B[39;49m\u001B[43m.\u001B[49m\u001B[43msend\u001B[49m\u001B[43m(\u001B[49m\u001B[43mrequest\u001B[49m\u001B[43m,\u001B[49m\u001B[43m \u001B[49m\u001B[43mauth\u001B[49m\u001B[43m=\u001B[49m\u001B[43mauth\u001B[49m\u001B[43m,\u001B[49m\u001B[43m \u001B[49m\u001B[43mfollow_redirects\u001B[49m\u001B[43m=\u001B[49m\u001B[43mfollow_redirects\u001B[49m\u001B[43m)\u001B[49m\n",
      "\u001B[36mFile \u001B[39m\u001B[32m~/PROGRAMAS/miniconda3/envs/CHILEAN_AC/lib/python3.11/site-packages/httpx/_client.py:914\u001B[39m, in \u001B[36mClient.send\u001B[39m\u001B[34m(self, request, stream, auth, follow_redirects)\u001B[39m\n\u001B[32m    910\u001B[39m \u001B[38;5;28mself\u001B[39m._set_timeout(request)\n\u001B[32m    912\u001B[39m auth = \u001B[38;5;28mself\u001B[39m._build_request_auth(request, auth)\n\u001B[32m--> \u001B[39m\u001B[32m914\u001B[39m response = \u001B[38;5;28;43mself\u001B[39;49m\u001B[43m.\u001B[49m\u001B[43m_send_handling_auth\u001B[49m\u001B[43m(\u001B[49m\n\u001B[32m    915\u001B[39m \u001B[43m    \u001B[49m\u001B[43mrequest\u001B[49m\u001B[43m,\u001B[49m\n\u001B[32m    916\u001B[39m \u001B[43m    \u001B[49m\u001B[43mauth\u001B[49m\u001B[43m=\u001B[49m\u001B[43mauth\u001B[49m\u001B[43m,\u001B[49m\n\u001B[32m    917\u001B[39m \u001B[43m    \u001B[49m\u001B[43mfollow_redirects\u001B[49m\u001B[43m=\u001B[49m\u001B[43mfollow_redirects\u001B[49m\u001B[43m,\u001B[49m\n\u001B[32m    918\u001B[39m \u001B[43m    \u001B[49m\u001B[43mhistory\u001B[49m\u001B[43m=\u001B[49m\u001B[43m[\u001B[49m\u001B[43m]\u001B[49m\u001B[43m,\u001B[49m\n\u001B[32m    919\u001B[39m \u001B[43m\u001B[49m\u001B[43m)\u001B[49m\n\u001B[32m    920\u001B[39m \u001B[38;5;28;01mtry\u001B[39;00m:\n\u001B[32m    921\u001B[39m     \u001B[38;5;28;01mif\u001B[39;00m \u001B[38;5;129;01mnot\u001B[39;00m stream:\n",
      "\u001B[36mFile \u001B[39m\u001B[32m~/PROGRAMAS/miniconda3/envs/CHILEAN_AC/lib/python3.11/site-packages/httpx/_client.py:942\u001B[39m, in \u001B[36mClient._send_handling_auth\u001B[39m\u001B[34m(self, request, auth, follow_redirects, history)\u001B[39m\n\u001B[32m    939\u001B[39m request = \u001B[38;5;28mnext\u001B[39m(auth_flow)\n\u001B[32m    941\u001B[39m \u001B[38;5;28;01mwhile\u001B[39;00m \u001B[38;5;28;01mTrue\u001B[39;00m:\n\u001B[32m--> \u001B[39m\u001B[32m942\u001B[39m     response = \u001B[38;5;28;43mself\u001B[39;49m\u001B[43m.\u001B[49m\u001B[43m_send_handling_redirects\u001B[49m\u001B[43m(\u001B[49m\n\u001B[32m    943\u001B[39m \u001B[43m        \u001B[49m\u001B[43mrequest\u001B[49m\u001B[43m,\u001B[49m\n\u001B[32m    944\u001B[39m \u001B[43m        \u001B[49m\u001B[43mfollow_redirects\u001B[49m\u001B[43m=\u001B[49m\u001B[43mfollow_redirects\u001B[49m\u001B[43m,\u001B[49m\n\u001B[32m    945\u001B[39m \u001B[43m        \u001B[49m\u001B[43mhistory\u001B[49m\u001B[43m=\u001B[49m\u001B[43mhistory\u001B[49m\u001B[43m,\u001B[49m\n\u001B[32m    946\u001B[39m \u001B[43m    \u001B[49m\u001B[43m)\u001B[49m\n\u001B[32m    947\u001B[39m     \u001B[38;5;28;01mtry\u001B[39;00m:\n\u001B[32m    948\u001B[39m         \u001B[38;5;28;01mtry\u001B[39;00m:\n",
      "\u001B[36mFile \u001B[39m\u001B[32m~/PROGRAMAS/miniconda3/envs/CHILEAN_AC/lib/python3.11/site-packages/httpx/_client.py:979\u001B[39m, in \u001B[36mClient._send_handling_redirects\u001B[39m\u001B[34m(self, request, follow_redirects, history)\u001B[39m\n\u001B[32m    976\u001B[39m \u001B[38;5;28;01mfor\u001B[39;00m hook \u001B[38;5;129;01min\u001B[39;00m \u001B[38;5;28mself\u001B[39m._event_hooks[\u001B[33m\"\u001B[39m\u001B[33mrequest\u001B[39m\u001B[33m\"\u001B[39m]:\n\u001B[32m    977\u001B[39m     hook(request)\n\u001B[32m--> \u001B[39m\u001B[32m979\u001B[39m response = \u001B[38;5;28;43mself\u001B[39;49m\u001B[43m.\u001B[49m\u001B[43m_send_single_request\u001B[49m\u001B[43m(\u001B[49m\u001B[43mrequest\u001B[49m\u001B[43m)\u001B[49m\n\u001B[32m    980\u001B[39m \u001B[38;5;28;01mtry\u001B[39;00m:\n\u001B[32m    981\u001B[39m     \u001B[38;5;28;01mfor\u001B[39;00m hook \u001B[38;5;129;01min\u001B[39;00m \u001B[38;5;28mself\u001B[39m._event_hooks[\u001B[33m\"\u001B[39m\u001B[33mresponse\u001B[39m\u001B[33m\"\u001B[39m]:\n",
      "\u001B[36mFile \u001B[39m\u001B[32m~/PROGRAMAS/miniconda3/envs/CHILEAN_AC/lib/python3.11/site-packages/httpx/_client.py:1014\u001B[39m, in \u001B[36mClient._send_single_request\u001B[39m\u001B[34m(self, request)\u001B[39m\n\u001B[32m   1009\u001B[39m     \u001B[38;5;28;01mraise\u001B[39;00m \u001B[38;5;167;01mRuntimeError\u001B[39;00m(\n\u001B[32m   1010\u001B[39m         \u001B[33m\"\u001B[39m\u001B[33mAttempted to send an async request with a sync Client instance.\u001B[39m\u001B[33m\"\u001B[39m\n\u001B[32m   1011\u001B[39m     )\n\u001B[32m   1013\u001B[39m \u001B[38;5;28;01mwith\u001B[39;00m request_context(request=request):\n\u001B[32m-> \u001B[39m\u001B[32m1014\u001B[39m     response = \u001B[43mtransport\u001B[49m\u001B[43m.\u001B[49m\u001B[43mhandle_request\u001B[49m\u001B[43m(\u001B[49m\u001B[43mrequest\u001B[49m\u001B[43m)\u001B[49m\n\u001B[32m   1016\u001B[39m \u001B[38;5;28;01massert\u001B[39;00m \u001B[38;5;28misinstance\u001B[39m(response.stream, SyncByteStream)\n\u001B[32m   1018\u001B[39m response.request = request\n",
      "\u001B[36mFile \u001B[39m\u001B[32m~/PROGRAMAS/miniconda3/envs/CHILEAN_AC/lib/python3.11/site-packages/httpx/_transports/default.py:250\u001B[39m, in \u001B[36mHTTPTransport.handle_request\u001B[39m\u001B[34m(self, request)\u001B[39m\n\u001B[32m    237\u001B[39m req = httpcore.Request(\n\u001B[32m    238\u001B[39m     method=request.method,\n\u001B[32m    239\u001B[39m     url=httpcore.URL(\n\u001B[32m   (...)\u001B[39m\u001B[32m    247\u001B[39m     extensions=request.extensions,\n\u001B[32m    248\u001B[39m )\n\u001B[32m    249\u001B[39m \u001B[38;5;28;01mwith\u001B[39;00m map_httpcore_exceptions():\n\u001B[32m--> \u001B[39m\u001B[32m250\u001B[39m     resp = \u001B[38;5;28;43mself\u001B[39;49m\u001B[43m.\u001B[49m\u001B[43m_pool\u001B[49m\u001B[43m.\u001B[49m\u001B[43mhandle_request\u001B[49m\u001B[43m(\u001B[49m\u001B[43mreq\u001B[49m\u001B[43m)\u001B[49m\n\u001B[32m    252\u001B[39m \u001B[38;5;28;01massert\u001B[39;00m \u001B[38;5;28misinstance\u001B[39m(resp.stream, typing.Iterable)\n\u001B[32m    254\u001B[39m \u001B[38;5;28;01mreturn\u001B[39;00m Response(\n\u001B[32m    255\u001B[39m     status_code=resp.status,\n\u001B[32m    256\u001B[39m     headers=resp.headers,\n\u001B[32m    257\u001B[39m     stream=ResponseStream(resp.stream),\n\u001B[32m    258\u001B[39m     extensions=resp.extensions,\n\u001B[32m    259\u001B[39m )\n",
      "\u001B[36mFile \u001B[39m\u001B[32m~/PROGRAMAS/miniconda3/envs/CHILEAN_AC/lib/python3.11/site-packages/httpcore/_sync/connection_pool.py:268\u001B[39m, in \u001B[36mConnectionPool.handle_request\u001B[39m\u001B[34m(self, request)\u001B[39m\n\u001B[32m    266\u001B[39m     \u001B[38;5;28;01mwith\u001B[39;00m ShieldCancellation():\n\u001B[32m    267\u001B[39m         \u001B[38;5;28mself\u001B[39m.response_closed(status)\n\u001B[32m--> \u001B[39m\u001B[32m268\u001B[39m     \u001B[38;5;28;01mraise\u001B[39;00m exc\n\u001B[32m    269\u001B[39m \u001B[38;5;28;01melse\u001B[39;00m:\n\u001B[32m    270\u001B[39m     \u001B[38;5;28;01mbreak\u001B[39;00m\n",
      "\u001B[36mFile \u001B[39m\u001B[32m~/PROGRAMAS/miniconda3/envs/CHILEAN_AC/lib/python3.11/site-packages/httpcore/_sync/connection_pool.py:251\u001B[39m, in \u001B[36mConnectionPool.handle_request\u001B[39m\u001B[34m(self, request)\u001B[39m\n\u001B[32m    248\u001B[39m         \u001B[38;5;28;01mraise\u001B[39;00m exc\n\u001B[32m    250\u001B[39m \u001B[38;5;28;01mtry\u001B[39;00m:\n\u001B[32m--> \u001B[39m\u001B[32m251\u001B[39m     response = \u001B[43mconnection\u001B[49m\u001B[43m.\u001B[49m\u001B[43mhandle_request\u001B[49m\u001B[43m(\u001B[49m\u001B[43mrequest\u001B[49m\u001B[43m)\u001B[49m\n\u001B[32m    252\u001B[39m \u001B[38;5;28;01mexcept\u001B[39;00m ConnectionNotAvailable:\n\u001B[32m    253\u001B[39m     \u001B[38;5;66;03m# The ConnectionNotAvailable exception is a special case, that\u001B[39;00m\n\u001B[32m    254\u001B[39m     \u001B[38;5;66;03m# indicates we need to retry the request on a new connection.\u001B[39;00m\n\u001B[32m   (...)\u001B[39m\u001B[32m    258\u001B[39m     \u001B[38;5;66;03m# might end up as an HTTP/2 connection, but which actually ends\u001B[39;00m\n\u001B[32m    259\u001B[39m     \u001B[38;5;66;03m# up as HTTP/1.1.\u001B[39;00m\n\u001B[32m    260\u001B[39m     \u001B[38;5;28;01mwith\u001B[39;00m \u001B[38;5;28mself\u001B[39m._pool_lock:\n\u001B[32m    261\u001B[39m         \u001B[38;5;66;03m# Maintain our position in the request queue, but reset the\u001B[39;00m\n\u001B[32m    262\u001B[39m         \u001B[38;5;66;03m# status so that the request becomes queued again.\u001B[39;00m\n",
      "\u001B[36mFile \u001B[39m\u001B[32m~/PROGRAMAS/miniconda3/envs/CHILEAN_AC/lib/python3.11/site-packages/httpcore/_sync/connection.py:103\u001B[39m, in \u001B[36mHTTPConnection.handle_request\u001B[39m\u001B[34m(self, request)\u001B[39m\n\u001B[32m    100\u001B[39m     \u001B[38;5;28;01melif\u001B[39;00m \u001B[38;5;129;01mnot\u001B[39;00m \u001B[38;5;28mself\u001B[39m._connection.is_available():\n\u001B[32m    101\u001B[39m         \u001B[38;5;28;01mraise\u001B[39;00m ConnectionNotAvailable()\n\u001B[32m--> \u001B[39m\u001B[32m103\u001B[39m \u001B[38;5;28;01mreturn\u001B[39;00m \u001B[38;5;28;43mself\u001B[39;49m\u001B[43m.\u001B[49m\u001B[43m_connection\u001B[49m\u001B[43m.\u001B[49m\u001B[43mhandle_request\u001B[49m\u001B[43m(\u001B[49m\u001B[43mrequest\u001B[49m\u001B[43m)\u001B[49m\n",
      "\u001B[36mFile \u001B[39m\u001B[32m~/PROGRAMAS/miniconda3/envs/CHILEAN_AC/lib/python3.11/site-packages/httpcore/_sync/http11.py:133\u001B[39m, in \u001B[36mHTTP11Connection.handle_request\u001B[39m\u001B[34m(self, request)\u001B[39m\n\u001B[32m    131\u001B[39m     \u001B[38;5;28;01mwith\u001B[39;00m Trace(\u001B[33m\"\u001B[39m\u001B[33mresponse_closed\u001B[39m\u001B[33m\"\u001B[39m, logger, request) \u001B[38;5;28;01mas\u001B[39;00m trace:\n\u001B[32m    132\u001B[39m         \u001B[38;5;28mself\u001B[39m._response_closed()\n\u001B[32m--> \u001B[39m\u001B[32m133\u001B[39m \u001B[38;5;28;01mraise\u001B[39;00m exc\n",
      "\u001B[36mFile \u001B[39m\u001B[32m~/PROGRAMAS/miniconda3/envs/CHILEAN_AC/lib/python3.11/site-packages/httpcore/_sync/http11.py:111\u001B[39m, in \u001B[36mHTTP11Connection.handle_request\u001B[39m\u001B[34m(self, request)\u001B[39m\n\u001B[32m    101\u001B[39m     \u001B[38;5;28;01mpass\u001B[39;00m\n\u001B[32m    103\u001B[39m \u001B[38;5;28;01mwith\u001B[39;00m Trace(\n\u001B[32m    104\u001B[39m     \u001B[33m\"\u001B[39m\u001B[33mreceive_response_headers\u001B[39m\u001B[33m\"\u001B[39m, logger, request, kwargs\n\u001B[32m    105\u001B[39m ) \u001B[38;5;28;01mas\u001B[39;00m trace:\n\u001B[32m    106\u001B[39m     (\n\u001B[32m    107\u001B[39m         http_version,\n\u001B[32m    108\u001B[39m         status,\n\u001B[32m    109\u001B[39m         reason_phrase,\n\u001B[32m    110\u001B[39m         headers,\n\u001B[32m--> \u001B[39m\u001B[32m111\u001B[39m     ) = \u001B[38;5;28;43mself\u001B[39;49m\u001B[43m.\u001B[49m\u001B[43m_receive_response_headers\u001B[49m\u001B[43m(\u001B[49m\u001B[43m*\u001B[49m\u001B[43m*\u001B[49m\u001B[43mkwargs\u001B[49m\u001B[43m)\u001B[49m\n\u001B[32m    112\u001B[39m     trace.return_value = (\n\u001B[32m    113\u001B[39m         http_version,\n\u001B[32m    114\u001B[39m         status,\n\u001B[32m    115\u001B[39m         reason_phrase,\n\u001B[32m    116\u001B[39m         headers,\n\u001B[32m    117\u001B[39m     )\n\u001B[32m    119\u001B[39m \u001B[38;5;28;01mreturn\u001B[39;00m Response(\n\u001B[32m    120\u001B[39m     status=status,\n\u001B[32m    121\u001B[39m     headers=headers,\n\u001B[32m   (...)\u001B[39m\u001B[32m    127\u001B[39m     },\n\u001B[32m    128\u001B[39m )\n",
      "\u001B[36mFile \u001B[39m\u001B[32m~/PROGRAMAS/miniconda3/envs/CHILEAN_AC/lib/python3.11/site-packages/httpcore/_sync/http11.py:176\u001B[39m, in \u001B[36mHTTP11Connection._receive_response_headers\u001B[39m\u001B[34m(self, request)\u001B[39m\n\u001B[32m    173\u001B[39m timeout = timeouts.get(\u001B[33m\"\u001B[39m\u001B[33mread\u001B[39m\u001B[33m\"\u001B[39m, \u001B[38;5;28;01mNone\u001B[39;00m)\n\u001B[32m    175\u001B[39m \u001B[38;5;28;01mwhile\u001B[39;00m \u001B[38;5;28;01mTrue\u001B[39;00m:\n\u001B[32m--> \u001B[39m\u001B[32m176\u001B[39m     event = \u001B[38;5;28;43mself\u001B[39;49m\u001B[43m.\u001B[49m\u001B[43m_receive_event\u001B[49m\u001B[43m(\u001B[49m\u001B[43mtimeout\u001B[49m\u001B[43m=\u001B[49m\u001B[43mtimeout\u001B[49m\u001B[43m)\u001B[49m\n\u001B[32m    177\u001B[39m     \u001B[38;5;28;01mif\u001B[39;00m \u001B[38;5;28misinstance\u001B[39m(event, h11.Response):\n\u001B[32m    178\u001B[39m         \u001B[38;5;28;01mbreak\u001B[39;00m\n",
      "\u001B[36mFile \u001B[39m\u001B[32m~/PROGRAMAS/miniconda3/envs/CHILEAN_AC/lib/python3.11/site-packages/httpcore/_sync/http11.py:212\u001B[39m, in \u001B[36mHTTP11Connection._receive_event\u001B[39m\u001B[34m(self, timeout)\u001B[39m\n\u001B[32m    209\u001B[39m     event = \u001B[38;5;28mself\u001B[39m._h11_state.next_event()\n\u001B[32m    211\u001B[39m \u001B[38;5;28;01mif\u001B[39;00m event \u001B[38;5;129;01mis\u001B[39;00m h11.NEED_DATA:\n\u001B[32m--> \u001B[39m\u001B[32m212\u001B[39m     data = \u001B[38;5;28;43mself\u001B[39;49m\u001B[43m.\u001B[49m\u001B[43m_network_stream\u001B[49m\u001B[43m.\u001B[49m\u001B[43mread\u001B[49m\u001B[43m(\u001B[49m\n\u001B[32m    213\u001B[39m \u001B[43m        \u001B[49m\u001B[38;5;28;43mself\u001B[39;49m\u001B[43m.\u001B[49m\u001B[43mREAD_NUM_BYTES\u001B[49m\u001B[43m,\u001B[49m\u001B[43m \u001B[49m\u001B[43mtimeout\u001B[49m\u001B[43m=\u001B[49m\u001B[43mtimeout\u001B[49m\n\u001B[32m    214\u001B[39m \u001B[43m    \u001B[49m\u001B[43m)\u001B[49m\n\u001B[32m    216\u001B[39m     \u001B[38;5;66;03m# If we feed this case through h11 we'll raise an exception like:\u001B[39;00m\n\u001B[32m    217\u001B[39m     \u001B[38;5;66;03m#\u001B[39;00m\n\u001B[32m    218\u001B[39m     \u001B[38;5;66;03m#     httpcore.RemoteProtocolError: can't handle event type\u001B[39;00m\n\u001B[32m   (...)\u001B[39m\u001B[32m    222\u001B[39m     \u001B[38;5;66;03m# perspective. Instead we handle this case distinctly and treat\u001B[39;00m\n\u001B[32m    223\u001B[39m     \u001B[38;5;66;03m# it as a ConnectError.\u001B[39;00m\n\u001B[32m    224\u001B[39m     \u001B[38;5;28;01mif\u001B[39;00m data == \u001B[33mb\u001B[39m\u001B[33m\"\u001B[39m\u001B[33m\"\u001B[39m \u001B[38;5;129;01mand\u001B[39;00m \u001B[38;5;28mself\u001B[39m._h11_state.their_state == h11.SEND_RESPONSE:\n",
      "\u001B[36mFile \u001B[39m\u001B[32m~/PROGRAMAS/miniconda3/envs/CHILEAN_AC/lib/python3.11/site-packages/httpcore/_backends/sync.py:126\u001B[39m, in \u001B[36mSyncStream.read\u001B[39m\u001B[34m(self, max_bytes, timeout)\u001B[39m\n\u001B[32m    124\u001B[39m \u001B[38;5;28;01mwith\u001B[39;00m map_exceptions(exc_map):\n\u001B[32m    125\u001B[39m     \u001B[38;5;28mself\u001B[39m._sock.settimeout(timeout)\n\u001B[32m--> \u001B[39m\u001B[32m126\u001B[39m     \u001B[38;5;28;01mreturn\u001B[39;00m \u001B[38;5;28;43mself\u001B[39;49m\u001B[43m.\u001B[49m\u001B[43m_sock\u001B[49m\u001B[43m.\u001B[49m\u001B[43mrecv\u001B[49m\u001B[43m(\u001B[49m\u001B[43mmax_bytes\u001B[49m\u001B[43m)\u001B[49m\n",
      "\u001B[31mKeyboardInterrupt\u001B[39m: "
     ]
    }
   ],
   "execution_count": 25
  },
  {
   "metadata": {
    "ExecuteTime": {
     "end_time": "2025-06-02T04:50:34.640988500Z",
     "start_time": "2025-06-02T04:43:39.620581Z"
    }
   },
   "cell_type": "code",
   "source": [
    "# --- 6. Generar y Mostrar el Reporte ---\n",
    "from sklearn.metrics import precision_score, recall_score, f1_score, multilabel_confusion_matrix, classification_report\n",
    "\n",
    "print(\"\\n--- Reporte de Clasificación (Primeras Muestras de Test) ---\")\n",
    "\n",
    "y_true_multihot = [convert_indices_to_multihot(lst, NUM_LABELS) for lst in df_test_sample['true_labels_indices']]\n",
    "y_pred_multihot = [convert_indices_to_multihot(lst, NUM_LABELS) for lst in df_test_sample['predicted_labels_indices']]\n",
    "\n",
    "print(\"\\nEjemplos de Predicciones (con Razonamiento):\")\n",
    "for i in range(min(10, len(df_test_sample))):\n",
    "    true_names = [label_names_ordered[idx] for idx in df_test_sample['true_labels_indices'].iloc[i]]\n",
    "    reasoning_text = df_test_sample['llm_reasoning'].iloc[i]\n",
    "    pred_final_str = df_test_sample['predicted_final_labels_str'].iloc[i]\n",
    "\n",
    "    clause_id_to_print = df_test_sample['id'].iloc[i] if 'id' in df_test_sample.columns else f\"Fila_{df_test_sample.index[i]}\"\n",
    "\n",
    "    print(f\"Cláusula {i+1} ID: {clause_id_to_print}\")\n",
    "    print(f\"  Texto: {df_test_sample['text'].iloc[i][:100]}...\")\n",
    "    print(f\"  Etiquetas Verdaderas: {true_names if true_names else 'Ninguna'}\")\n",
    "    if reasoning_text:\n",
    "        print(f\"  Razonamiento del LLM:\\n{reasoning_text[:300]}...\\n\") # Mostrar solo una parte del razonamiento\n",
    "    print(f\"  Predicción Final del LLM (Etiquetas): {pred_final_str}\")\n",
    "    print(\"-\" * 20)\n",
    "\n",
    "# Reporte de Clasificación de Scikit-learn\n",
    "# Nota: Para multilabel, target_names debe corresponder a las columnas del y_true_multihot/y_pred_multihot\n",
    "# que son los índices de 0 a NUM_LABELS-1. Los nombres se usarán para mostrar el reporte.\n",
    "try:\n",
    "    report = classification_report(\n",
    "        y_true_multihot,\n",
    "        y_pred_multihot,\n",
    "        target_names=label_names_ordered,\n",
    "        zero_division=0\n",
    "    )\n",
    "    print(\"\\nReporte de Clasificación General (scikit-learn):\")\n",
    "    print(report)\n",
    "except ValueError as ve:\n",
    "    print(f\"\\nError generando el classification_report: {ve}\")\n",
    "    # ... (cálculo de métricas individuales como antes) ...\n",
    "    micro_f1 = f1_score(y_true_multihot, y_pred_multihot, average='micro', zero_division=0)\n",
    "    macro_f1 = f1_score(y_true_multihot, y_pred_multihot, average='macro', zero_division=0)\n",
    "    print(f\"  Micro F1-score: {micro_f1:.4f}\")\n",
    "    print(f\"  Macro F1-score: {macro_f1:.4f}\")\n",
    "\n",
    "exact_match_ratio = sum(\n",
    "    1 for i_match in range(len(y_true_multihot)) if y_true_multihot[i_match] == y_pred_multihot[i_match]\n",
    ") / len(y_true_multihot)\n",
    "print(f\"\\nExact Match Ratio (Precisión de Subconjunto de Etiquetas): {exact_match_ratio:.4f}\")\n",
    "\n",
    "# Opcional: Guardar el DataFrame con los resultados para análisis posterior\n",
    "df_test_sample.to_csv(os.path.join(output_dir, \"test_sample_predictions_with_reasoning.csv\"), index=False)\n",
    "print(f\"\\nResultados detallados (incluyendo razonamiento) guardados en: {os.path.join(output_dir, 'test_sample_predictions_with_reasoning.csv')}\")\n",
    "\n",
    "print(\"\\n--- Fin del Script ---\")"
   ],
   "id": "df9098b427ca6c94",
   "outputs": [
    {
     "name": "stdout",
     "output_type": "stream",
     "text": [
      "\n",
      "--- Reporte de Clasificación (Primeras Muestras de Test) ---\n",
      "\n",
      "Ejemplos de Predicciones (con Razonamiento):\n",
      "Cláusula 1 ID: Fila_0\n",
      "  Texto: last updated date : may 15 , 2017 \n",
      "...\n",
      "  Etiquetas Verdaderas: Ninguna\n",
      "  Predicción Final del LLM (Etiquetas): Ninguna\n",
      "--------------------\n",
      "Cláusula 2 ID: Fila_1\n",
      "  Texto: academia , inc. ( `` academia.edu '' or `` we '' ) offers a social networking service which enables ...\n",
      "  Etiquetas Verdaderas: Ninguna\n",
      "  Predicción Final del LLM (Etiquetas): Limitation of liability, Unilateral termination, Choice of law\n",
      "--------------------\n",
      "Cláusula 3 ID: Fila_2\n",
      "  Texto: please read carefully the following terms and conditions ( `` terms '' ) and our privacy policy , wh...\n",
      "  Etiquetas Verdaderas: Ninguna\n",
      "  Predicción Final del LLM (Etiquetas): Limitation of liability, Contract by using\n",
      "--------------------\n",
      "Cláusula 4 ID: Fila_3\n",
      "  Texto: these terms govern your access to and use of the site , services and collective content ( defined be...\n",
      "  Etiquetas Verdaderas: Ninguna\n",
      "  Predicción Final del LLM (Etiquetas): Limitation of liability, Contract by using\n",
      "--------------------\n",
      "Cláusula 5 ID: Fila_4\n",
      "  Texto: arbitration notice : unless you opt out of arbitration within 30 days of the date you first agree to...\n",
      "  Etiquetas Verdaderas: ['Arbitration']\n",
      "  Predicción Final del LLM (Etiquetas): Limitation of liability, Arbitration\n",
      "--------------------\n",
      "Cláusula 6 ID: Fila_5\n",
      "  Texto: `` content '' means text , graphics , images , music , software , audio , video , information or oth...\n",
      "  Etiquetas Verdaderas: Ninguna\n",
      "  Predicción Final del LLM (Etiquetas): Content removal, Limitation of liability\n",
      "--------------------\n",
      "Cláusula 7 ID: Fila_6\n",
      "  Texto: `` academia.edu content '' means content that academia.edu makes available through the site or servi...\n",
      "  Etiquetas Verdaderas: Ninguna\n",
      "  Predicción Final del LLM (Etiquetas): Limitation of liability, Content removal\n",
      "--------------------\n",
      "Cláusula 8 ID: Fila_7\n",
      "  Texto: `` member '' means a person who completes academia.edu 's account registration process , as describe...\n",
      "  Etiquetas Verdaderas: Ninguna\n",
      "  Predicción Final del LLM (Etiquetas): Limitation of liability, Unilateral termination\n",
      "--------------------\n",
      "Cláusula 9 ID: Fila_8\n",
      "  Texto: `` member content '' means content that a member posts , uploads , publishes , submits or transmits ...\n",
      "  Etiquetas Verdaderas: Ninguna\n",
      "  Predicción Final del LLM (Etiquetas): Limitation of liability, Unilateral termination\n",
      "--------------------\n",
      "Cláusula 10 ID: Fila_9\n",
      "  Texto: `` collective content '' means , collectively , academia.edu content and member content . \n",
      "...\n",
      "  Etiquetas Verdaderas: Ninguna\n",
      "  Predicción Final del LLM (Etiquetas): Limitation of liability, Unilateral termination\n",
      "--------------------\n",
      "\n",
      "Reporte de Clasificación General (scikit-learn):\n",
      "                         precision    recall  f1-score   support\n",
      "\n",
      "Limitation of liability       0.02      1.00      0.03         2\n",
      " Unilateral termination       0.12      0.75      0.20         8\n",
      "      Unilateral change       0.06      0.50      0.11         2\n",
      "        Content removal       0.04      1.00      0.07         1\n",
      "      Contract by using       0.20      0.67      0.31         3\n",
      "          Choice of law       0.02      1.00      0.04         1\n",
      "           Jurisdiction       0.06      1.00      0.12         1\n",
      "            Arbitration       0.07      0.50      0.12         2\n",
      "\n",
      "              micro avg       0.05      0.75      0.09        20\n",
      "              macro avg       0.07      0.80      0.13        20\n",
      "           weighted avg       0.10      0.75      0.17        20\n",
      "            samples avg       0.05      0.07      0.05        20\n",
      "\n",
      "\n",
      "Exact Match Ratio (Precisión de Subconjunto de Etiquetas): 0.2550\n",
      "\n",
      "Resultados detallados (incluyendo razonamiento) guardados en: ./data/unfair_tos_data/test_sample_predictions_with_reasoning.csv\n",
      "\n",
      "--- Fin del Script ---\n"
     ]
    }
   ],
   "execution_count": 13
  },
  {
   "metadata": {
    "ExecuteTime": {
     "end_time": "2025-06-02T04:50:34.640988500Z",
     "start_time": "2025-06-02T04:43:41.314402Z"
    }
   },
   "cell_type": "code",
   "source": "",
   "id": "a98b24688fb568a8",
   "outputs": [],
   "execution_count": null
  }
 ],
 "metadata": {
  "kernelspec": {
   "display_name": "Python 3",
   "language": "python",
   "name": "python3"
  },
  "language_info": {
   "codemirror_mode": {
    "name": "ipython",
    "version": 2
   },
   "file_extension": ".py",
   "mimetype": "text/x-python",
   "name": "python",
   "nbconvert_exporter": "python",
   "pygments_lexer": "ipython2",
   "version": "2.7.6"
  }
 },
 "nbformat": 4,
 "nbformat_minor": 5
}
