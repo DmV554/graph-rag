{
 "cells": [
  {
   "metadata": {
    "ExecuteTime": {
     "end_time": "2025-05-28T00:34:16.324740Z",
     "start_time": "2025-05-28T00:34:14.125504Z"
    }
   },
   "cell_type": "code",
   "source": [
    "import pandas as pd\n",
    "import os\n",
    "from llama_index.core import Document\n",
    "from llama_index.core import Settings # Importar Settings\n",
    "from llama_index.embeddings.huggingface import HuggingFaceEmbedding\n",
    "from llama_index.core.node_parser import SentenceSplitter # Para dividir el texto\n",
    "from llama_index.core import VectorStoreIndex\n",
    "import logging\n",
    "import sys\n",
    "\n",
    "# Configuración básica de logging para ver el progreso\n",
    "logging.basicConfig(stream=sys.stdout, level=logging.INFO)\n",
    "logging.getLogger().addHandler(logging.StreamHandler(stream=sys.stdout))\n",
    "\n",
    "# --- Configuración Global de LlamaIndex ---\n",
    "print(\"Configurando el modelo de embeddings...\")\n",
    "try:\n",
    "    # Usaremos un modelo de embeddings popular y eficiente\n",
    "    Settings.embed_model = HuggingFaceEmbedding(\n",
    "        model_name=\"sentence-transformers/all-MiniLM-L6-v2\"\n",
    "    )\n",
    "    print(\"Modelo de embeddings configurado.\")\n",
    "except Exception as e:\n",
    "    print(f\"Error configurando el modelo de embeddings: {e}\")\n",
    "    print(\"Asegúrate de tener conexión a internet para descargar el modelo si es la primera vez.\")\n",
    "    exit()\n",
    "\n",
    "# --- 1. Cargar y Combinar los CSVs (SOLO TRAIN Y VALIDATION) ---\n",
    "output_dir = \"../../data/unfair_tos_data\"  # El directorio donde guardaste los CSVs\n",
    "csv_files_to_combine = { # Definimos explícitamente los archivos a usar\n",
    "    \"train\": os.path.join(output_dir, \"unfair_tos_train.csv\"),\n",
    "    \"validation\": os.path.join(output_dir, \"unfair_tos_validation.csv\")\n",
    "}\n",
    "\n",
    "all_dfs = []\n",
    "print(\"\\nCargando y combinando archivos CSV (train y validation)...\")\n",
    "for split_name, file_path in csv_files_to_combine.items(): # Usamos el nuevo diccionario\n",
    "    if os.path.exists(file_path):\n",
    "        try:\n",
    "            df = pd.read_csv(file_path)\n",
    "            # Ya no necesitamos 'original_split' en los metadatos finales,\n",
    "            # pero podríamos mantenerla aquí si quisiéramos diferenciar en el df_full\n",
    "            # df['original_split'] = split_name\n",
    "            all_dfs.append(df)\n",
    "            print(f\"Archivo '{file_path}' cargado (filas: {len(df)}).\")\n",
    "        except Exception as e:\n",
    "            print(f\"Error cargando el archivo {file_path}: {e}\")\n",
    "    else:\n",
    "        print(f\"Advertencia: El archivo '{file_path}' no fue encontrado.\")\n",
    "\n",
    "if not all_dfs:\n",
    "    print(\"Error: No se cargó ningún archivo CSV de train o validation. Verifica las rutas y los archivos.\")\n",
    "    exit()\n",
    "\n",
    "df_full = pd.concat(all_dfs, ignore_index=True)\n",
    "print(f\"Total de filas combinadas (train + validation): {len(df_full)}\")\n",
    "print(\"Primeras filas del DataFrame combinado:\")"
   ],
   "id": "4f26fb0517ae436c",
   "outputs": [
    {
     "name": "stdout",
     "output_type": "stream",
     "text": [
      "Configurando el modelo de embeddings...\n",
      "INFO:sentence_transformers.SentenceTransformer:Load pretrained SentenceTransformer: sentence-transformers/all-MiniLM-L6-v2\n",
      "Load pretrained SentenceTransformer: sentence-transformers/all-MiniLM-L6-v2\n",
      "Load pretrained SentenceTransformer: sentence-transformers/all-MiniLM-L6-v2\n",
      "INFO:sentence_transformers.SentenceTransformer:2 prompts are loaded, with the keys: ['query', 'text']\n",
      "2 prompts are loaded, with the keys: ['query', 'text']\n",
      "2 prompts are loaded, with the keys: ['query', 'text']\n",
      "Modelo de embeddings configurado.\n",
      "\n",
      "Cargando y combinando archivos CSV (train y validation)...\n",
      "Archivo 'unfair_tos_data/unfair_tos_train.csv' cargado (filas: 5532).\n",
      "Archivo 'unfair_tos_data/unfair_tos_validation.csv' cargado (filas: 2275).\n",
      "Total de filas combinadas (train + validation): 7807\n",
      "Primeras filas del DataFrame combinado:\n"
     ]
    }
   ],
   "execution_count": 10
  },
  {
   "metadata": {
    "ExecuteTime": {
     "end_time": "2025-05-28T00:35:19.798748Z",
     "start_time": "2025-05-28T00:35:19.794061Z"
    }
   },
   "cell_type": "code",
   "source": "df_full.head()",
   "id": "5fae30ddf3443175",
   "outputs": [
    {
     "data": {
      "text/plain": [
       "                                                text labels\n",
       "0  notice to california subscribers : you may can...     []\n",
       "1  if you subscribed using your apple id , refund...     []\n",
       "2  if you wish to request a refund , please visit...     []\n",
       "3  if you subscribed using your google play store...     []\n",
       "4  key changes in this version : we 've included ...     []"
      ],
      "text/html": [
       "<div>\n",
       "<style scoped>\n",
       "    .dataframe tbody tr th:only-of-type {\n",
       "        vertical-align: middle;\n",
       "    }\n",
       "\n",
       "    .dataframe tbody tr th {\n",
       "        vertical-align: top;\n",
       "    }\n",
       "\n",
       "    .dataframe thead th {\n",
       "        text-align: right;\n",
       "    }\n",
       "</style>\n",
       "<table border=\"1\" class=\"dataframe\">\n",
       "  <thead>\n",
       "    <tr style=\"text-align: right;\">\n",
       "      <th></th>\n",
       "      <th>text</th>\n",
       "      <th>labels</th>\n",
       "    </tr>\n",
       "  </thead>\n",
       "  <tbody>\n",
       "    <tr>\n",
       "      <th>0</th>\n",
       "      <td>notice to california subscribers : you may can...</td>\n",
       "      <td>[]</td>\n",
       "    </tr>\n",
       "    <tr>\n",
       "      <th>1</th>\n",
       "      <td>if you subscribed using your apple id , refund...</td>\n",
       "      <td>[]</td>\n",
       "    </tr>\n",
       "    <tr>\n",
       "      <th>2</th>\n",
       "      <td>if you wish to request a refund , please visit...</td>\n",
       "      <td>[]</td>\n",
       "    </tr>\n",
       "    <tr>\n",
       "      <th>3</th>\n",
       "      <td>if you subscribed using your google play store...</td>\n",
       "      <td>[]</td>\n",
       "    </tr>\n",
       "    <tr>\n",
       "      <th>4</th>\n",
       "      <td>key changes in this version : we 've included ...</td>\n",
       "      <td>[]</td>\n",
       "    </tr>\n",
       "  </tbody>\n",
       "</table>\n",
       "</div>"
      ]
     },
     "execution_count": 12,
     "metadata": {},
     "output_type": "execute_result"
    }
   ],
   "execution_count": 12
  },
  {
   "metadata": {
    "ExecuteTime": {
     "end_time": "2025-05-28T00:35:22.036743Z",
     "start_time": "2025-05-28T00:35:22.030137Z"
    }
   },
   "cell_type": "code",
   "source": [
    "# --- 2. Procesar Etiquetas y Crear Documentos LlamaIndex (METADATOS MODIFICADOS) ---\n",
    "\n",
    "# Función para parsear las etiquetas\n",
    "def parse_space_separated_label_list(label_str):\n",
    "    if pd.isna(label_str) or not isinstance(label_str, str):\n",
    "        return []\n",
    "    cleaned_str = label_str.strip().strip('[]').strip()\n",
    "    if not cleaned_str:\n",
    "        return []\n",
    "    try:\n",
    "        return [int(num_str) for num_str in cleaned_str.split()]\n",
    "    except ValueError:\n",
    "        # Silenciamos la advertencia por cada parseo fallido para no llenar la consola si hay muchos\n",
    "        # print(f\"Advertencia: No se pudo parsear '{label_str}'. Se devuelve lista vacía.\")\n",
    "        return [] # Importante devolver lista vacía en caso de error\n",
    "\n",
    "df_full['labels_list'] = df_full['labels'].apply(parse_space_separated_label_list)"
   ],
   "id": "b5b26e74a67fc87f",
   "outputs": [],
   "execution_count": 13
  },
  {
   "metadata": {
    "ExecuteTime": {
     "end_time": "2025-05-28T00:35:23.690052Z",
     "start_time": "2025-05-28T00:35:23.683717Z"
    }
   },
   "cell_type": "code",
   "source": "df_full",
   "id": "575a923ad63c479c",
   "outputs": [
    {
     "data": {
      "text/plain": [
       "                                                   text labels labels_list\n",
       "0     notice to california subscribers : you may can...     []          []\n",
       "1     if you subscribed using your apple id , refund...     []          []\n",
       "2     if you wish to request a refund , please visit...     []          []\n",
       "3     if you subscribed using your google play store...     []          []\n",
       "4     key changes in this version : we 've included ...     []          []\n",
       "...                                                 ...    ...         ...\n",
       "7802  all claims filed or brought contrary to the di...     []          []\n",
       "7803  should either party file a claim contrary to t...     []          []\n",
       "7804  the following related policies are incorporate...     []          []\n",
       "7805  in the event of a conflict between this agreem...     []          []\n",
       "7806                      effective : july 31 , 2017 \\n     []          []\n",
       "\n",
       "[7807 rows x 3 columns]"
      ],
      "text/html": [
       "<div>\n",
       "<style scoped>\n",
       "    .dataframe tbody tr th:only-of-type {\n",
       "        vertical-align: middle;\n",
       "    }\n",
       "\n",
       "    .dataframe tbody tr th {\n",
       "        vertical-align: top;\n",
       "    }\n",
       "\n",
       "    .dataframe thead th {\n",
       "        text-align: right;\n",
       "    }\n",
       "</style>\n",
       "<table border=\"1\" class=\"dataframe\">\n",
       "  <thead>\n",
       "    <tr style=\"text-align: right;\">\n",
       "      <th></th>\n",
       "      <th>text</th>\n",
       "      <th>labels</th>\n",
       "      <th>labels_list</th>\n",
       "    </tr>\n",
       "  </thead>\n",
       "  <tbody>\n",
       "    <tr>\n",
       "      <th>0</th>\n",
       "      <td>notice to california subscribers : you may can...</td>\n",
       "      <td>[]</td>\n",
       "      <td>[]</td>\n",
       "    </tr>\n",
       "    <tr>\n",
       "      <th>1</th>\n",
       "      <td>if you subscribed using your apple id , refund...</td>\n",
       "      <td>[]</td>\n",
       "      <td>[]</td>\n",
       "    </tr>\n",
       "    <tr>\n",
       "      <th>2</th>\n",
       "      <td>if you wish to request a refund , please visit...</td>\n",
       "      <td>[]</td>\n",
       "      <td>[]</td>\n",
       "    </tr>\n",
       "    <tr>\n",
       "      <th>3</th>\n",
       "      <td>if you subscribed using your google play store...</td>\n",
       "      <td>[]</td>\n",
       "      <td>[]</td>\n",
       "    </tr>\n",
       "    <tr>\n",
       "      <th>4</th>\n",
       "      <td>key changes in this version : we 've included ...</td>\n",
       "      <td>[]</td>\n",
       "      <td>[]</td>\n",
       "    </tr>\n",
       "    <tr>\n",
       "      <th>...</th>\n",
       "      <td>...</td>\n",
       "      <td>...</td>\n",
       "      <td>...</td>\n",
       "    </tr>\n",
       "    <tr>\n",
       "      <th>7802</th>\n",
       "      <td>all claims filed or brought contrary to the di...</td>\n",
       "      <td>[]</td>\n",
       "      <td>[]</td>\n",
       "    </tr>\n",
       "    <tr>\n",
       "      <th>7803</th>\n",
       "      <td>should either party file a claim contrary to t...</td>\n",
       "      <td>[]</td>\n",
       "      <td>[]</td>\n",
       "    </tr>\n",
       "    <tr>\n",
       "      <th>7804</th>\n",
       "      <td>the following related policies are incorporate...</td>\n",
       "      <td>[]</td>\n",
       "      <td>[]</td>\n",
       "    </tr>\n",
       "    <tr>\n",
       "      <th>7805</th>\n",
       "      <td>in the event of a conflict between this agreem...</td>\n",
       "      <td>[]</td>\n",
       "      <td>[]</td>\n",
       "    </tr>\n",
       "    <tr>\n",
       "      <th>7806</th>\n",
       "      <td>effective : july 31 , 2017 \\n</td>\n",
       "      <td>[]</td>\n",
       "      <td>[]</td>\n",
       "    </tr>\n",
       "  </tbody>\n",
       "</table>\n",
       "<p>7807 rows × 3 columns</p>\n",
       "</div>"
      ]
     },
     "execution_count": 14,
     "metadata": {},
     "output_type": "execute_result"
    }
   ],
   "execution_count": 14
  },
  {
   "metadata": {
    "ExecuteTime": {
     "end_time": "2025-05-28T00:35:27.132091Z",
     "start_time": "2025-05-28T00:35:26.616373Z"
    }
   },
   "cell_type": "code",
   "source": [
    "# Nombres de las etiquetas en el ORDEN CORRECTO\n",
    "label_names_map = {\n",
    "    0: 'Limitation of liability',\n",
    "    1: 'Unilateral termination',\n",
    "    2: 'Unilateral change',\n",
    "    3: 'Content removal',\n",
    "    4: 'Contract by using',\n",
    "    5: 'Choice of law',\n",
    "    6: 'Jurisdiction',\n",
    "    7: 'Arbitration'\n",
    "}\n",
    "\n",
    "# Crear objetos Document de LlamaIndex\n",
    "print(\"\\nCreando objetos Document de LlamaIndex con metadatos modificados...\")\n",
    "llama_documents = []\n",
    "for index, row in df_full.iterrows():\n",
    "    clause_text = str(row['text'])\n",
    "    label_indices = row['labels_list']\n",
    "    human_readable_labels = [label_names_map[idx] for idx in label_indices if idx in label_names_map]\n",
    "\n",
    "    # Metadatos Modificados: solo clause_id, labels_indices, labels_names\n",
    "    metadata = {\n",
    "        \"clause_id\": str(row.get('id', f\"row_{index}\")), # Usar 'id' si existe, si no un id generado\n",
    "        \"labels_indices\": str(label_indices),\n",
    "        \"labels_names\": \", \".join(human_readable_labels) if human_readable_labels else \"Ninguna\", # Si no hay etiquetas, poner \"Ninguna\"\n",
    "    }\n",
    "    doc = Document(text=clause_text, metadata=metadata)\n",
    "    llama_documents.append(doc)\n",
    "\n",
    "print(f\"Se crearon {len(llama_documents)} Documentos LlamaIndex.\")\n",
    "if llama_documents:\n",
    "    print(\"Ejemplo del primer Documento LlamaIndex (con metadatos modificados):\")\n",
    "    print(f\"Texto: {llama_documents[0].text[:100]}...\")\n",
    "    print(f\"Metadatos: {llama_documents[0].metadata}\")"
   ],
   "id": "8d9eb4e955556404",
   "outputs": [
    {
     "name": "stdout",
     "output_type": "stream",
     "text": [
      "\n",
      "Creando objetos Document de LlamaIndex con metadatos modificados...\n",
      "Se crearon 7807 Documentos LlamaIndex.\n",
      "Ejemplo del primer Documento LlamaIndex (con metadatos modificados):\n",
      "Texto: notice to california subscribers : you may cancel your subscription , without penalty or obligation ...\n",
      "Metadatos: {'clause_id': 'row_0', 'labels_indices': '[]', 'labels_names': 'Ninguna'}\n"
     ]
    }
   ],
   "execution_count": 15
  },
  {
   "metadata": {
    "ExecuteTime": {
     "end_time": "2025-05-28T00:35:56.344374Z",
     "start_time": "2025-05-28T00:35:41.567732Z"
    }
   },
   "cell_type": "code",
   "source": [
    "# --- 3. Crear el Índice Vectorial (Esto genera y almacena los embeddings) ---\n",
    "print(\"\\nCreando el índice vectorial (esto generará los embeddings)...\")\n",
    "if llama_documents:\n",
    "    try:\n",
    "        index = VectorStoreIndex.from_documents(llama_documents)\n",
    "        print(\"Índice vectorial creado exitosamente.\")\n",
    "\n",
    "        # --- 4. Persistir el Índice para Uso Futuro ---\n",
    "        # Cambiamos el nombre del directorio para reflejar que solo usa train y validation\n",
    "        persist_directory = \"./unfair_tos_kb_index_train_val\"\n",
    "        if not os.path.exists(persist_directory):\n",
    "            os.makedirs(persist_directory)\n",
    "        index.storage_context.persist(persist_dir=persist_directory)\n",
    "        print(f\"Índice persistido en: {persist_directory}\")\n",
    "        # ... (mensajes sobre cómo cargarlo) ...\n",
    "\n",
    "    except Exception as e:\n",
    "        print(f\"Error creando o persistiendo el índice: {e}\")\n",
    "else:\n",
    "    print(\"No hay documentos para crear el índice.\")\n",
    "\n",
    "print(\"\\n--- Proceso de Creación de Knowledge Base (Train+Val) y Embeddings Completado ---\")"
   ],
   "id": "8f4d2dbdeda1922e",
   "outputs": [
    {
     "name": "stdout",
     "output_type": "stream",
     "text": [
      "\n",
      "Creando el índice vectorial (esto generará los embeddings)...\n",
      "Índice vectorial creado exitosamente.\n",
      "Índice persistido en: ./unfair_tos_kb_index_train_val\n",
      "\n",
      "--- Proceso de Creación de Knowledge Base (Train+Val) y Embeddings Completado ---\n"
     ]
    }
   ],
   "execution_count": 16
  },
  {
   "metadata": {},
   "cell_type": "code",
   "outputs": [],
   "execution_count": null,
   "source": "",
   "id": "7e078c1e5644f830"
  }
 ],
 "metadata": {
  "kernelspec": {
   "display_name": "Python 3",
   "language": "python",
   "name": "python3"
  },
  "language_info": {
   "codemirror_mode": {
    "name": "ipython",
    "version": 2
   },
   "file_extension": ".py",
   "mimetype": "text/x-python",
   "name": "python",
   "nbconvert_exporter": "python",
   "pygments_lexer": "ipython2",
   "version": "2.7.6"
  }
 },
 "nbformat": 4,
 "nbformat_minor": 5
}
