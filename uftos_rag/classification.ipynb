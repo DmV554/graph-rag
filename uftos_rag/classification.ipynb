{
 "cells": [
  {
   "metadata": {
    "ExecuteTime": {
     "end_time": "2025-05-28T17:36:14.598977Z",
     "start_time": "2025-05-28T17:36:08.023273Z"
    }
   },
   "cell_type": "code",
   "source": [
    "import logging\n",
    "import sys\n",
    "import os # Necesario para os.path.exists\n",
    "\n",
    "# Configuración básica de logging\n",
    "logging.basicConfig(stream=sys.stdout, level=logging.INFO)\n",
    "logging.getLogger().addHandler(logging.StreamHandler(stream=sys.stdout))\n",
    "\n",
    "from llama_index.core import Settings, StorageContext, load_index_from_storage\n",
    "from llama_index.embeddings.huggingface import HuggingFaceEmbedding\n",
    "from llama_index.llms.ollama import Ollama\n",
    "from llama_index.core.prompts import PromptTemplate\n",
    "from llama_index.core.callbacks import CallbackManager, LlamaDebugHandler, CBEventType"
   ],
   "id": "f51a3cda6609c3ee",
   "outputs": [
    {
     "name": "stderr",
     "output_type": "stream",
     "text": [
      "/home/daniel/PROGRAMAS/miniconda3/envs/CHILEAN_AC/lib/python3.11/site-packages/requests/__init__.py:86: RequestsDependencyWarning: Unable to find acceptable character detection dependency (chardet or charset_normalizer).\n",
      "  warnings.warn(\n",
      "/home/daniel/PROGRAMAS/miniconda3/envs/CHILEAN_AC/lib/python3.11/site-packages/tqdm/auto.py:21: TqdmWarning: IProgress not found. Please update jupyter and ipywidgets. See https://ipywidgets.readthedocs.io/en/stable/user_install.html\n",
      "  from .autonotebook import tqdm as notebook_tqdm\n"
     ]
    }
   ],
   "execution_count": 1
  },
  {
   "metadata": {
    "ExecuteTime": {
     "end_time": "2025-05-28T17:36:14.615202Z",
     "start_time": "2025-05-28T17:36:14.609465Z"
    }
   },
   "cell_type": "code",
   "source": [
    "# --- Callback Handler Personalizado para capturar el prompt ---\n",
    "class PromptCaptureHandler(LlamaDebugHandler):\n",
    "    def __init__(self):\n",
    "        super().__init__()\n",
    "        self.last_llm_prompt = None\n",
    "        self.last_llm_inputs = None\n",
    "\n",
    "    def on_event_start(\n",
    "        self,\n",
    "        event_type: CBEventType,\n",
    "        payload: dict = None,\n",
    "        event_id: str = \"\",\n",
    "        parent_id: str = \"\",\n",
    "        **kwargs,\n",
    "    ) -> str:\n",
    "        if event_type == CBEventType.LLM:\n",
    "            # El payload en el evento LLM contiene los argumentos pasados al LLM\n",
    "            # Esto incluye los mensajes o el prompt formateado\n",
    "            if payload:\n",
    "                # Para modelos de chat, los prompts están en 'messages'\n",
    "                if \"messages\" in payload:\n",
    "                    self.last_llm_inputs = payload.get(\"messages\")\n",
    "                # Para modelos de completado, puede estar en una lista de 'prompts'\n",
    "                elif \"prompts\" in payload:\n",
    "                     self.last_llm_inputs = payload.get(\"prompts\")\n",
    "\n",
    "        return event_id # Devuelve el event_id\n",
    "\n",
    "    def on_event_end(\n",
    "        self,\n",
    "        event_type: CBEventType,\n",
    "        payload: dict = None,\n",
    "        event_id: str = \"\",\n",
    "        **kwargs,\n",
    "    ) -> None:\n",
    "        # Aquí podrías capturar la respuesta del LLM si quisieras\n",
    "        pass\n",
    "\n",
    "    def get_last_llm_prompt_str(self):\n",
    "        if not self.last_llm_inputs:\n",
    "            return \"No se capturó ningún prompt para el LLM.\"\n",
    "\n",
    "        # Si son mensajes de chat (lo más común ahora)\n",
    "        if isinstance(self.last_llm_inputs, list) and hasattr(self.last_llm_inputs[0], 'content'):\n",
    "            return \"\\n\".join([f\"Role: {msg.role}\\nContent: {msg.content}\" for msg in self.last_llm_inputs])\n",
    "        # Si es una lista de strings de prompt (para modelos de completado más antiguos)\n",
    "        elif isinstance(self.last_llm_inputs, list) and isinstance(self.last_llm_inputs[0], str):\n",
    "            return \"\\n---\\n\".join(self.last_llm_inputs)\n",
    "        return str(self.last_llm_inputs)"
   ],
   "id": "9307691bad71cd9",
   "outputs": [],
   "execution_count": 2
  },
  {
   "cell_type": "code",
   "id": "initial_id",
   "metadata": {
    "collapsed": true,
    "ExecuteTime": {
     "end_time": "2025-05-28T17:36:23.625394Z",
     "start_time": "2025-05-28T17:36:14.719861Z"
    }
   },
   "source": [
    "\n",
    "\n",
    "# --- 1. Configurar Componentes Globales (LLM y Modelo de Embeddings) ---\n",
    "print(\"Configurando LLM, Embeddings y Callback Manager...\")\n",
    "prompt_capture_handler = PromptCaptureHandler()\n",
    "callback_manager = CallbackManager([prompt_capture_handler])\n",
    "try:\n",
    "    Settings.llm = Ollama(model=\"qwen3:1.7b-q8_0\", request_timeout=3600.0) # o tu modelo preferido\n",
    "    Settings.embed_model = HuggingFaceEmbedding(\n",
    "        model_name=\"sentence-transformers/all-MiniLM-L6-v2\"\n",
    "    )\n",
    "    Settings.callback_manager = callback_manager # Asignar el callback manager globalmente\n",
    "    print(\"LLM y Modelo de Embeddings configurados.\")\n",
    "except Exception as e:\n",
    "    print(f\"Error configurando LLM o Embeddings: {e}\")\n",
    "    exit()\n"
   ],
   "outputs": [
    {
     "name": "stdout",
     "output_type": "stream",
     "text": [
      "Configurando LLM, Embeddings y Callback Manager...\n",
      "INFO:sentence_transformers.SentenceTransformer:Load pretrained SentenceTransformer: sentence-transformers/all-MiniLM-L6-v2\n",
      "Load pretrained SentenceTransformer: sentence-transformers/all-MiniLM-L6-v2\n",
      "INFO:sentence_transformers.SentenceTransformer:2 prompts are loaded, with the keys: ['query', 'text']\n",
      "2 prompts are loaded, with the keys: ['query', 'text']\n",
      "LLM y Modelo de Embeddings configurados.\n"
     ]
    }
   ],
   "execution_count": 3
  },
  {
   "metadata": {
    "ExecuteTime": {
     "end_time": "2025-05-28T17:36:36.676972Z",
     "start_time": "2025-05-28T17:36:23.637252Z"
    }
   },
   "cell_type": "code",
   "source": [
    "\n",
    "# --- 2. Cargar el Índice Vectorial Persistido ---\n",
    "persist_directory = \"./unfair_tos_kb_index_train_val\" # El mismo directorio donde guardaste el índice\n",
    "\n",
    "if not os.path.exists(persist_directory):\n",
    "    print(f\"Error: El directorio del índice persistido '{persist_directory}' no fue encontrado.\")\n",
    "    print(\"Asegúrate de haber ejecutado el script anterior para crear y persistir el índice.\")\n",
    "    exit()\n",
    "\n",
    "print(f\"\\nCargando el índice desde: {persist_directory}...\")\n",
    "try:\n",
    "    storage_context = StorageContext.from_defaults(persist_dir=persist_directory)\n",
    "    index = load_index_from_storage(storage_context)\n",
    "    print(\"Índice cargado exitosamente.\")\n",
    "except Exception as e:\n",
    "    print(f\"Error cargando el índice: {e}\")\n",
    "    exit()"
   ],
   "id": "a604ac97c77a1257",
   "outputs": [
    {
     "name": "stdout",
     "output_type": "stream",
     "text": [
      "\n",
      "Cargando el índice desde: ./unfair_tos_kb_index_train_val...\n",
      "INFO:llama_index.core.indices.loading:Loading all indices.\n",
      "Loading all indices.\n",
      "**********\n",
      "Trace: index_construction\n",
      "**********\n",
      "Índice cargado exitosamente.\n"
     ]
    }
   ],
   "execution_count": 4
  },
  {
   "metadata": {
    "ExecuteTime": {
     "end_time": "2025-05-28T17:36:38.393479Z",
     "start_time": "2025-05-28T17:36:38.332571Z"
    }
   },
   "cell_type": "code",
   "source": [
    "# --- 3. Crear un Motor de Consulta (Query Engine) ---\n",
    "# El Query Engine se encarga de la lógica RAG: recuperar y luego sintetizar.\n",
    "print(\"\\nCreando el motor de consulta...\")\n",
    "query_engine = index.as_query_engine(\n",
    "    similarity_top_k=3, # Recuperar los 3 chunks más similares\n",
    "    # response_mode=\"compact\" # Puedes experimentar con diferentes modos de respuesta\n",
    ")\n",
    "print(\"Motor de consulta creado.\")"
   ],
   "id": "c70fa4515b3d6092",
   "outputs": [
    {
     "name": "stdout",
     "output_type": "stream",
     "text": [
      "\n",
      "Creando el motor de consulta...\n",
      "INFO:httpx:HTTP Request: POST http://localhost:11434/api/show \"HTTP/1.1 200 OK\"\n",
      "HTTP Request: POST http://localhost:11434/api/show \"HTTP/1.1 200 OK\"\n",
      "Motor de consulta creado.\n"
     ]
    }
   ],
   "execution_count": 5
  },
  {
   "metadata": {
    "ExecuteTime": {
     "end_time": "2025-05-28T17:36:40.039441Z",
     "start_time": "2025-05-28T17:36:40.035374Z"
    }
   },
   "cell_type": "code",
   "source": [
    "# --- 4. Definir la Cláusula a Clasificar y el Prompt de Clasificación ---\n",
    "\n",
    "# Nombres de las etiquetas en el ORDEN CORRECTO\n",
    "label_names_ordered = [\n",
    "    'Limitation of liability', # Índice 0\n",
    "    'Unilateral termination',  # Índice 1\n",
    "    'Unilateral change',       # Índice 2\n",
    "    'Content removal',         # Índice 3\n",
    "    'Contract by using',       # Índice 4\n",
    "    'Choice of law',           # Índice 5\n",
    "    'Jurisdiction',            # Índice 6\n",
    "    'Arbitration'              # Índice 7\n",
    "]\n",
    "# Crear una representación de las etiquetas para el prompt\n",
    "etiquetas_posibles_str = \"\\n\".join([f\"- {name}\" for name in label_names_ordered])\n",
    "\n",
    "\n",
    "\n",
    "# Crear un prompt de plantilla para la tarea de clasificación multietiqueta\n",
    "# Esto es un ejemplo. El \"prompt engineering\" es clave aquí.\n",
    "# Le pedimos al LLM que use el contexto para identificar las etiquetas.\n",
    "classification_prompt_template = PromptTemplate(\n",
    "    \"Eres un asistente legal experto en identificar cláusulas abusivas en Términos de Servicio.\\n\"\n",
    "    \"Analiza la siguiente Cláusula Nueva basándote en el Contexto Proporcionado (cláusulas similares y sus etiquetas) y determina a cuáles de las siguientes categorías de cláusulas abusivas pertenece.\\n\"\n",
    "    \"Responde ÚNICAMENTE con los nombres de las categorías de la lista que apliquen, separados por comas. Si ninguna aplica, responde 'Ninguna'.\\n\\n\"\n",
    "    \"Categorías Posibles:\\n\"\n",
    "    f\"{etiquetas_posibles_str}\\n\\n\"\n",
    "    \"Contexto Proporcionado (Cláusulas Similares de la Base de Conocimiento y sus Etiquetas):\\n\"\n",
    "    \"---------------------\\n\"\n",
    "    \"{context_str}\\n\"  # LlamaIndex llenará esto con los chunks recuperados\n",
    "    \"---------------------\\n\"\n",
    "    \"Cláusula Nueva a Clasificar:\\n\"\n",
    "    \"{query_str}\\n\\n\"  # LlamaIndex llenará esto con la cláusula_a_clasificar\n",
    "    \"Etiquetas Identificadas (separadas por comas o 'Ninguna'):\"\n",
    ")\n",
    "\n",
    "# Actualizar el prompt en el query_engine\n",
    "query_engine.update_prompts(\n",
    "    {\"response_synthesizer:text_qa_template\": classification_prompt_template}\n",
    ")\n",
    "print(\"Prompt de clasificación actualizado en el motor de consulta.\")\n"
   ],
   "id": "21385e957bdb2f9",
   "outputs": [
    {
     "name": "stdout",
     "output_type": "stream",
     "text": [
      "Prompt de clasificación actualizado en el motor de consulta.\n"
     ]
    }
   ],
   "execution_count": 6
  },
  {
   "metadata": {
    "ExecuteTime": {
     "end_time": "2025-05-28T17:36:41.649211Z",
     "start_time": "2025-05-28T17:36:41.646684Z"
    }
   },
   "cell_type": "code",
   "source": [
    "# Cláusula de ejemplo que queremos clasificar (puedes cambiarla)\n",
    "clausula_a_clasificar = \"amazon reserves the right to refuse service , terminate accounts , terminate your rights to use amazon services , remove or edit content , or cancel orders in its sole discretion.\""
   ],
   "id": "45cc55dbab11e35",
   "outputs": [],
   "execution_count": 7
  },
  {
   "metadata": {
    "ExecuteTime": {
     "end_time": "2025-05-28T17:37:09.338824Z",
     "start_time": "2025-05-28T17:36:43.304204Z"
    }
   },
   "cell_type": "code",
   "source": [
    "# --- 5. Realizar la Consulta RAG para Clasificación ---\n",
    "print(f\"\\nClasificando la cláusula: \\\"{clausula_a_clasificar}\\\"\")\n",
    "try:\n",
    "    respuesta_rag = query_engine.query(clausula_a_clasificar)\n",
    "\n",
    "    print(\"\\n--- Prompt Final Enviado al LLM (Capturado por Callback) ---\")\n",
    "    print(prompt_capture_handler.get_last_llm_prompt_str()) # Imprimir el prompt capturado\n",
    "\n",
    "    print(\"\\n--- Respuesta del LLM (Clasificación Sugerida) ---\")\n",
    "    print(respuesta_rag.response)\n",
    "\n",
    "    print(\"\\n--- Nodos Fuente Utilizados para la Clasificación (Contexto) ---\")\n",
    "    for i, source_node in enumerate(respuesta_rag.source_nodes):\n",
    "        print(f\"Nodo {i+1} (Score de similitud: {source_node.score:.4f}):\")\n",
    "        print(f\"Texto: {source_node.get_content()[:150]}...\")\n",
    "        print(f\"Metadatos originales: {source_node.metadata}\") # Aquí verás las etiquetas originales de este chunk\n",
    "        print(\"-\" * 20)\n",
    "\n",
    "except Exception as e:\n",
    "    print(f\"Error durante la consulta RAG para clasificación: {e}\")\n",
    "\n",
    "print(\"\\n--- Fin del Ejemplo RAG para Clasificación con LlamaIndex ---\")"
   ],
   "id": "ceb20287cb0d0178",
   "outputs": [
    {
     "name": "stdout",
     "output_type": "stream",
     "text": [
      "\n",
      "Clasificando la cláusula: \"amazon reserves the right to refuse service , terminate accounts , terminate your rights to use amazon services , remove or edit content , or cancel orders in its sole discretion.\"\n",
      "INFO:httpx:HTTP Request: POST http://localhost:11434/api/chat \"HTTP/1.1 200 OK\"\n",
      "HTTP Request: POST http://localhost:11434/api/chat \"HTTP/1.1 200 OK\"\n",
      "**********\n",
      "Trace: query\n",
      "**********\n",
      "\n",
      "--- Prompt Final Enviado al LLM (Capturado por Callback) ---\n",
      "Role: MessageRole.USER\n",
      "Content: Eres un asistente legal experto en identificar cláusulas abusivas en Términos de Servicio.\n",
      "Analiza la siguiente Cláusula Nueva basándote en el Contexto Proporcionado (cláusulas similares y sus etiquetas) y determina a cuáles de las siguientes categorías de cláusulas abusivas pertenece.\n",
      "Responde ÚNICAMENTE con los nombres de las categorías de la lista que apliquen, separados por comas. Si ninguna aplica, responde 'Ninguna'.\n",
      "\n",
      "Categorías Posibles:\n",
      "- Limitation of liability\n",
      "- Unilateral termination\n",
      "- Unilateral change\n",
      "- Content removal\n",
      "- Contract by using\n",
      "- Choice of law\n",
      "- Jurisdiction\n",
      "- Arbitration\n",
      "\n",
      "Contexto Proporcionado (Cláusulas Similares de la Base de Conocimiento y sus Etiquetas):\n",
      "---------------------\n",
      "clause_id: row_7127\n",
      "labels_indices: [1]\n",
      "labels_names: Unilateral termination\n",
      "\n",
      "vimeo reserves the right to deny subscriptions , renewals , and other purchases for any reason .\n",
      "\n",
      "clause_id: row_3786\n",
      "labels_indices: [3, 1]\n",
      "labels_names: Content removal, Unilateral termination\n",
      "\n",
      "the company may terminate , suspend , warn or take other appropriate actions against users for posting objectionable content to the service , including , but not limited to , the removal of all user content uploaded to the service by a user .\n",
      "\n",
      "clause_id: row_4476\n",
      "labels_indices: [3, 1]\n",
      "labels_names: Content removal, Unilateral termination\n",
      "\n",
      "if we determine that you are violating the community guidelines or otherwise have breached the terms , we may take actions to address the issue , including , but not limited to , terminating your right to use the services , removing your user-generated content , taking legal action against you ( in which case you agree that we may recover reasonable costs and attorneys ' fees ) or disclosing information to law enforcement authorities .\n",
      "---------------------\n",
      "Cláusula Nueva a Clasificar:\n",
      "amazon reserves the right to refuse service , terminate accounts , terminate your rights to use amazon services , remove or edit content , or cancel orders in its sole discretion.\n",
      "\n",
      "Etiquetas Identificadas (separadas por comas o 'Ninguna'):\n",
      "\n",
      "--- Respuesta del LLM (Clasificación Sugerida) ---\n",
      "<think>\n",
      "Okay, let's tackle this query. The user wants me to determine which categories of abusive clauses the given new clause falls into, based on the provided context. The categories are Limitation of liability, Unilateral termination, Unilateral change, Content removal, Contract by using, Choice of law, Jurisdiction, Arbitration.\n",
      "\n",
      "First, I need to look at the new clause: \"amazon reserves the right to refuse service, terminate accounts, terminate your rights to use amazon services, remove or edit content, or cancel orders in its sole discretion.\" \n",
      "\n",
      "Comparing this with the context provided. The context has several clauses with similar structures. For example, clause_id row_7127 mentions \"unilateral termination\" and \"denial of subscriptions.\" Then row_3786 and row_4476 also have \"Unilateral termination\" and \"Content removal.\" \n",
      "\n",
      "The key here is to see if the new clause is about termination, content removal, or other actions. The new clause mentions terminating accounts, terminating rights to use services, removing or editing content, and canceling orders. \n",
      "\n",
      "Looking at the categories: Unilateral termination is one of the options. The new clause clearly states that Amazon can terminate accounts, which is a form of unilateral termination. Also, removing content is another action under Content removal. However, the question is whether the new clause is categorized under these specific categories. \n",
      "\n",
      "The user's instruction says to respond with the categories that apply. The new clause has both termination (accounts, rights to use) and content removal (remove or edit content). But the context's examples have \"Unilateral termination\" and \"Content removal\" as separate labels. \n",
      "\n",
      "Wait, the user's context has clause_id row_7127 with \"Unilateral termination\" and row_3786 and row_4476 with \"Content removal\" and \"Unilateral termination.\" The new clause mentions both termination and content removal. \n",
      "\n",
      "But the question is whether the new clause is categorized under these. Since the new clause includes both termination and content removal, but the options are to list the categories. The user's example shows that if a clause has multiple labels, they are all included. However, the user's instruction says to list the categories that apply. \n",
      "\n",
      "Looking at the provided categories, \"Unilateral termination\" and \"Content removal\" are both possible. The new clause includes both termination (accounts, rights) and content removal (remove or edit content). Therefore, the correct categories would be Unilateral termination and Content removal. \n",
      "\n",
      "But wait, the user's example in the context shows that for clause_id row_7127, the label is \"Unilateral termination\" and for row_3786 and row_4476, they have \"Content removal\" and \"Unilateral termination.\" So, the new clause has both termination and content removal. Therefore, the answer should include both categories. \n",
      "\n",
      "But the user's instruction says to list the categories that apply. The answer should be the names of the categories. So, the answer would be \"Unilateral termination, Content removal\".\n",
      "</think>\n",
      "\n",
      "Unilateral termination, Content removal\n",
      "\n",
      "--- Nodos Fuente Utilizados para la Clasificación (Contexto) ---\n",
      "Nodo 1 (Score de similitud: 0.4709):\n",
      "Texto: vimeo reserves the right to deny subscriptions , renewals , and other purchases for any reason ....\n",
      "Metadatos originales: {'clause_id': 'row_7127', 'labels_indices': '[1]', 'labels_names': 'Unilateral termination'}\n",
      "--------------------\n",
      "Nodo 2 (Score de similitud: 0.4540):\n",
      "Texto: the company may terminate , suspend , warn or take other appropriate actions against users for posting objectionable content to the service , includin...\n",
      "Metadatos originales: {'clause_id': 'row_3786', 'labels_indices': '[3, 1]', 'labels_names': 'Content removal, Unilateral termination'}\n",
      "--------------------\n",
      "Nodo 3 (Score de similitud: 0.4482):\n",
      "Texto: if we determine that you are violating the community guidelines or otherwise have breached the terms , we may take actions to address the issue , incl...\n",
      "Metadatos originales: {'clause_id': 'row_4476', 'labels_indices': '[3, 1]', 'labels_names': 'Content removal, Unilateral termination'}\n",
      "--------------------\n",
      "\n",
      "--- Fin del Ejemplo RAG para Clasificación con LlamaIndex ---\n"
     ]
    }
   ],
   "execution_count": 8
  },
  {
   "metadata": {
    "ExecuteTime": {
     "end_time": "2025-05-28T17:37:11.078293Z",
     "start_time": "2025-05-28T17:37:11.072821Z"
    }
   },
   "cell_type": "code",
   "source": [
    "# --- Funciones Auxiliares ---\n",
    "import re\n",
    "\n",
    "def parse_space_separated_label_list(label_str):\n",
    "    if pd.isna(label_str) or not isinstance(label_str, str):\n",
    "        return []\n",
    "    cleaned_str = label_str.strip().strip('[]').strip()\n",
    "    if not cleaned_str:\n",
    "        return []\n",
    "    try:\n",
    "        return [int(num_str) for num_str in cleaned_str.split()]\n",
    "    except ValueError:\n",
    "        return []\n",
    "\n",
    "def extract_reasoning_and_prediction(llm_full_response: str):\n",
    "    \"\"\"\n",
    "    Extrae el razonamiento (dentro de <think></think>) y la predicción final.\n",
    "    \"\"\"\n",
    "    reasoning = None\n",
    "    prediction_str = llm_full_response # Por defecto, toda la respuesta es la predicción\n",
    "\n",
    "    think_match = re.search(r\"<think>(.*?)</think>(.*)\", llm_full_response, re.DOTALL | re.IGNORECASE)\n",
    "\n",
    "    if think_match:\n",
    "        reasoning = think_match.group(1).strip()\n",
    "        prediction_str = think_match.group(2).strip()\n",
    "\n",
    "    # Si después de quitar el bloque <think>, la predicción está vacía,\n",
    "    # o si no hubo bloque <think> pero la respuesta es solo \"Ninguna\" u otra etiqueta,\n",
    "    # la tomamos como la predicción.\n",
    "    # Si la predicción_str sigue conteniendo saltos de línea inesperados o texto residual,\n",
    "    # podríamos necesitar una lógica más robusta para aislar la línea final de etiquetas.\n",
    "    # Por ahora, asumimos que la predicción está justo después de </think> o es toda la respuesta.\n",
    "\n",
    "    # Un intento simple de tomar la última línea no vacía como la predicción si hay múltiples líneas después de </think>\n",
    "    potential_prediction_lines = [line.strip() for line in prediction_str.split('\\n') if line.strip()]\n",
    "    if potential_prediction_lines:\n",
    "        prediction_str = potential_prediction_lines[-1]\n",
    "\n",
    "    return reasoning, prediction_str\n",
    "\n",
    "\n",
    "def parse_llm_prediction_to_indices(prediction_final_str: str, label_names_ordered: list) -> list:\n",
    "    \"\"\"Convierte la cadena de predicción final del LLM a una lista de índices.\"\"\"\n",
    "    if prediction_final_str.strip().lower() == 'ninguna':\n",
    "        return []\n",
    "\n",
    "    predicted_label_names = [name.strip().lower() for name in prediction_final_str.split(',')]\n",
    "    indices = []\n",
    "    for i, official_name in enumerate(label_names_ordered):\n",
    "        if official_name.lower() in predicted_label_names:\n",
    "            indices.append(i)\n",
    "    return sorted(list(set(indices)))\n",
    "\n",
    "def convert_indices_to_multihot(label_indices: list, num_total_labels: int) -> list:\n",
    "    \"\"\"Convierte una lista de índices a un vector multi-hot.\"\"\"\n",
    "    multihot = [0] * num_total_labels\n",
    "    for idx in label_indices:\n",
    "        if 0 <= idx < num_total_labels:\n",
    "            multihot[idx] = 1\n",
    "    return multihot"
   ],
   "id": "cdeecb6e9b5f2102",
   "outputs": [],
   "execution_count": 9
  },
  {
   "metadata": {
    "ExecuteTime": {
     "end_time": "2025-05-28T17:37:12.729001Z",
     "start_time": "2025-05-28T17:37:12.717086Z"
    }
   },
   "cell_type": "code",
   "source": [
    "from tqdm import tqdm\n",
    "import pandas as pd\n",
    "NUM_LABELS = len(label_names_ordered)\n",
    "# --- 4. Cargar y Preparar el Dataset de Test ---\n",
    "output_dir = \"../unfair_tos_data\"\n",
    "test_file_path = os.path.join(output_dir, \"unfair_tos_test.csv\")\n",
    "\n",
    "if not os.path.exists(test_file_path):\n",
    "    print(f\"Error: El archivo de test '{test_file_path}' no fue encontrado.\")\n",
    "    exit()\n",
    "\n",
    "print(f\"\\nCargando el archivo de test: {test_file_path}...\")\n",
    "df_test = pd.read_csv(test_file_path)\n",
    "df_test['true_labels_indices'] = df_test['labels'].apply(parse_space_separated_label_list)\n",
    "print(f\"Archivo de test cargado. Total de filas: {len(df_test)}\")\n",
    "\n",
    "# Seleccionar las primeras N muestras para clasificar\n",
    "num_muestras_a_clasificar = 3200\n",
    "df_test_sample = df_test.head(num_muestras_a_clasificar).copy() # Usar .copy() para evitar SettingWithCopyWarning\n",
    "print(f\"Se clasificarán las primeras {len(df_test_sample)} muestras del archivo de test.\")"
   ],
   "id": "58f2da601a8dab41",
   "outputs": [
    {
     "name": "stdout",
     "output_type": "stream",
     "text": [
      "\n",
      "Cargando el archivo de test: unfair_tos_data/unfair_tos_test.csv...\n",
      "Archivo de test cargado. Total de filas: 1607\n",
      "Se clasificarán las primeras 1607 muestras del archivo de test.\n"
     ]
    }
   ],
   "execution_count": 10
  },
  {
   "metadata": {
    "ExecuteTime": {
     "end_time": "2025-05-28T17:37:14.343552Z",
     "start_time": "2025-05-28T17:37:14.334352Z"
    }
   },
   "cell_type": "code",
   "source": "df_test_sample",
   "id": "c0aaffdd670653da",
   "outputs": [
    {
     "data": {
      "text/plain": [
       "                                                   text labels  \\\n",
       "0                  last updated date : may 15 , 2017 \\n     []   \n",
       "1     academia , inc. ( `` academia.edu '' or `` we ...     []   \n",
       "2     please read carefully the following terms and ...     []   \n",
       "3     these terms govern your access to and use of t...     []   \n",
       "4     arbitration notice : unless you opt out of arb...    [7]   \n",
       "...                                                 ...    ...   \n",
       "1602  code § 1789.3 , you may report complaints to t...     []   \n",
       "1603  pursuant to 815 ilcs 414/1 .5 ( c ) , for tran...     []   \n",
       "1604  the aaa 's rules are available at www.adr.org ...     []   \n",
       "1605  such complaints shall be decided by an indepen...     []   \n",
       "1606  buyers and sellers further agree to submit to ...    [6]   \n",
       "\n",
       "     true_labels_indices  \n",
       "0                     []  \n",
       "1                     []  \n",
       "2                     []  \n",
       "3                     []  \n",
       "4                    [7]  \n",
       "...                  ...  \n",
       "1602                  []  \n",
       "1603                  []  \n",
       "1604                  []  \n",
       "1605                  []  \n",
       "1606                 [6]  \n",
       "\n",
       "[1607 rows x 3 columns]"
      ],
      "text/html": [
       "<div>\n",
       "<style scoped>\n",
       "    .dataframe tbody tr th:only-of-type {\n",
       "        vertical-align: middle;\n",
       "    }\n",
       "\n",
       "    .dataframe tbody tr th {\n",
       "        vertical-align: top;\n",
       "    }\n",
       "\n",
       "    .dataframe thead th {\n",
       "        text-align: right;\n",
       "    }\n",
       "</style>\n",
       "<table border=\"1\" class=\"dataframe\">\n",
       "  <thead>\n",
       "    <tr style=\"text-align: right;\">\n",
       "      <th></th>\n",
       "      <th>text</th>\n",
       "      <th>labels</th>\n",
       "      <th>true_labels_indices</th>\n",
       "    </tr>\n",
       "  </thead>\n",
       "  <tbody>\n",
       "    <tr>\n",
       "      <th>0</th>\n",
       "      <td>last updated date : may 15 , 2017 \\n</td>\n",
       "      <td>[]</td>\n",
       "      <td>[]</td>\n",
       "    </tr>\n",
       "    <tr>\n",
       "      <th>1</th>\n",
       "      <td>academia , inc. ( `` academia.edu '' or `` we ...</td>\n",
       "      <td>[]</td>\n",
       "      <td>[]</td>\n",
       "    </tr>\n",
       "    <tr>\n",
       "      <th>2</th>\n",
       "      <td>please read carefully the following terms and ...</td>\n",
       "      <td>[]</td>\n",
       "      <td>[]</td>\n",
       "    </tr>\n",
       "    <tr>\n",
       "      <th>3</th>\n",
       "      <td>these terms govern your access to and use of t...</td>\n",
       "      <td>[]</td>\n",
       "      <td>[]</td>\n",
       "    </tr>\n",
       "    <tr>\n",
       "      <th>4</th>\n",
       "      <td>arbitration notice : unless you opt out of arb...</td>\n",
       "      <td>[7]</td>\n",
       "      <td>[7]</td>\n",
       "    </tr>\n",
       "    <tr>\n",
       "      <th>...</th>\n",
       "      <td>...</td>\n",
       "      <td>...</td>\n",
       "      <td>...</td>\n",
       "    </tr>\n",
       "    <tr>\n",
       "      <th>1602</th>\n",
       "      <td>code § 1789.3 , you may report complaints to t...</td>\n",
       "      <td>[]</td>\n",
       "      <td>[]</td>\n",
       "    </tr>\n",
       "    <tr>\n",
       "      <th>1603</th>\n",
       "      <td>pursuant to 815 ilcs 414/1 .5 ( c ) , for tran...</td>\n",
       "      <td>[]</td>\n",
       "      <td>[]</td>\n",
       "    </tr>\n",
       "    <tr>\n",
       "      <th>1604</th>\n",
       "      <td>the aaa 's rules are available at www.adr.org ...</td>\n",
       "      <td>[]</td>\n",
       "      <td>[]</td>\n",
       "    </tr>\n",
       "    <tr>\n",
       "      <th>1605</th>\n",
       "      <td>such complaints shall be decided by an indepen...</td>\n",
       "      <td>[]</td>\n",
       "      <td>[]</td>\n",
       "    </tr>\n",
       "    <tr>\n",
       "      <th>1606</th>\n",
       "      <td>buyers and sellers further agree to submit to ...</td>\n",
       "      <td>[6]</td>\n",
       "      <td>[6]</td>\n",
       "    </tr>\n",
       "  </tbody>\n",
       "</table>\n",
       "<p>1607 rows × 3 columns</p>\n",
       "</div>"
      ]
     },
     "execution_count": 11,
     "metadata": {},
     "output_type": "execute_result"
    }
   ],
   "execution_count": 11
  },
  {
   "metadata": {
    "jupyter": {
     "is_executing": true
    },
    "ExecuteTime": {
     "start_time": "2025-05-28T17:37:15.998867Z"
    }
   },
   "cell_type": "code",
   "source": [
    "print(\"\\nIniciando clasificación RAG para las muestras de test...\")\n",
    "llm_full_responses = []\n",
    "llm_reasonings = []\n",
    "predicted_final_labels_str = []\n",
    "predicted_indices_list = []\n",
    "true_indices_list = []\n",
    "\n",
    "for index_df, row in tqdm(df_test_sample.iterrows(), total=len(df_test_sample), desc=\"Clasificando\"):\n",
    "    clausula_a_clasificar = str(row['text'])\n",
    "    true_labels_for_sample = row['true_labels_indices']\n",
    "    true_indices_list.append(true_labels_for_sample)\n",
    "\n",
    "    try:\n",
    "        respuesta_rag = query_engine.query(clausula_a_clasificar)\n",
    "        full_response_str = respuesta_rag.response.strip()\n",
    "        llm_full_responses.append(full_response_str) # Guardar la respuesta completa\n",
    "\n",
    "        # Extraer razonamiento y predicción final\n",
    "        reasoning, prediction_final_str = extract_reasoning_and_prediction(full_response_str)\n",
    "\n",
    "        llm_reasonings.append(reasoning)\n",
    "        predicted_final_labels_str.append(prediction_final_str)\n",
    "\n",
    "        predicted_label_indices = parse_llm_prediction_to_indices(prediction_final_str, label_names_ordered)\n",
    "        predicted_indices_list.append(predicted_label_indices)\n",
    "\n",
    "    except Exception as e:\n",
    "        print(f\"Error clasificando la cláusula ID {row.get('id', index_df)}: {e}\")\n",
    "        llm_full_responses.append(\"ERROR_EN_GENERACION\")\n",
    "        llm_reasonings.append(\"ERROR_EN_GENERACION\")\n",
    "        predicted_final_labels_str.append(\"ERROR_EN_GENERACION\")\n",
    "        predicted_indices_list.append([])\n",
    "\n",
    "df_test_sample['llm_full_response'] = llm_full_responses\n",
    "df_test_sample['llm_reasoning'] = llm_reasonings\n",
    "df_test_sample['predicted_final_labels_str'] = predicted_final_labels_str # Solo la parte de etiquetas\n",
    "df_test_sample['predicted_labels_indices'] = predicted_indices_list\n",
    "\n",
    "print(\"Clasificación RAG completada.\")"
   ],
   "id": "ac2582ef7370242e",
   "outputs": [
    {
     "name": "stdout",
     "output_type": "stream",
     "text": [
      "\n",
      "Iniciando clasificación RAG para las muestras de test...\n"
     ]
    },
    {
     "name": "stderr",
     "output_type": "stream",
     "text": [
      "Clasificando:   0%|          | 0/1607 [00:00<?, ?it/s]"
     ]
    },
    {
     "name": "stdout",
     "output_type": "stream",
     "text": [
      "INFO:httpx:HTTP Request: POST http://localhost:11434/api/chat \"HTTP/1.1 200 OK\"\n",
      "HTTP Request: POST http://localhost:11434/api/chat \"HTTP/1.1 200 OK\"\n",
      "**********\n",
      "Trace: query\n",
      "**********\n"
     ]
    },
    {
     "name": "stderr",
     "output_type": "stream",
     "text": [
      "Clasificando:   0%|          | 1/1607 [00:09<4:17:35,  9.62s/it]"
     ]
    },
    {
     "name": "stdout",
     "output_type": "stream",
     "text": [
      "INFO:httpx:HTTP Request: POST http://localhost:11434/api/chat \"HTTP/1.1 200 OK\"\n",
      "HTTP Request: POST http://localhost:11434/api/chat \"HTTP/1.1 200 OK\"\n",
      "**********\n",
      "Trace: query\n",
      "**********\n"
     ]
    },
    {
     "name": "stderr",
     "output_type": "stream",
     "text": [
      "Clasificando:   0%|          | 2/1607 [00:18<4:00:52,  9.00s/it]"
     ]
    },
    {
     "name": "stdout",
     "output_type": "stream",
     "text": [
      "INFO:httpx:HTTP Request: POST http://localhost:11434/api/chat \"HTTP/1.1 200 OK\"\n",
      "HTTP Request: POST http://localhost:11434/api/chat \"HTTP/1.1 200 OK\"\n",
      "**********\n",
      "Trace: query\n",
      "**********\n"
     ]
    },
    {
     "name": "stderr",
     "output_type": "stream",
     "text": [
      "Clasificando:   0%|          | 3/1607 [00:35<5:39:18, 12.69s/it]"
     ]
    },
    {
     "name": "stdout",
     "output_type": "stream",
     "text": [
      "INFO:httpx:HTTP Request: POST http://localhost:11434/api/chat \"HTTP/1.1 200 OK\"\n",
      "HTTP Request: POST http://localhost:11434/api/chat \"HTTP/1.1 200 OK\"\n",
      "**********\n",
      "Trace: query\n",
      "**********\n"
     ]
    },
    {
     "name": "stderr",
     "output_type": "stream",
     "text": [
      "Clasificando:   0%|          | 4/1607 [00:47<5:30:55, 12.39s/it]"
     ]
    },
    {
     "name": "stdout",
     "output_type": "stream",
     "text": [
      "INFO:httpx:HTTP Request: POST http://localhost:11434/api/chat \"HTTP/1.1 200 OK\"\n",
      "HTTP Request: POST http://localhost:11434/api/chat \"HTTP/1.1 200 OK\"\n",
      "**********\n",
      "Trace: query\n",
      "**********\n"
     ]
    },
    {
     "name": "stderr",
     "output_type": "stream",
     "text": [
      "Clasificando:   0%|          | 5/1607 [01:00<5:35:52, 12.58s/it]"
     ]
    },
    {
     "name": "stdout",
     "output_type": "stream",
     "text": [
      "INFO:httpx:HTTP Request: POST http://localhost:11434/api/chat \"HTTP/1.1 200 OK\"\n",
      "HTTP Request: POST http://localhost:11434/api/chat \"HTTP/1.1 200 OK\"\n",
      "**********\n",
      "Trace: query\n",
      "**********\n"
     ]
    },
    {
     "name": "stderr",
     "output_type": "stream",
     "text": [
      "Clasificando:   0%|          | 6/1607 [01:11<5:23:56, 12.14s/it]"
     ]
    },
    {
     "name": "stdout",
     "output_type": "stream",
     "text": [
      "INFO:httpx:HTTP Request: POST http://localhost:11434/api/chat \"HTTP/1.1 200 OK\"\n",
      "HTTP Request: POST http://localhost:11434/api/chat \"HTTP/1.1 200 OK\"\n",
      "**********\n",
      "Trace: query\n",
      "**********\n"
     ]
    },
    {
     "name": "stderr",
     "output_type": "stream",
     "text": [
      "Clasificando:   0%|          | 7/1607 [01:24<5:32:49, 12.48s/it]"
     ]
    },
    {
     "name": "stdout",
     "output_type": "stream",
     "text": [
      "INFO:httpx:HTTP Request: POST http://localhost:11434/api/chat \"HTTP/1.1 200 OK\"\n",
      "HTTP Request: POST http://localhost:11434/api/chat \"HTTP/1.1 200 OK\"\n",
      "**********\n",
      "Trace: query\n",
      "**********\n"
     ]
    },
    {
     "name": "stderr",
     "output_type": "stream",
     "text": [
      "Clasificando:   0%|          | 8/1607 [01:50<7:30:36, 16.91s/it]"
     ]
    },
    {
     "name": "stdout",
     "output_type": "stream",
     "text": [
      "INFO:httpx:HTTP Request: POST http://localhost:11434/api/chat \"HTTP/1.1 200 OK\"\n",
      "HTTP Request: POST http://localhost:11434/api/chat \"HTTP/1.1 200 OK\"\n",
      "**********\n",
      "Trace: query\n",
      "**********\n"
     ]
    },
    {
     "name": "stderr",
     "output_type": "stream",
     "text": [
      "Clasificando:   1%|          | 9/1607 [02:12<8:10:50, 18.43s/it]"
     ]
    },
    {
     "name": "stdout",
     "output_type": "stream",
     "text": [
      "INFO:httpx:HTTP Request: POST http://localhost:11434/api/chat \"HTTP/1.1 200 OK\"\n",
      "HTTP Request: POST http://localhost:11434/api/chat \"HTTP/1.1 200 OK\"\n",
      "**********\n",
      "Trace: query\n",
      "**********\n"
     ]
    },
    {
     "name": "stderr",
     "output_type": "stream",
     "text": [
      "Clasificando:   1%|          | 10/1607 [02:25<7:20:03, 16.53s/it]"
     ]
    },
    {
     "name": "stdout",
     "output_type": "stream",
     "text": [
      "INFO:httpx:HTTP Request: POST http://localhost:11434/api/chat \"HTTP/1.1 200 OK\"\n",
      "HTTP Request: POST http://localhost:11434/api/chat \"HTTP/1.1 200 OK\"\n",
      "**********\n",
      "Trace: query\n",
      "**********\n"
     ]
    },
    {
     "name": "stderr",
     "output_type": "stream",
     "text": [
      "Clasificando:   1%|          | 11/1607 [02:41<7:21:06, 16.58s/it]"
     ]
    },
    {
     "name": "stdout",
     "output_type": "stream",
     "text": [
      "INFO:httpx:HTTP Request: POST http://localhost:11434/api/chat \"HTTP/1.1 200 OK\"\n",
      "HTTP Request: POST http://localhost:11434/api/chat \"HTTP/1.1 200 OK\"\n",
      "**********\n",
      "Trace: query\n",
      "**********\n"
     ]
    },
    {
     "name": "stderr",
     "output_type": "stream",
     "text": [
      "Clasificando:   1%|          | 12/1607 [02:57<7:17:20, 16.45s/it]"
     ]
    },
    {
     "name": "stdout",
     "output_type": "stream",
     "text": [
      "INFO:httpx:HTTP Request: POST http://localhost:11434/api/chat \"HTTP/1.1 200 OK\"\n",
      "HTTP Request: POST http://localhost:11434/api/chat \"HTTP/1.1 200 OK\"\n",
      "**********\n",
      "Trace: query\n",
      "**********\n"
     ]
    },
    {
     "name": "stderr",
     "output_type": "stream",
     "text": [
      "Clasificando:   1%|          | 13/1607 [03:05<6:05:36, 13.76s/it]"
     ]
    },
    {
     "name": "stdout",
     "output_type": "stream",
     "text": [
      "INFO:httpx:HTTP Request: POST http://localhost:11434/api/chat \"HTTP/1.1 200 OK\"\n",
      "HTTP Request: POST http://localhost:11434/api/chat \"HTTP/1.1 200 OK\"\n",
      "**********\n",
      "Trace: query\n",
      "**********\n"
     ]
    },
    {
     "name": "stderr",
     "output_type": "stream",
     "text": [
      "Clasificando:   1%|          | 14/1607 [03:14<5:30:59, 12.47s/it]"
     ]
    },
    {
     "name": "stdout",
     "output_type": "stream",
     "text": [
      "INFO:httpx:HTTP Request: POST http://localhost:11434/api/chat \"HTTP/1.1 200 OK\"\n",
      "HTTP Request: POST http://localhost:11434/api/chat \"HTTP/1.1 200 OK\"\n",
      "**********\n",
      "Trace: query\n",
      "**********\n"
     ]
    },
    {
     "name": "stderr",
     "output_type": "stream",
     "text": [
      "Clasificando:   1%|          | 15/1607 [03:32<6:15:20, 14.15s/it]"
     ]
    },
    {
     "name": "stdout",
     "output_type": "stream",
     "text": [
      "INFO:httpx:HTTP Request: POST http://localhost:11434/api/chat \"HTTP/1.1 200 OK\"\n",
      "HTTP Request: POST http://localhost:11434/api/chat \"HTTP/1.1 200 OK\"\n",
      "**********\n",
      "Trace: query\n",
      "**********\n"
     ]
    },
    {
     "name": "stderr",
     "output_type": "stream",
     "text": [
      "Clasificando:   1%|          | 16/1607 [03:44<5:58:10, 13.51s/it]"
     ]
    },
    {
     "name": "stdout",
     "output_type": "stream",
     "text": [
      "INFO:httpx:HTTP Request: POST http://localhost:11434/api/chat \"HTTP/1.1 200 OK\"\n",
      "HTTP Request: POST http://localhost:11434/api/chat \"HTTP/1.1 200 OK\"\n",
      "**********\n",
      "Trace: query\n",
      "**********\n"
     ]
    },
    {
     "name": "stderr",
     "output_type": "stream",
     "text": [
      "Clasificando:   1%|          | 17/1607 [03:54<5:28:42, 12.40s/it]"
     ]
    },
    {
     "name": "stdout",
     "output_type": "stream",
     "text": [
      "INFO:httpx:HTTP Request: POST http://localhost:11434/api/chat \"HTTP/1.1 200 OK\"\n",
      "HTTP Request: POST http://localhost:11434/api/chat \"HTTP/1.1 200 OK\"\n",
      "**********\n",
      "Trace: query\n",
      "**********\n"
     ]
    },
    {
     "name": "stderr",
     "output_type": "stream",
     "text": [
      "Clasificando:   1%|          | 18/1607 [04:10<5:50:48, 13.25s/it]"
     ]
    },
    {
     "name": "stdout",
     "output_type": "stream",
     "text": [
      "INFO:httpx:HTTP Request: POST http://localhost:11434/api/chat \"HTTP/1.1 200 OK\"\n",
      "HTTP Request: POST http://localhost:11434/api/chat \"HTTP/1.1 200 OK\"\n",
      "**********\n",
      "Trace: query\n",
      "**********\n"
     ]
    },
    {
     "name": "stderr",
     "output_type": "stream",
     "text": [
      "Clasificando:   1%|          | 19/1607 [04:21<5:33:10, 12.59s/it]"
     ]
    },
    {
     "name": "stdout",
     "output_type": "stream",
     "text": [
      "INFO:httpx:HTTP Request: POST http://localhost:11434/api/chat \"HTTP/1.1 200 OK\"\n",
      "HTTP Request: POST http://localhost:11434/api/chat \"HTTP/1.1 200 OK\"\n",
      "**********\n",
      "Trace: query\n",
      "**********\n"
     ]
    },
    {
     "name": "stderr",
     "output_type": "stream",
     "text": [
      "Clasificando:   1%|          | 20/1607 [04:36<5:59:18, 13.58s/it]"
     ]
    },
    {
     "name": "stdout",
     "output_type": "stream",
     "text": [
      "INFO:httpx:HTTP Request: POST http://localhost:11434/api/chat \"HTTP/1.1 200 OK\"\n",
      "HTTP Request: POST http://localhost:11434/api/chat \"HTTP/1.1 200 OK\"\n",
      "**********\n",
      "Trace: query\n",
      "**********\n"
     ]
    },
    {
     "name": "stderr",
     "output_type": "stream",
     "text": [
      "Clasificando:   1%|▏         | 21/1607 [04:51<6:03:09, 13.74s/it]"
     ]
    },
    {
     "name": "stdout",
     "output_type": "stream",
     "text": [
      "INFO:httpx:HTTP Request: POST http://localhost:11434/api/chat \"HTTP/1.1 200 OK\"\n",
      "HTTP Request: POST http://localhost:11434/api/chat \"HTTP/1.1 200 OK\"\n",
      "**********\n",
      "Trace: query\n",
      "**********\n"
     ]
    },
    {
     "name": "stderr",
     "output_type": "stream",
     "text": [
      "Clasificando:   1%|▏         | 22/1607 [05:22<8:19:49, 18.92s/it]"
     ]
    },
    {
     "name": "stdout",
     "output_type": "stream",
     "text": [
      "INFO:httpx:HTTP Request: POST http://localhost:11434/api/chat \"HTTP/1.1 200 OK\"\n",
      "HTTP Request: POST http://localhost:11434/api/chat \"HTTP/1.1 200 OK\"\n",
      "**********\n",
      "Trace: query\n",
      "**********\n"
     ]
    },
    {
     "name": "stderr",
     "output_type": "stream",
     "text": [
      "Clasificando:   1%|▏         | 23/1607 [05:38<7:56:15, 18.04s/it]"
     ]
    },
    {
     "name": "stdout",
     "output_type": "stream",
     "text": [
      "INFO:httpx:HTTP Request: POST http://localhost:11434/api/chat \"HTTP/1.1 200 OK\"\n",
      "HTTP Request: POST http://localhost:11434/api/chat \"HTTP/1.1 200 OK\"\n",
      "**********\n",
      "Trace: query\n",
      "**********\n"
     ]
    },
    {
     "name": "stderr",
     "output_type": "stream",
     "text": [
      "Clasificando:   1%|▏         | 24/1607 [05:52<7:30:23, 17.07s/it]"
     ]
    },
    {
     "name": "stdout",
     "output_type": "stream",
     "text": [
      "INFO:httpx:HTTP Request: POST http://localhost:11434/api/chat \"HTTP/1.1 200 OK\"\n",
      "HTTP Request: POST http://localhost:11434/api/chat \"HTTP/1.1 200 OK\"\n",
      "**********\n",
      "Trace: query\n",
      "**********\n"
     ]
    },
    {
     "name": "stderr",
     "output_type": "stream",
     "text": [
      "Clasificando:   2%|▏         | 25/1607 [06:15<8:15:52, 18.81s/it]"
     ]
    },
    {
     "name": "stdout",
     "output_type": "stream",
     "text": [
      "INFO:httpx:HTTP Request: POST http://localhost:11434/api/chat \"HTTP/1.1 200 OK\"\n",
      "HTTP Request: POST http://localhost:11434/api/chat \"HTTP/1.1 200 OK\"\n",
      "**********\n",
      "Trace: query\n",
      "**********\n"
     ]
    },
    {
     "name": "stderr",
     "output_type": "stream",
     "text": [
      "Clasificando:   2%|▏         | 26/1607 [06:34<8:15:01, 18.79s/it]"
     ]
    },
    {
     "name": "stdout",
     "output_type": "stream",
     "text": [
      "INFO:httpx:HTTP Request: POST http://localhost:11434/api/chat \"HTTP/1.1 200 OK\"\n",
      "HTTP Request: POST http://localhost:11434/api/chat \"HTTP/1.1 200 OK\"\n",
      "**********\n",
      "Trace: query\n",
      "**********\n"
     ]
    },
    {
     "name": "stderr",
     "output_type": "stream",
     "text": [
      "Clasificando:   2%|▏         | 27/1607 [06:48<7:33:05, 17.21s/it]"
     ]
    },
    {
     "name": "stdout",
     "output_type": "stream",
     "text": [
      "INFO:httpx:HTTP Request: POST http://localhost:11434/api/chat \"HTTP/1.1 200 OK\"\n",
      "HTTP Request: POST http://localhost:11434/api/chat \"HTTP/1.1 200 OK\"\n",
      "**********\n",
      "Trace: query\n",
      "**********\n"
     ]
    },
    {
     "name": "stderr",
     "output_type": "stream",
     "text": [
      "Clasificando:   2%|▏         | 28/1607 [07:02<7:09:26, 16.32s/it]"
     ]
    },
    {
     "name": "stdout",
     "output_type": "stream",
     "text": [
      "INFO:httpx:HTTP Request: POST http://localhost:11434/api/chat \"HTTP/1.1 200 OK\"\n",
      "HTTP Request: POST http://localhost:11434/api/chat \"HTTP/1.1 200 OK\"\n",
      "**********\n",
      "Trace: query\n",
      "**********\n"
     ]
    },
    {
     "name": "stderr",
     "output_type": "stream",
     "text": [
      "Clasificando:   2%|▏         | 29/1607 [07:17<7:03:25, 16.10s/it]"
     ]
    },
    {
     "name": "stdout",
     "output_type": "stream",
     "text": [
      "INFO:httpx:HTTP Request: POST http://localhost:11434/api/chat \"HTTP/1.1 200 OK\"\n",
      "HTTP Request: POST http://localhost:11434/api/chat \"HTTP/1.1 200 OK\"\n",
      "**********\n",
      "Trace: query\n",
      "**********\n"
     ]
    },
    {
     "name": "stderr",
     "output_type": "stream",
     "text": [
      "Clasificando:   2%|▏         | 30/1607 [07:29<6:26:54, 14.72s/it]"
     ]
    },
    {
     "name": "stdout",
     "output_type": "stream",
     "text": [
      "INFO:httpx:HTTP Request: POST http://localhost:11434/api/chat \"HTTP/1.1 200 OK\"\n",
      "HTTP Request: POST http://localhost:11434/api/chat \"HTTP/1.1 200 OK\"\n",
      "**********\n",
      "Trace: query\n",
      "**********\n"
     ]
    },
    {
     "name": "stderr",
     "output_type": "stream",
     "text": [
      "Clasificando:   2%|▏         | 31/1607 [07:40<5:59:32, 13.69s/it]"
     ]
    },
    {
     "name": "stdout",
     "output_type": "stream",
     "text": [
      "INFO:httpx:HTTP Request: POST http://localhost:11434/api/chat \"HTTP/1.1 200 OK\"\n",
      "HTTP Request: POST http://localhost:11434/api/chat \"HTTP/1.1 200 OK\"\n",
      "**********\n",
      "Trace: query\n",
      "**********\n"
     ]
    },
    {
     "name": "stderr",
     "output_type": "stream",
     "text": [
      "Clasificando:   2%|▏         | 32/1607 [07:53<5:49:52, 13.33s/it]"
     ]
    },
    {
     "name": "stdout",
     "output_type": "stream",
     "text": [
      "INFO:httpx:HTTP Request: POST http://localhost:11434/api/chat \"HTTP/1.1 200 OK\"\n",
      "HTTP Request: POST http://localhost:11434/api/chat \"HTTP/1.1 200 OK\"\n",
      "**********\n",
      "Trace: query\n",
      "**********\n"
     ]
    },
    {
     "name": "stderr",
     "output_type": "stream",
     "text": [
      "Clasificando:   2%|▏         | 33/1607 [08:03<5:25:41, 12.42s/it]"
     ]
    },
    {
     "name": "stdout",
     "output_type": "stream",
     "text": [
      "INFO:httpx:HTTP Request: POST http://localhost:11434/api/chat \"HTTP/1.1 200 OK\"\n",
      "HTTP Request: POST http://localhost:11434/api/chat \"HTTP/1.1 200 OK\"\n",
      "**********\n",
      "Trace: query\n",
      "**********\n"
     ]
    },
    {
     "name": "stderr",
     "output_type": "stream",
     "text": [
      "Clasificando:   2%|▏         | 34/1607 [08:23<6:22:38, 14.60s/it]"
     ]
    }
   ],
   "execution_count": null
  },
  {
   "metadata": {
    "ExecuteTime": {
     "end_time": "2025-05-28T03:33:19.683536Z",
     "start_time": "2025-05-28T03:33:19.667559Z"
    }
   },
   "cell_type": "code",
   "source": [
    "# --- 6. Generar y Mostrar el Reporte ---\n",
    "from sklearn.metrics import precision_score, recall_score, f1_score, multilabel_confusion_matrix, classification_report\n",
    "\n",
    "print(\"\\n--- Reporte de Clasificación (Primeras Muestras de Test) ---\")\n",
    "\n",
    "y_true_multihot = [convert_indices_to_multihot(lst, NUM_LABELS) for lst in df_test_sample['true_labels_indices']]\n",
    "y_pred_multihot = [convert_indices_to_multihot(lst, NUM_LABELS) for lst in df_test_sample['predicted_labels_indices']]\n",
    "\n",
    "print(\"\\nEjemplos de Predicciones (con Razonamiento):\")\n",
    "for i in range(min(10, len(df_test_sample))):\n",
    "    true_names = [label_names_ordered[idx] for idx in df_test_sample['true_labels_indices'].iloc[i]]\n",
    "    reasoning_text = df_test_sample['llm_reasoning'].iloc[i]\n",
    "    pred_final_str = df_test_sample['predicted_final_labels_str'].iloc[i]\n",
    "\n",
    "    clause_id_to_print = df_test_sample['id'].iloc[i] if 'id' in df_test_sample.columns else f\"Fila_{df_test_sample.index[i]}\"\n",
    "\n",
    "    print(f\"Cláusula {i+1} ID: {clause_id_to_print}\")\n",
    "    print(f\"  Texto: {df_test_sample['text'].iloc[i][:100]}...\")\n",
    "    print(f\"  Etiquetas Verdaderas: {true_names if true_names else 'Ninguna'}\")\n",
    "    if reasoning_text:\n",
    "        print(f\"  Razonamiento del LLM:\\n{reasoning_text[:300]}...\\n\") # Mostrar solo una parte del razonamiento\n",
    "    print(f\"  Predicción Final del LLM (Etiquetas): {pred_final_str}\")\n",
    "    print(\"-\" * 20)\n",
    "\n",
    "# Reporte de Clasificación de Scikit-learn\n",
    "# Nota: Para multilabel, target_names debe corresponder a las columnas del y_true_multihot/y_pred_multihot\n",
    "# que son los índices de 0 a NUM_LABELS-1. Los nombres se usarán para mostrar el reporte.\n",
    "try:\n",
    "    report = classification_report(\n",
    "        y_true_multihot,\n",
    "        y_pred_multihot,\n",
    "        target_names=label_names_ordered,\n",
    "        zero_division=0\n",
    "    )\n",
    "    print(\"\\nReporte de Clasificación General (scikit-learn):\")\n",
    "    print(report)\n",
    "except ValueError as ve:\n",
    "    print(f\"\\nError generando el classification_report: {ve}\")\n",
    "    # ... (cálculo de métricas individuales como antes) ...\n",
    "    micro_f1 = f1_score(y_true_multihot, y_pred_multihot, average='micro', zero_division=0)\n",
    "    macro_f1 = f1_score(y_true_multihot, y_pred_multihot, average='macro', zero_division=0)\n",
    "    print(f\"  Micro F1-score: {micro_f1:.4f}\")\n",
    "    print(f\"  Macro F1-score: {macro_f1:.4f}\")\n",
    "\n",
    "exact_match_ratio = sum(\n",
    "    1 for i_match in range(len(y_true_multihot)) if y_true_multihot[i_match] == y_pred_multihot[i_match]\n",
    ") / len(y_true_multihot)\n",
    "print(f\"\\nExact Match Ratio (Precisión de Subconjunto de Etiquetas): {exact_match_ratio:.4f}\")\n",
    "\n",
    "# Opcional: Guardar el DataFrame con los resultados para análisis posterior\n",
    "df_test_sample.to_csv(os.path.join(output_dir, \"test_sample_predictions_with_reasoning.csv\"), index=False)\n",
    "print(f\"\\nResultados detallados (incluyendo razonamiento) guardados en: {os.path.join(output_dir, 'test_sample_predictions_with_reasoning.csv')}\")\n",
    "\n",
    "print(\"\\n--- Fin del Script ---\")"
   ],
   "id": "df9098b427ca6c94",
   "outputs": [
    {
     "name": "stdout",
     "output_type": "stream",
     "text": [
      "\n",
      "--- Reporte de Clasificación (Primeras Muestras de Test) ---\n",
      "\n",
      "Ejemplos de Predicciones (con Razonamiento):\n",
      "Cláusula 1 ID: Fila_0\n",
      "  Texto: last updated date : may 15 , 2017 \n",
      "...\n",
      "  Etiquetas Verdaderas: Ninguna\n",
      "  Razonamiento del LLM:\n",
      "Okay, let's tackle this query. The user wants me to determine which categories of abusive clauses the given clause falls into. The clause in question is \"last updated date : may 15 , 2017 \".\n",
      "\n",
      "First, I need to look at the provided context. There are three existing clauses. The first one mentions the ...\n",
      "\n",
      "  Predicción Final del LLM (Etiquetas): Ninguna\n",
      "--------------------\n",
      "Cláusula 2 ID: Fila_1\n",
      "  Texto: academia , inc. ( `` academia.edu '' or `` we '' ) offers a social networking service which enables ...\n",
      "  Etiquetas Verdaderas: Ninguna\n",
      "  Razonamiento del LLM:\n",
      "Okay, let's tackle this query. The user wants me to determine which categories of abusive clauses the given new clause falls into. The categories are Limitation of liability, Unilateral termination, Unilateral change, Content removal, Contract by using, Choice of law, Jurisdiction, Arbitration.\n",
      "\n",
      "Fir...\n",
      "\n",
      "  Predicción Final del LLM (Etiquetas): Ninguna\n",
      "--------------------\n",
      "Cláusula 3 ID: Fila_2\n",
      "  Texto: please read carefully the following terms and conditions ( `` terms '' ) and our privacy policy , wh...\n",
      "  Etiquetas Verdaderas: Ninguna\n",
      "  Razonamiento del LLM:\n",
      "Okay, let's tackle this. The user wants me to determine which category the new clause falls into based on the provided context. The categories are Limitation of liability, Unilateral termination, Unilateral change, Content removal, Contract by using, Choice of law, Jurisdiction, Arbitration.\n",
      "\n",
      "First,...\n",
      "\n",
      "  Predicción Final del LLM (Etiquetas): Contract by using\n",
      "--------------------\n",
      "Cláusula 4 ID: Fila_3\n",
      "  Texto: these terms govern your access to and use of the site , services and collective content ( defined be...\n",
      "  Etiquetas Verdaderas: Ninguna\n",
      "  Razonamiento del LLM:\n",
      "Okay, let's tackle this. The user wants me to determine which categories of abusive clauses the given clause falls into. The categories are Limitation of liability, Unilateral termination, Unilateral change, Content removal, Contract by using, Choice of law, Jurisdiction, Arbitration.\n",
      "\n",
      "First, I need...\n",
      "\n",
      "  Predicción Final del LLM (Etiquetas): Ninguna\n",
      "--------------------\n",
      "Cláusula 5 ID: Fila_4\n",
      "  Texto: arbitration notice : unless you opt out of arbitration within 30 days of the date you first agree to...\n",
      "  Etiquetas Verdaderas: ['Arbitration']\n",
      "  Razonamiento del LLM:\n",
      "Okay, let's tackle this. The user wants me to determine which categories the new clause falls into based on the provided context. The categories are Limitation of liability, Unilateral termination, Unilateral change, Content removal, Contract by using, Choice of law, Jurisdiction, Arbitration.\n",
      "\n",
      "Firs...\n",
      "\n",
      "  Predicción Final del LLM (Etiquetas): Arbitration\n",
      "--------------------\n",
      "Cláusula 6 ID: Fila_5\n",
      "  Texto: `` content '' means text , graphics , images , music , software , audio , video , information or oth...\n",
      "  Etiquetas Verdaderas: Ninguna\n",
      "  Razonamiento del LLM:\n",
      "Okay, let's tackle this. The user wants me to determine which categories of abusive clauses the given new clause falls into. The categories are Limitation of liability, Unilateral termination, Unilateral change, Content removal, Contract by using, Choice of law, Jurisdiction, Arbitration.\n",
      "\n",
      "First, I ...\n",
      "\n",
      "  Predicción Final del LLM (Etiquetas): Ninguna\n",
      "--------------------\n",
      "Cláusula 7 ID: Fila_6\n",
      "  Texto: `` academia.edu content '' means content that academia.edu makes available through the site or servi...\n",
      "  Etiquetas Verdaderas: Ninguna\n",
      "  Razonamiento del LLM:\n",
      "Okay, let's tackle this. The user wants me to determine which category the new clause falls into based on the provided context. The categories are Limitation of liability, Unilateral termination, Unilateral change, Content removal, Contract by using, Choice of law, Jurisdiction, Arbitration.\n",
      "\n",
      "First,...\n",
      "\n",
      "  Predicción Final del LLM (Etiquetas): Ninguna\n",
      "--------------------\n",
      "Cláusula 8 ID: Fila_7\n",
      "  Texto: `` member '' means a person who completes academia.edu 's account registration process , as describe...\n",
      "  Etiquetas Verdaderas: Ninguna\n",
      "  Razonamiento del LLM:\n",
      "Okay, let's tackle this. The user wants me to determine which of the given categories the new clause falls into. The clause in question is about defining \"member\" on academia.edu. \n",
      "\n",
      "First, I need to look at the provided context. There are three clauses in the context. The first one talks about \"user...\n",
      "\n",
      "  Predicción Final del LLM (Etiquetas): Ninguna\n",
      "--------------------\n",
      "Cláusula 9 ID: Fila_8\n",
      "  Texto: `` member content '' means content that a member posts , uploads , publishes , submits or transmits ...\n",
      "  Etiquetas Verdaderas: Ninguna\n",
      "  Razonamiento del LLM:\n",
      "Okay, let's tackle this. The user provided a new clause and wants to know which of the given categories it falls into. The categories are Limitation of liability, Unilateral termination, Unilateral change, Content removal, Contract by using, Choice of law, Jurisdiction, Arbitration.\n",
      "\n",
      "First, I need t...\n",
      "\n",
      "  Predicción Final del LLM (Etiquetas): Ninguna\n",
      "--------------------\n",
      "Cláusula 10 ID: Fila_9\n",
      "  Texto: `` collective content '' means , collectively , academia.edu content and member content . \n",
      "...\n",
      "  Etiquetas Verdaderas: Ninguna\n",
      "  Razonamiento del LLM:\n",
      "Okay, let's tackle this query. The user wants me to determine which categories of abusive clauses the given new clause falls into. The categories are Limitation of liability, Unilateral termination, Unilateral change, Content removal, Contract by using, Choice of law, Jurisdiction, Arbitration.\n",
      "\n",
      "Fir...\n",
      "\n",
      "  Predicción Final del LLM (Etiquetas): Ninguna\n",
      "--------------------\n",
      "\n",
      "Reporte de Clasificación General (scikit-learn):\n",
      "                         precision    recall  f1-score   support\n",
      "\n",
      "Limitation of liability       0.00      0.00      0.00         0\n",
      " Unilateral termination       0.00      0.00      0.00         0\n",
      "      Unilateral change       0.00      0.00      0.00         0\n",
      "        Content removal       0.00      0.00      0.00         0\n",
      "      Contract by using       0.00      0.00      0.00         0\n",
      "          Choice of law       0.00      0.00      0.00         0\n",
      "           Jurisdiction       0.00      0.00      0.00         0\n",
      "            Arbitration       1.00      1.00      1.00         1\n",
      "\n",
      "              micro avg       0.50      1.00      0.67         1\n",
      "              macro avg       0.12      0.12      0.12         1\n",
      "           weighted avg       1.00      1.00      1.00         1\n",
      "            samples avg       0.10      0.10      0.10         1\n",
      "\n",
      "\n",
      "Exact Match Ratio (Precisión de Subconjunto de Etiquetas): 0.9000\n",
      "\n",
      "Resultados detallados (incluyendo razonamiento) guardados en: unfair_tos_data/test_sample_predictions_with_reasoning.csv\n",
      "\n",
      "--- Fin del Script ---\n"
     ]
    }
   ],
   "execution_count": 29
  },
  {
   "metadata": {},
   "cell_type": "code",
   "outputs": [],
   "execution_count": null,
   "source": "",
   "id": "a98b24688fb568a8"
  }
 ],
 "metadata": {
  "kernelspec": {
   "display_name": "Python 3",
   "language": "python",
   "name": "python3"
  },
  "language_info": {
   "codemirror_mode": {
    "name": "ipython",
    "version": 2
   },
   "file_extension": ".py",
   "mimetype": "text/x-python",
   "name": "python",
   "nbconvert_exporter": "python",
   "pygments_lexer": "ipython2",
   "version": "2.7.6"
  }
 },
 "nbformat": 4,
 "nbformat_minor": 5
}
